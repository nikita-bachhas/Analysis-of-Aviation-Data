{
 "cells": [
  {
   "cell_type": "markdown",
   "metadata": {},
   "source": [
    "# DSAI Mini Project "
   ]
  },
  {
   "cell_type": "markdown",
   "metadata": {},
   "source": [
    "### Importing essential Python libraries"
   ]
  },
  {
   "cell_type": "code",
   "execution_count": 1,
   "metadata": {},
   "outputs": [],
   "source": [
    "# Basic Libraries\n",
    "import numpy as np\n",
    "import pandas as pd\n",
    "import seaborn as sb\n",
    "import matplotlib.pyplot as plt\n",
    "sb.set()\n",
    "import statsmodels.api as sm\n",
    "%matplotlib inline\n",
    "\n",
    "import os"
   ]
  },
  {
   "cell_type": "markdown",
   "metadata": {},
   "source": [
    "### Importing the Aviation Crash Dataset\n",
    "\n",
    "#### This dataset has been edited and cleaned up before usage"
   ]
  },
  {
   "cell_type": "code",
   "execution_count": 2,
   "metadata": {
    "scrolled": false
   },
   "outputs": [
    {
     "data": {
      "text/html": [
       "<div>\n",
       "<style scoped>\n",
       "    .dataframe tbody tr th:only-of-type {\n",
       "        vertical-align: middle;\n",
       "    }\n",
       "\n",
       "    .dataframe tbody tr th {\n",
       "        vertical-align: top;\n",
       "    }\n",
       "\n",
       "    .dataframe thead th {\n",
       "        text-align: right;\n",
       "    }\n",
       "</style>\n",
       "<table border=\"1\" class=\"dataframe\">\n",
       "  <thead>\n",
       "    <tr style=\"text-align: right;\">\n",
       "      <th></th>\n",
       "      <th>Event.Id</th>\n",
       "      <th>Investigation.Type</th>\n",
       "      <th>Accident.Number</th>\n",
       "      <th>Event.Date</th>\n",
       "      <th>Location</th>\n",
       "      <th>Country</th>\n",
       "      <th>Latitude</th>\n",
       "      <th>Longitude</th>\n",
       "      <th>Airport.Code</th>\n",
       "      <th>Airport.Name</th>\n",
       "      <th>...</th>\n",
       "      <th>Purpose.of.Flight</th>\n",
       "      <th>Air.Carrier</th>\n",
       "      <th>Total.Fatal.Injuries</th>\n",
       "      <th>Total.Serious.Injuries</th>\n",
       "      <th>Total.Minor.Injuries</th>\n",
       "      <th>Total.Uninjured</th>\n",
       "      <th>Weather.Condition</th>\n",
       "      <th>Broad.Phase.of.Flight</th>\n",
       "      <th>Report.Status</th>\n",
       "      <th>Fatality</th>\n",
       "    </tr>\n",
       "  </thead>\n",
       "  <tbody>\n",
       "    <tr>\n",
       "      <th>0</th>\n",
       "      <td>20170308X94158</td>\n",
       "      <td>Accident</td>\n",
       "      <td>ERA17LA125</td>\n",
       "      <td>8/3/2017</td>\n",
       "      <td>Abbeville, AL</td>\n",
       "      <td>United States</td>\n",
       "      <td>31.594166</td>\n",
       "      <td>-85.237777</td>\n",
       "      <td>0J0</td>\n",
       "      <td>Abbeville Municipal Airport</td>\n",
       "      <td>...</td>\n",
       "      <td>Instructional</td>\n",
       "      <td>NaN</td>\n",
       "      <td>0</td>\n",
       "      <td>2</td>\n",
       "      <td>0</td>\n",
       "      <td>0</td>\n",
       "      <td>VMC</td>\n",
       "      <td>APPROACH</td>\n",
       "      <td>Preliminary</td>\n",
       "      <td>0</td>\n",
       "    </tr>\n",
       "    <tr>\n",
       "      <th>1</th>\n",
       "      <td>20001212X21242</td>\n",
       "      <td>Accident</td>\n",
       "      <td>FTW00LA223</td>\n",
       "      <td>29/6/2000</td>\n",
       "      <td>Abbeville, LA</td>\n",
       "      <td>United States</td>\n",
       "      <td>29.851333</td>\n",
       "      <td>-92.162555</td>\n",
       "      <td>0R3</td>\n",
       "      <td>Abbeville Chris Crusta</td>\n",
       "      <td>...</td>\n",
       "      <td>Personal</td>\n",
       "      <td>NaN</td>\n",
       "      <td>0</td>\n",
       "      <td>0</td>\n",
       "      <td>0</td>\n",
       "      <td>1</td>\n",
       "      <td>VMC</td>\n",
       "      <td>LANDING</td>\n",
       "      <td>Probable Cause</td>\n",
       "      <td>0</td>\n",
       "    </tr>\n",
       "    <tr>\n",
       "      <th>2</th>\n",
       "      <td>20080509X00643</td>\n",
       "      <td>Accident</td>\n",
       "      <td>DFW08LA089B</td>\n",
       "      <td>28/3/2008</td>\n",
       "      <td>Abbeville, LA</td>\n",
       "      <td>United States</td>\n",
       "      <td>29.945555</td>\n",
       "      <td>-92.146944</td>\n",
       "      <td>NaN</td>\n",
       "      <td>Abbeville Chris Crusta</td>\n",
       "      <td>...</td>\n",
       "      <td>Aerial Application</td>\n",
       "      <td>NaN</td>\n",
       "      <td>0</td>\n",
       "      <td>0</td>\n",
       "      <td>0</td>\n",
       "      <td>2</td>\n",
       "      <td>VMC</td>\n",
       "      <td>APPROACH</td>\n",
       "      <td>Probable Cause</td>\n",
       "      <td>0</td>\n",
       "    </tr>\n",
       "    <tr>\n",
       "      <th>3</th>\n",
       "      <td>20080509X00643</td>\n",
       "      <td>Accident</td>\n",
       "      <td>DFW08LA089A</td>\n",
       "      <td>28/3/2008</td>\n",
       "      <td>Abbeville, LA</td>\n",
       "      <td>United States</td>\n",
       "      <td>29.945555</td>\n",
       "      <td>-92.146944</td>\n",
       "      <td>NaN</td>\n",
       "      <td>Abbeville Chris Crusta</td>\n",
       "      <td>...</td>\n",
       "      <td>Personal</td>\n",
       "      <td>NaN</td>\n",
       "      <td>0</td>\n",
       "      <td>0</td>\n",
       "      <td>0</td>\n",
       "      <td>2</td>\n",
       "      <td>VMC</td>\n",
       "      <td>APPROACH</td>\n",
       "      <td>Probable Cause</td>\n",
       "      <td>0</td>\n",
       "    </tr>\n",
       "    <tr>\n",
       "      <th>4</th>\n",
       "      <td>20081007X93846</td>\n",
       "      <td>Accident</td>\n",
       "      <td>DFW08CA207</td>\n",
       "      <td>14/8/2008</td>\n",
       "      <td>Abbeville, LA</td>\n",
       "      <td>United States</td>\n",
       "      <td>29.975556</td>\n",
       "      <td>-92.083889</td>\n",
       "      <td>NaN</td>\n",
       "      <td>Abbeville Chris Crusta</td>\n",
       "      <td>...</td>\n",
       "      <td>Instructional</td>\n",
       "      <td>NaN</td>\n",
       "      <td>0</td>\n",
       "      <td>0</td>\n",
       "      <td>1</td>\n",
       "      <td>2</td>\n",
       "      <td>VMC</td>\n",
       "      <td>TAKEOFF</td>\n",
       "      <td>Probable Cause</td>\n",
       "      <td>0</td>\n",
       "    </tr>\n",
       "    <tr>\n",
       "      <th>...</th>\n",
       "      <td>...</td>\n",
       "      <td>...</td>\n",
       "      <td>...</td>\n",
       "      <td>...</td>\n",
       "      <td>...</td>\n",
       "      <td>...</td>\n",
       "      <td>...</td>\n",
       "      <td>...</td>\n",
       "      <td>...</td>\n",
       "      <td>...</td>\n",
       "      <td>...</td>\n",
       "      <td>...</td>\n",
       "      <td>...</td>\n",
       "      <td>...</td>\n",
       "      <td>...</td>\n",
       "      <td>...</td>\n",
       "      <td>...</td>\n",
       "      <td>...</td>\n",
       "      <td>...</td>\n",
       "      <td>...</td>\n",
       "      <td>...</td>\n",
       "    </tr>\n",
       "    <tr>\n",
       "      <th>24909</th>\n",
       "      <td>20010621X01229</td>\n",
       "      <td>Accident</td>\n",
       "      <td>SEA01LA119</td>\n",
       "      <td>16/6/2001</td>\n",
       "      <td>Zillah, WA</td>\n",
       "      <td>United States</td>\n",
       "      <td>46.456111</td>\n",
       "      <td>-120.264444</td>\n",
       "      <td>68WA</td>\n",
       "      <td>MC MAHON FIELD</td>\n",
       "      <td>...</td>\n",
       "      <td>Personal</td>\n",
       "      <td>NaN</td>\n",
       "      <td>0</td>\n",
       "      <td>0</td>\n",
       "      <td>2</td>\n",
       "      <td>0</td>\n",
       "      <td>VMC</td>\n",
       "      <td>LANDING</td>\n",
       "      <td>Probable Cause</td>\n",
       "      <td>0</td>\n",
       "    </tr>\n",
       "    <tr>\n",
       "      <th>24910</th>\n",
       "      <td>20091130X93208</td>\n",
       "      <td>Accident</td>\n",
       "      <td>WPR10LA069</td>\n",
       "      <td>29/11/2009</td>\n",
       "      <td>Zillah, WA</td>\n",
       "      <td>United States</td>\n",
       "      <td>46.456111</td>\n",
       "      <td>-120.264444</td>\n",
       "      <td>NaN</td>\n",
       "      <td>NaN</td>\n",
       "      <td>...</td>\n",
       "      <td>Personal</td>\n",
       "      <td>NaN</td>\n",
       "      <td>0</td>\n",
       "      <td>1</td>\n",
       "      <td>0</td>\n",
       "      <td>0</td>\n",
       "      <td>VMC</td>\n",
       "      <td>MANEUVERING</td>\n",
       "      <td>Probable Cause</td>\n",
       "      <td>0</td>\n",
       "    </tr>\n",
       "    <tr>\n",
       "      <th>24911</th>\n",
       "      <td>20160422X22121</td>\n",
       "      <td>Accident</td>\n",
       "      <td>CEN16LA163</td>\n",
       "      <td>21/4/2016</td>\n",
       "      <td>Zionsville, IN</td>\n",
       "      <td>United States</td>\n",
       "      <td>40.030556</td>\n",
       "      <td>-86.251389</td>\n",
       "      <td>TYQ</td>\n",
       "      <td>Indianapolis Executive Airport</td>\n",
       "      <td>...</td>\n",
       "      <td>Instructional</td>\n",
       "      <td>NaN</td>\n",
       "      <td>0</td>\n",
       "      <td>0</td>\n",
       "      <td>2</td>\n",
       "      <td>0</td>\n",
       "      <td>VMC</td>\n",
       "      <td>GO-AROUND</td>\n",
       "      <td>Probable Cause</td>\n",
       "      <td>0</td>\n",
       "    </tr>\n",
       "    <tr>\n",
       "      <th>24912</th>\n",
       "      <td>20030718X01152</td>\n",
       "      <td>Accident</td>\n",
       "      <td>SEA03LA140</td>\n",
       "      <td>15/7/2003</td>\n",
       "      <td>Zurich, MT</td>\n",
       "      <td>United States</td>\n",
       "      <td>48.630556</td>\n",
       "      <td>-109.031389</td>\n",
       "      <td>NaN</td>\n",
       "      <td>NaN</td>\n",
       "      <td>...</td>\n",
       "      <td>Aerial Observation</td>\n",
       "      <td>NaN</td>\n",
       "      <td>0</td>\n",
       "      <td>2</td>\n",
       "      <td>0</td>\n",
       "      <td>0</td>\n",
       "      <td>VMC</td>\n",
       "      <td>MANEUVERING</td>\n",
       "      <td>Probable Cause</td>\n",
       "      <td>0</td>\n",
       "    </tr>\n",
       "    <tr>\n",
       "      <th>24913</th>\n",
       "      <td>20100730X21508</td>\n",
       "      <td>Accident</td>\n",
       "      <td>CEN10CA445</td>\n",
       "      <td>28/7/2010</td>\n",
       "      <td>Zwingle, IA</td>\n",
       "      <td>United States</td>\n",
       "      <td>42.238611</td>\n",
       "      <td>-90.710278</td>\n",
       "      <td>NaN</td>\n",
       "      <td>NaN</td>\n",
       "      <td>...</td>\n",
       "      <td>Aerial Application</td>\n",
       "      <td>NaN</td>\n",
       "      <td>0</td>\n",
       "      <td>0</td>\n",
       "      <td>1</td>\n",
       "      <td>0</td>\n",
       "      <td>VMC</td>\n",
       "      <td>MANEUVERING</td>\n",
       "      <td>Probable Cause</td>\n",
       "      <td>0</td>\n",
       "    </tr>\n",
       "  </tbody>\n",
       "</table>\n",
       "<p>24914 rows × 31 columns</p>\n",
       "</div>"
      ],
      "text/plain": [
       "             Event.Id Investigation.Type Accident.Number  Event.Date  \\\n",
       "0      20170308X94158           Accident      ERA17LA125    8/3/2017   \n",
       "1      20001212X21242           Accident      FTW00LA223   29/6/2000   \n",
       "2      20080509X00643           Accident     DFW08LA089B   28/3/2008   \n",
       "3      20080509X00643           Accident     DFW08LA089A   28/3/2008   \n",
       "4      20081007X93846           Accident      DFW08CA207   14/8/2008   \n",
       "...               ...                ...             ...         ...   \n",
       "24909  20010621X01229           Accident      SEA01LA119   16/6/2001   \n",
       "24910  20091130X93208           Accident      WPR10LA069  29/11/2009   \n",
       "24911  20160422X22121           Accident      CEN16LA163   21/4/2016   \n",
       "24912  20030718X01152           Accident      SEA03LA140   15/7/2003   \n",
       "24913  20100730X21508           Accident      CEN10CA445   28/7/2010   \n",
       "\n",
       "             Location        Country   Latitude   Longitude Airport.Code  \\\n",
       "0       Abbeville, AL  United States  31.594166  -85.237777          0J0   \n",
       "1       Abbeville, LA  United States  29.851333  -92.162555          0R3   \n",
       "2       Abbeville, LA  United States  29.945555  -92.146944          NaN   \n",
       "3       Abbeville, LA  United States  29.945555  -92.146944          NaN   \n",
       "4       Abbeville, LA  United States  29.975556  -92.083889          NaN   \n",
       "...               ...            ...        ...         ...          ...   \n",
       "24909      Zillah, WA  United States  46.456111 -120.264444         68WA   \n",
       "24910      Zillah, WA  United States  46.456111 -120.264444          NaN   \n",
       "24911  Zionsville, IN  United States  40.030556  -86.251389          TYQ   \n",
       "24912      Zurich, MT  United States  48.630556 -109.031389          NaN   \n",
       "24913     Zwingle, IA  United States  42.238611  -90.710278          NaN   \n",
       "\n",
       "                         Airport.Name  ...   Purpose.of.Flight Air.Carrier  \\\n",
       "0         Abbeville Municipal Airport  ...       Instructional         NaN   \n",
       "1              Abbeville Chris Crusta  ...            Personal         NaN   \n",
       "2              Abbeville Chris Crusta  ...  Aerial Application         NaN   \n",
       "3              Abbeville Chris Crusta  ...            Personal         NaN   \n",
       "4              Abbeville Chris Crusta  ...       Instructional         NaN   \n",
       "...                               ...  ...                 ...         ...   \n",
       "24909                  MC MAHON FIELD  ...            Personal         NaN   \n",
       "24910                             NaN  ...            Personal         NaN   \n",
       "24911  Indianapolis Executive Airport  ...       Instructional         NaN   \n",
       "24912                             NaN  ...  Aerial Observation         NaN   \n",
       "24913                             NaN  ...  Aerial Application         NaN   \n",
       "\n",
       "      Total.Fatal.Injuries Total.Serious.Injuries Total.Minor.Injuries  \\\n",
       "0                        0                      2                    0   \n",
       "1                        0                      0                    0   \n",
       "2                        0                      0                    0   \n",
       "3                        0                      0                    0   \n",
       "4                        0                      0                    1   \n",
       "...                    ...                    ...                  ...   \n",
       "24909                    0                      0                    2   \n",
       "24910                    0                      1                    0   \n",
       "24911                    0                      0                    2   \n",
       "24912                    0                      2                    0   \n",
       "24913                    0                      0                    1   \n",
       "\n",
       "      Total.Uninjured Weather.Condition  Broad.Phase.of.Flight  \\\n",
       "0                   0               VMC               APPROACH   \n",
       "1                   1               VMC                LANDING   \n",
       "2                   2               VMC               APPROACH   \n",
       "3                   2               VMC               APPROACH   \n",
       "4                   2               VMC                TAKEOFF   \n",
       "...               ...               ...                    ...   \n",
       "24909               0               VMC                LANDING   \n",
       "24910               0               VMC            MANEUVERING   \n",
       "24911               0               VMC              GO-AROUND   \n",
       "24912               0               VMC            MANEUVERING   \n",
       "24913               0               VMC            MANEUVERING   \n",
       "\n",
       "        Report.Status Fatality  \n",
       "0         Preliminary        0  \n",
       "1      Probable Cause        0  \n",
       "2      Probable Cause        0  \n",
       "3      Probable Cause        0  \n",
       "4      Probable Cause        0  \n",
       "...               ...      ...  \n",
       "24909  Probable Cause        0  \n",
       "24910  Probable Cause        0  \n",
       "24911  Probable Cause        0  \n",
       "24912  Probable Cause        0  \n",
       "24913  Probable Cause        0  \n",
       "\n",
       "[24914 rows x 31 columns]"
      ]
     },
     "execution_count": 2,
     "metadata": {},
     "output_type": "execute_result"
    }
   ],
   "source": [
    "data = pd.read_csv('AviationData(Final).csv', encoding = 'ISO-8859-1')\n",
    "data"
   ]
  },
  {
   "cell_type": "markdown",
   "metadata": {},
   "source": [
    "## Data Preperation"
   ]
  },
  {
   "cell_type": "markdown",
   "metadata": {},
   "source": [
    "#### The variable \"Make\" contains many variables which refer to the same make of a plane, but are named differently. Additional cleanup and edits are made to correct this."
   ]
  },
  {
   "cell_type": "code",
   "execution_count": 3,
   "metadata": {},
   "outputs": [],
   "source": [
    "adata = data.copy()\n",
    "import re"
   ]
  },
  {
   "cell_type": "code",
   "execution_count": 4,
   "metadata": {},
   "outputs": [],
   "source": [
    "adata['Make'] = adata['Make'].str.upper()\n",
    "adata['Make'] = adata['Make'].str.replace(\".\",\"\")\n",
    "adata['Make'] = adata['Make'].str.replace(\" \",\"_\")"
   ]
  },
  {
   "cell_type": "code",
   "execution_count": 5,
   "metadata": {},
   "outputs": [],
   "source": [
    "adata['Make'] = adata['Make'].str.replace(\"_INC\",\"\")\n",
    "adata['Make'] = adata['Make'].str.replace(\"_CORP\",\"\")\n",
    "adata['Make'] = adata['Make'].str.replace(\"_COMPANY\",\"\")"
   ]
  },
  {
   "cell_type": "code",
   "execution_count": 6,
   "metadata": {},
   "outputs": [
    {
     "data": {
      "text/plain": [
       "count      24911\n",
       "unique      3783\n",
       "top       CESSNA\n",
       "freq        7245\n",
       "Name: Make, dtype: object"
      ]
     },
     "execution_count": 6,
     "metadata": {},
     "output_type": "execute_result"
    }
   ],
   "source": [
    "adata[\"Make\"].describe() #reduced about 500 duplicate names"
   ]
  },
  {
   "cell_type": "code",
   "execution_count": 7,
   "metadata": {},
   "outputs": [
    {
     "data": {
      "text/plain": [
       "CESSNA                 0.290835\n",
       "PIPER                  0.164666\n",
       "BEECH                  0.058488\n",
       "BELL                   0.023042\n",
       "MOONEY                 0.016740\n",
       "AIR_TRACTION           0.015656\n",
       "ROBINSON               0.015254\n",
       "ROBINSON_HELICOPTER    0.010879\n",
       "BELLANCA               0.010758\n",
       "MAULE                  0.008952\n",
       "HUGHES                 0.008550\n",
       "AERONCA                0.008189\n",
       "CIRRUS_DESIGN          0.007748\n",
       "GRUMMAN                0.006744\n",
       "LUSCOMBE               0.006463\n",
       "Name: Make, dtype: float64"
      ]
     },
     "execution_count": 7,
     "metadata": {},
     "output_type": "execute_result"
    }
   ],
   "source": [
    "adata['Make'].value_counts(normalize=True).head(15) #only top 9 make up at least 1% each"
   ]
  },
  {
   "cell_type": "markdown",
   "metadata": {},
   "source": [
    "#### As only the top 9 categories make up at least 1% of the entire dataset, all other categories will be combined into \"Others\""
   ]
  },
  {
   "cell_type": "code",
   "execution_count": 8,
   "metadata": {},
   "outputs": [
    {
     "data": {
      "text/html": [
       "<div>\n",
       "<style scoped>\n",
       "    .dataframe tbody tr th:only-of-type {\n",
       "        vertical-align: middle;\n",
       "    }\n",
       "\n",
       "    .dataframe tbody tr th {\n",
       "        vertical-align: top;\n",
       "    }\n",
       "\n",
       "    .dataframe thead th {\n",
       "        text-align: right;\n",
       "    }\n",
       "</style>\n",
       "<table border=\"1\" class=\"dataframe\">\n",
       "  <thead>\n",
       "    <tr style=\"text-align: right;\">\n",
       "      <th></th>\n",
       "      <th>0</th>\n",
       "    </tr>\n",
       "  </thead>\n",
       "  <tbody>\n",
       "    <tr>\n",
       "      <th>CESSNA</th>\n",
       "      <td>0.290835</td>\n",
       "    </tr>\n",
       "    <tr>\n",
       "      <th>PIPER</th>\n",
       "      <td>0.164666</td>\n",
       "    </tr>\n",
       "    <tr>\n",
       "      <th>BEECH</th>\n",
       "      <td>0.058488</td>\n",
       "    </tr>\n",
       "    <tr>\n",
       "      <th>BELL</th>\n",
       "      <td>0.023042</td>\n",
       "    </tr>\n",
       "    <tr>\n",
       "      <th>MOONEY</th>\n",
       "      <td>0.016740</td>\n",
       "    </tr>\n",
       "    <tr>\n",
       "      <th>AIR_TRACTION</th>\n",
       "      <td>0.015656</td>\n",
       "    </tr>\n",
       "    <tr>\n",
       "      <th>ROBINSON</th>\n",
       "      <td>0.015254</td>\n",
       "    </tr>\n",
       "    <tr>\n",
       "      <th>ROBINSON_HELICOPTER</th>\n",
       "      <td>0.010879</td>\n",
       "    </tr>\n",
       "    <tr>\n",
       "      <th>BELLANCA</th>\n",
       "      <td>0.010758</td>\n",
       "    </tr>\n",
       "    <tr>\n",
       "      <th>OTHERS</th>\n",
       "      <td>0.393682</td>\n",
       "    </tr>\n",
       "  </tbody>\n",
       "</table>\n",
       "</div>"
      ],
      "text/plain": [
       "                            0\n",
       "CESSNA               0.290835\n",
       "PIPER                0.164666\n",
       "BEECH                0.058488\n",
       "BELL                 0.023042\n",
       "MOONEY               0.016740\n",
       "AIR_TRACTION         0.015656\n",
       "ROBINSON             0.015254\n",
       "ROBINSON_HELICOPTER  0.010879\n",
       "BELLANCA             0.010758\n",
       "OTHERS               0.393682"
      ]
     },
     "execution_count": 8,
     "metadata": {},
     "output_type": "execute_result"
    }
   ],
   "source": [
    "count = 0\n",
    "make_list_clean = adata[\"Make\"].value_counts(normalize=True).head(9) #only include 'Makes' that is at least 1% of total\n",
    "for i in make_list_clean:\n",
    "    count += i\n",
    "count = 1 - count # total percentage of 'Makes' that make up less than 1% of total\n",
    "data = [[count]]\n",
    "df = pd.DataFrame(data,index=['OTHERS'])\n",
    "make_list_clean.append(df)"
   ]
  },
  {
   "cell_type": "code",
   "execution_count": 9,
   "metadata": {
    "scrolled": true
   },
   "outputs": [
    {
     "data": {
      "text/plain": [
       "['CESSNA',\n",
       " 'PIPER',\n",
       " 'BEECH',\n",
       " 'BELL',\n",
       " 'MOONEY',\n",
       " 'AIR_TRACTION',\n",
       " 'ROBINSON',\n",
       " 'ROBINSON_HELICOPTER',\n",
       " 'BELLANCA']"
      ]
     },
     "execution_count": 9,
     "metadata": {},
     "output_type": "execute_result"
    }
   ],
   "source": [
    "make_list_clean = make_list_clean.index.tolist()\n",
    "make_list_clean"
   ]
  },
  {
   "cell_type": "code",
   "execution_count": 10,
   "metadata": {},
   "outputs": [
    {
     "name": "stderr",
     "output_type": "stream",
     "text": [
      "C:\\Users\\jinha\\anaconda3\\lib\\site-packages\\ipykernel_launcher.py:3: SettingWithCopyWarning: \n",
      "A value is trying to be set on a copy of a slice from a DataFrame\n",
      "\n",
      "See the caveats in the documentation: https://pandas.pydata.org/pandas-docs/stable/user_guide/indexing.html#returning-a-view-versus-a-copy\n",
      "  This is separate from the ipykernel package so we can avoid doing imports until\n"
     ]
    }
   ],
   "source": [
    "for i in range(0,24914): #size of df is 24914\n",
    "    if adata['Make'][i] not in make_list_clean:\n",
    "        adata['Make'][i] = \"OTHERS\""
   ]
  },
  {
   "cell_type": "code",
   "execution_count": 11,
   "metadata": {
    "scrolled": false
   },
   "outputs": [
    {
     "name": "stdout",
     "output_type": "stream",
     "text": [
      "count      24914\n",
      "unique        10\n",
      "top       OTHERS\n",
      "freq        9810\n",
      "Name: Make, dtype: object\n"
     ]
    }
   ],
   "source": [
    "print(adata['Make'].describe()) #now only 10 variables"
   ]
  },
  {
   "cell_type": "markdown",
   "metadata": {},
   "source": [
    "## Statistical Description & Exploratory Analysis"
   ]
  },
  {
   "cell_type": "code",
   "execution_count": 12,
   "metadata": {},
   "outputs": [
    {
     "name": "stdout",
     "output_type": "stream",
     "text": [
      "<class 'pandas.core.frame.DataFrame'>\n",
      "RangeIndex: 24914 entries, 0 to 24913\n",
      "Data columns (total 31 columns):\n",
      " #   Column                  Non-Null Count  Dtype  \n",
      "---  ------                  --------------  -----  \n",
      " 0   Event.Id                24914 non-null  object \n",
      " 1   Investigation.Type      24914 non-null  object \n",
      " 2   Accident.Number         24914 non-null  object \n",
      " 3   Event.Date              24914 non-null  object \n",
      " 4   Location                24914 non-null  object \n",
      " 5   Country                 24914 non-null  object \n",
      " 6   Latitude                24914 non-null  float64\n",
      " 7   Longitude               24914 non-null  float64\n",
      " 8   Airport.Code            17701 non-null  object \n",
      " 9   Airport.Name            18200 non-null  object \n",
      " 10  Injury.Severity         24914 non-null  object \n",
      " 11  Aircraft.Damage         24751 non-null  object \n",
      " 12  Aircraft.Category       15800 non-null  object \n",
      " 13  Registration.Number     24906 non-null  object \n",
      " 14  Make                    24914 non-null  object \n",
      " 15  Model                   24912 non-null  object \n",
      " 16  Amateur.Built           24876 non-null  object \n",
      " 17  Number.of.Engines       24914 non-null  int64  \n",
      " 18  Engine.Type             24914 non-null  object \n",
      " 19  FAR.Description         15861 non-null  object \n",
      " 20  Schedule                135 non-null    object \n",
      " 21  Purpose.of.Flight       24914 non-null  object \n",
      " 22  Air.Carrier             4 non-null      object \n",
      " 23  Total.Fatal.Injuries    24914 non-null  int64  \n",
      " 24  Total.Serious.Injuries  24914 non-null  int64  \n",
      " 25  Total.Minor.Injuries    24914 non-null  int64  \n",
      " 26  Total.Uninjured         24914 non-null  int64  \n",
      " 27  Weather.Condition       24914 non-null  object \n",
      " 28  Broad.Phase.of.Flight   24914 non-null  object \n",
      " 29  Report.Status           24914 non-null  object \n",
      " 30  Fatality                24914 non-null  int64  \n",
      "dtypes: float64(2), int64(6), object(23)\n",
      "memory usage: 5.9+ MB\n"
     ]
    }
   ],
   "source": [
    "adata.info()"
   ]
  },
  {
   "cell_type": "markdown",
   "metadata": {},
   "source": [
    "#### Out of all the variables, we have decided that \"Latitude/Longitude\", \"Airport Name\", \"Make\", \"Number of Engines\", \"Engine Type\", \"Purpose of Flight\", \"Weather Condition\" and \"Broad Phase of Flight\" may be able to influence whether a plane crash is fatal or not.\n",
    "\n",
    "#### Other than \"Latitude/Longitude\", all other variables chosen above are categorical. They are nominal in nature, i.e. they have no concept of ordering amongst the values they attribute"
   ]
  },
  {
   "cell_type": "markdown",
   "metadata": {},
   "source": [
    "### Extraction of Variables"
   ]
  },
  {
   "cell_type": "code",
   "execution_count": 13,
   "metadata": {},
   "outputs": [],
   "source": [
    "name = pd.DataFrame(adata['Airport.Name'])\n",
    "make = pd.DataFrame(adata['Make'])\n",
    "NOE = pd.DataFrame(adata['Number.of.Engines'])\n",
    "enginetype = pd.DataFrame(adata['Engine.Type'])\n",
    "purpose = pd.DataFrame(adata['Purpose.of.Flight'])\n",
    "weather = pd.DataFrame(adata['Weather.Condition'])\n",
    "phase = pd.DataFrame(adata['Broad.Phase.of.Flight'])\n",
    "fatal = pd.DataFrame(adata['Fatality'])"
   ]
  },
  {
   "cell_type": "markdown",
   "metadata": {},
   "source": [
    "### Fatality"
   ]
  },
  {
   "cell_type": "code",
   "execution_count": 14,
   "metadata": {},
   "outputs": [
    {
     "data": {
      "text/html": [
       "<div>\n",
       "<style scoped>\n",
       "    .dataframe tbody tr th:only-of-type {\n",
       "        vertical-align: middle;\n",
       "    }\n",
       "\n",
       "    .dataframe tbody tr th {\n",
       "        vertical-align: top;\n",
       "    }\n",
       "\n",
       "    .dataframe thead th {\n",
       "        text-align: right;\n",
       "    }\n",
       "</style>\n",
       "<table border=\"1\" class=\"dataframe\">\n",
       "  <thead>\n",
       "    <tr style=\"text-align: right;\">\n",
       "      <th></th>\n",
       "      <th>Fatality</th>\n",
       "    </tr>\n",
       "  </thead>\n",
       "  <tbody>\n",
       "    <tr>\n",
       "      <th>count</th>\n",
       "      <td>24914.000000</td>\n",
       "    </tr>\n",
       "    <tr>\n",
       "      <th>mean</th>\n",
       "      <td>0.177009</td>\n",
       "    </tr>\n",
       "    <tr>\n",
       "      <th>std</th>\n",
       "      <td>0.381684</td>\n",
       "    </tr>\n",
       "    <tr>\n",
       "      <th>min</th>\n",
       "      <td>0.000000</td>\n",
       "    </tr>\n",
       "    <tr>\n",
       "      <th>25%</th>\n",
       "      <td>0.000000</td>\n",
       "    </tr>\n",
       "    <tr>\n",
       "      <th>50%</th>\n",
       "      <td>0.000000</td>\n",
       "    </tr>\n",
       "    <tr>\n",
       "      <th>75%</th>\n",
       "      <td>0.000000</td>\n",
       "    </tr>\n",
       "    <tr>\n",
       "      <th>max</th>\n",
       "      <td>1.000000</td>\n",
       "    </tr>\n",
       "  </tbody>\n",
       "</table>\n",
       "</div>"
      ],
      "text/plain": [
       "           Fatality\n",
       "count  24914.000000\n",
       "mean       0.177009\n",
       "std        0.381684\n",
       "min        0.000000\n",
       "25%        0.000000\n",
       "50%        0.000000\n",
       "75%        0.000000\n",
       "max        1.000000"
      ]
     },
     "execution_count": 14,
     "metadata": {},
     "output_type": "execute_result"
    }
   ],
   "source": [
    "fatal.describe()"
   ]
  },
  {
   "cell_type": "code",
   "execution_count": 15,
   "metadata": {},
   "outputs": [
    {
     "name": "stdout",
     "output_type": "stream",
     "text": [
      "0    20504\n",
      "1     4410\n",
      "Name: Fatality, dtype: int64\n"
     ]
    },
    {
     "data": {
      "text/plain": [
       "<seaborn.axisgrid.FacetGrid at 0x2a2138b4348>"
      ]
     },
     "execution_count": 15,
     "metadata": {},
     "output_type": "execute_result"
    },
    {
     "data": {
      "image/png": "[encoded data removed]",
      "text/plain": [
       "<Figure size 360x360 with 1 Axes>"
      ]
     },
     "metadata": {
      "needs_background": "light"
     },
     "output_type": "display_data"
    }
   ],
   "source": [
    "print(adata[\"Fatality\"].value_counts())\n",
    "sb.catplot(y = \"Fatality\", data = adata, kind = 'count')"
   ]
  },
  {
   "cell_type": "markdown",
   "metadata": {},
   "source": [
    "#### Total.Fatal.Injuries is a categorical variable, with \"0\" standing for no fatality and \"1\" standing for presence of fatality in the plane crash.\n",
    "\n",
    "#### As shown in the graph above, there are much more instances of \"0\" than \"1\". This may result in class imbalance."
   ]
  },
  {
   "cell_type": "markdown",
   "metadata": {},
   "source": [
    "### Airport Name"
   ]
  },
  {
   "cell_type": "code",
   "execution_count": 16,
   "metadata": {},
   "outputs": [
    {
     "data": {
      "text/html": [
       "<div>\n",
       "<style scoped>\n",
       "    .dataframe tbody tr th:only-of-type {\n",
       "        vertical-align: middle;\n",
       "    }\n",
       "\n",
       "    .dataframe tbody tr th {\n",
       "        vertical-align: top;\n",
       "    }\n",
       "\n",
       "    .dataframe thead th {\n",
       "        text-align: right;\n",
       "    }\n",
       "</style>\n",
       "<table border=\"1\" class=\"dataframe\">\n",
       "  <thead>\n",
       "    <tr style=\"text-align: right;\">\n",
       "      <th></th>\n",
       "      <th>Airport.Name</th>\n",
       "    </tr>\n",
       "  </thead>\n",
       "  <tbody>\n",
       "    <tr>\n",
       "      <th>count</th>\n",
       "      <td>18200</td>\n",
       "    </tr>\n",
       "    <tr>\n",
       "      <th>unique</th>\n",
       "      <td>10209</td>\n",
       "    </tr>\n",
       "    <tr>\n",
       "      <th>top</th>\n",
       "      <td>Private</td>\n",
       "    </tr>\n",
       "    <tr>\n",
       "      <th>freq</th>\n",
       "      <td>183</td>\n",
       "    </tr>\n",
       "  </tbody>\n",
       "</table>\n",
       "</div>"
      ],
      "text/plain": [
       "       Airport.Name\n",
       "count         18200\n",
       "unique        10209\n",
       "top         Private\n",
       "freq            183"
      ]
     },
     "execution_count": 16,
     "metadata": {},
     "output_type": "execute_result"
    }
   ],
   "source": [
    "name.describe()"
   ]
  },
  {
   "cell_type": "markdown",
   "metadata": {},
   "source": [
    "#### Most crashes happen from take-off from private airports, i.e. crashes are not commercial in nature.\n",
    "\n",
    "#### We have decided not to use the name of the airport because there are too many unique airport (23862) to even provide any useful data for prediction"
   ]
  },
  {
   "cell_type": "markdown",
   "metadata": {},
   "source": [
    "### Make"
   ]
  },
  {
   "cell_type": "code",
   "execution_count": 17,
   "metadata": {},
   "outputs": [
    {
     "data": {
      "text/html": [
       "<div>\n",
       "<style scoped>\n",
       "    .dataframe tbody tr th:only-of-type {\n",
       "        vertical-align: middle;\n",
       "    }\n",
       "\n",
       "    .dataframe tbody tr th {\n",
       "        vertical-align: top;\n",
       "    }\n",
       "\n",
       "    .dataframe thead th {\n",
       "        text-align: right;\n",
       "    }\n",
       "</style>\n",
       "<table border=\"1\" class=\"dataframe\">\n",
       "  <thead>\n",
       "    <tr style=\"text-align: right;\">\n",
       "      <th></th>\n",
       "      <th>Make</th>\n",
       "    </tr>\n",
       "  </thead>\n",
       "  <tbody>\n",
       "    <tr>\n",
       "      <th>count</th>\n",
       "      <td>24914</td>\n",
       "    </tr>\n",
       "    <tr>\n",
       "      <th>unique</th>\n",
       "      <td>10</td>\n",
       "    </tr>\n",
       "    <tr>\n",
       "      <th>top</th>\n",
       "      <td>OTHERS</td>\n",
       "    </tr>\n",
       "    <tr>\n",
       "      <th>freq</th>\n",
       "      <td>9810</td>\n",
       "    </tr>\n",
       "  </tbody>\n",
       "</table>\n",
       "</div>"
      ],
      "text/plain": [
       "          Make\n",
       "count    24914\n",
       "unique      10\n",
       "top     OTHERS\n",
       "freq      9810"
      ]
     },
     "execution_count": 17,
     "metadata": {},
     "output_type": "execute_result"
    }
   ],
   "source": [
    "make.describe()"
   ]
  },
  {
   "cell_type": "code",
   "execution_count": 18,
   "metadata": {},
   "outputs": [
    {
     "name": "stdout",
     "output_type": "stream",
     "text": [
      "OTHERS                 9810\n",
      "CESSNA                 7245\n",
      "PIPER                  4102\n",
      "BEECH                  1457\n",
      "BELL                    574\n",
      "MOONEY                  417\n",
      "AIR_TRACTION            390\n",
      "ROBINSON                380\n",
      "ROBINSON_HELICOPTER     271\n",
      "BELLANCA                268\n",
      "Name: Make, dtype: int64\n"
     ]
    },
    {
     "data": {
      "text/plain": [
       "<seaborn.axisgrid.FacetGrid at 0x2a21385fb08>"
      ]
     },
     "execution_count": 18,
     "metadata": {},
     "output_type": "execute_result"
    },
    {
     "data": {
      "image/png": "[encoded data removed]",
      "text/plain": [
       "<Figure size 360x360 with 1 Axes>"
      ]
     },
     "metadata": {
      "needs_background": "light"
     },
     "output_type": "display_data"
    }
   ],
   "source": [
    "print(adata[\"Make\"].value_counts())\n",
    "sb.catplot(y = \"Make\", data = adata, kind = 'count')"
   ]
  },
  {
   "cell_type": "markdown",
   "metadata": {},
   "source": [
    "### Number of Engines"
   ]
  },
  {
   "cell_type": "code",
   "execution_count": 19,
   "metadata": {},
   "outputs": [
    {
     "data": {
      "text/html": [
       "<div>\n",
       "<style scoped>\n",
       "    .dataframe tbody tr th:only-of-type {\n",
       "        vertical-align: middle;\n",
       "    }\n",
       "\n",
       "    .dataframe tbody tr th {\n",
       "        vertical-align: top;\n",
       "    }\n",
       "\n",
       "    .dataframe thead th {\n",
       "        text-align: right;\n",
       "    }\n",
       "</style>\n",
       "<table border=\"1\" class=\"dataframe\">\n",
       "  <thead>\n",
       "    <tr style=\"text-align: right;\">\n",
       "      <th></th>\n",
       "      <th>Number.of.Engines</th>\n",
       "    </tr>\n",
       "  </thead>\n",
       "  <tbody>\n",
       "    <tr>\n",
       "      <th>count</th>\n",
       "      <td>24914.000000</td>\n",
       "    </tr>\n",
       "    <tr>\n",
       "      <th>mean</th>\n",
       "      <td>1.091876</td>\n",
       "    </tr>\n",
       "    <tr>\n",
       "      <th>std</th>\n",
       "      <td>0.298425</td>\n",
       "    </tr>\n",
       "    <tr>\n",
       "      <th>min</th>\n",
       "      <td>0.000000</td>\n",
       "    </tr>\n",
       "    <tr>\n",
       "      <th>25%</th>\n",
       "      <td>1.000000</td>\n",
       "    </tr>\n",
       "    <tr>\n",
       "      <th>50%</th>\n",
       "      <td>1.000000</td>\n",
       "    </tr>\n",
       "    <tr>\n",
       "      <th>75%</th>\n",
       "      <td>1.000000</td>\n",
       "    </tr>\n",
       "    <tr>\n",
       "      <th>max</th>\n",
       "      <td>4.000000</td>\n",
       "    </tr>\n",
       "  </tbody>\n",
       "</table>\n",
       "</div>"
      ],
      "text/plain": [
       "       Number.of.Engines\n",
       "count       24914.000000\n",
       "mean            1.091876\n",
       "std             0.298425\n",
       "min             0.000000\n",
       "25%             1.000000\n",
       "50%             1.000000\n",
       "75%             1.000000\n",
       "max             4.000000"
      ]
     },
     "execution_count": 19,
     "metadata": {},
     "output_type": "execute_result"
    }
   ],
   "source": [
    "NOE.describe()"
   ]
  },
  {
   "cell_type": "code",
   "execution_count": 20,
   "metadata": {},
   "outputs": [
    {
     "name": "stdout",
     "output_type": "stream",
     "text": [
      "1    22658\n",
      "2     2218\n",
      "4       16\n",
      "3       15\n",
      "0        7\n",
      "Name: Number.of.Engines, dtype: int64\n"
     ]
    },
    {
     "data": {
      "text/plain": [
       "<seaborn.axisgrid.FacetGrid at 0x2a21387c448>"
      ]
     },
     "execution_count": 20,
     "metadata": {},
     "output_type": "execute_result"
    },
    {
     "data": {
      "image/png": "[encoded data removed]",
      "text/plain": [
       "<Figure size 360x360 with 1 Axes>"
      ]
     },
     "metadata": {
      "needs_background": "light"
     },
     "output_type": "display_data"
    }
   ],
   "source": [
    "print(adata[\"Number.of.Engines\"].value_counts())\n",
    "sb.catplot(y = \"Number.of.Engines\", data = adata, kind = 'count')"
   ]
  },
  {
   "cell_type": "markdown",
   "metadata": {},
   "source": [
    "### Engine Type"
   ]
  },
  {
   "cell_type": "code",
   "execution_count": 21,
   "metadata": {},
   "outputs": [
    {
     "data": {
      "text/html": [
       "<div>\n",
       "<style scoped>\n",
       "    .dataframe tbody tr th:only-of-type {\n",
       "        vertical-align: middle;\n",
       "    }\n",
       "\n",
       "    .dataframe tbody tr th {\n",
       "        vertical-align: top;\n",
       "    }\n",
       "\n",
       "    .dataframe thead th {\n",
       "        text-align: right;\n",
       "    }\n",
       "</style>\n",
       "<table border=\"1\" class=\"dataframe\">\n",
       "  <thead>\n",
       "    <tr style=\"text-align: right;\">\n",
       "      <th></th>\n",
       "      <th>Engine.Type</th>\n",
       "    </tr>\n",
       "  </thead>\n",
       "  <tbody>\n",
       "    <tr>\n",
       "      <th>count</th>\n",
       "      <td>24914</td>\n",
       "    </tr>\n",
       "    <tr>\n",
       "      <th>unique</th>\n",
       "      <td>10</td>\n",
       "    </tr>\n",
       "    <tr>\n",
       "      <th>top</th>\n",
       "      <td>Reciprocating</td>\n",
       "    </tr>\n",
       "    <tr>\n",
       "      <th>freq</th>\n",
       "      <td>22363</td>\n",
       "    </tr>\n",
       "  </tbody>\n",
       "</table>\n",
       "</div>"
      ],
      "text/plain": [
       "          Engine.Type\n",
       "count           24914\n",
       "unique             10\n",
       "top     Reciprocating\n",
       "freq            22363"
      ]
     },
     "execution_count": 21,
     "metadata": {},
     "output_type": "execute_result"
    }
   ],
   "source": [
    "enginetype.describe()"
   ]
  },
  {
   "cell_type": "code",
   "execution_count": 22,
   "metadata": {},
   "outputs": [
    {
     "name": "stdout",
     "output_type": "stream",
     "text": [
      "Reciprocating       22363\n",
      "Turbo Prop           1120\n",
      "Turbo Shaft          1044\n",
      "Turbo Fan             244\n",
      "Turbo Jet             124\n",
      "None                   12\n",
      "Electric                3\n",
      "REC, TJ, TJ             2\n",
      "REC, ELEC               1\n",
      "TJ, REC, REC, TJ        1\n",
      "Name: Engine.Type, dtype: int64\n"
     ]
    },
    {
     "data": {
      "text/plain": [
       "<seaborn.axisgrid.FacetGrid at 0x2a213807948>"
      ]
     },
     "execution_count": 22,
     "metadata": {},
     "output_type": "execute_result"
    },
    {
     "data": {
      "image/png": "[encoded data removed]",
      "text/plain": [
       "<Figure size 360x360 with 1 Axes>"
      ]
     },
     "metadata": {
      "needs_background": "light"
     },
     "output_type": "display_data"
    }
   ],
   "source": [
    "print(adata[\"Engine.Type\"].value_counts())\n",
    "sb.catplot(y = \"Engine.Type\", data = adata, kind = 'count')"
   ]
  },
  {
   "cell_type": "markdown",
   "metadata": {},
   "source": [
    "### Purpose of Flight"
   ]
  },
  {
   "cell_type": "code",
   "execution_count": 23,
   "metadata": {},
   "outputs": [
    {
     "data": {
      "text/html": [
       "<div>\n",
       "<style scoped>\n",
       "    .dataframe tbody tr th:only-of-type {\n",
       "        vertical-align: middle;\n",
       "    }\n",
       "\n",
       "    .dataframe tbody tr th {\n",
       "        vertical-align: top;\n",
       "    }\n",
       "\n",
       "    .dataframe thead th {\n",
       "        text-align: right;\n",
       "    }\n",
       "</style>\n",
       "<table border=\"1\" class=\"dataframe\">\n",
       "  <thead>\n",
       "    <tr style=\"text-align: right;\">\n",
       "      <th></th>\n",
       "      <th>Purpose.of.Flight</th>\n",
       "    </tr>\n",
       "  </thead>\n",
       "  <tbody>\n",
       "    <tr>\n",
       "      <th>count</th>\n",
       "      <td>24914</td>\n",
       "    </tr>\n",
       "    <tr>\n",
       "      <th>unique</th>\n",
       "      <td>21</td>\n",
       "    </tr>\n",
       "    <tr>\n",
       "      <th>top</th>\n",
       "      <td>Personal</td>\n",
       "    </tr>\n",
       "    <tr>\n",
       "      <th>freq</th>\n",
       "      <td>16493</td>\n",
       "    </tr>\n",
       "  </tbody>\n",
       "</table>\n",
       "</div>"
      ],
      "text/plain": [
       "       Purpose.of.Flight\n",
       "count              24914\n",
       "unique                21\n",
       "top             Personal\n",
       "freq               16493"
      ]
     },
     "execution_count": 23,
     "metadata": {},
     "output_type": "execute_result"
    }
   ],
   "source": [
    "purpose.describe()"
   ]
  },
  {
   "cell_type": "code",
   "execution_count": 24,
   "metadata": {},
   "outputs": [
    {
     "name": "stdout",
     "output_type": "stream",
     "text": [
      "count        24914\n",
      "unique          21\n",
      "top       Personal\n",
      "freq         16493\n",
      "Name: Purpose.of.Flight, dtype: object\n"
     ]
    },
    {
     "data": {
      "text/plain": [
       "<seaborn.axisgrid.FacetGrid at 0x2a2132dcec8>"
      ]
     },
     "execution_count": 24,
     "metadata": {},
     "output_type": "execute_result"
    },
    {
     "data": {
      "image/png": "[encoded data removed]",
      "text/plain": [
       "<Figure size 360x360 with 1 Axes>"
      ]
     },
     "metadata": {
      "needs_background": "light"
     },
     "output_type": "display_data"
    }
   ],
   "source": [
    "print(adata[\"Purpose.of.Flight\"].describe())\n",
    "sb.catplot(y = \"Purpose.of.Flight\", data = adata, kind = 'count')"
   ]
  },
  {
   "cell_type": "markdown",
   "metadata": {},
   "source": [
    "### Weather Condition"
   ]
  },
  {
   "cell_type": "code",
   "execution_count": 25,
   "metadata": {},
   "outputs": [
    {
     "data": {
      "text/html": [
       "<div>\n",
       "<style scoped>\n",
       "    .dataframe tbody tr th:only-of-type {\n",
       "        vertical-align: middle;\n",
       "    }\n",
       "\n",
       "    .dataframe tbody tr th {\n",
       "        vertical-align: top;\n",
       "    }\n",
       "\n",
       "    .dataframe thead th {\n",
       "        text-align: right;\n",
       "    }\n",
       "</style>\n",
       "<table border=\"1\" class=\"dataframe\">\n",
       "  <thead>\n",
       "    <tr style=\"text-align: right;\">\n",
       "      <th></th>\n",
       "      <th>Weather.Condition</th>\n",
       "    </tr>\n",
       "  </thead>\n",
       "  <tbody>\n",
       "    <tr>\n",
       "      <th>count</th>\n",
       "      <td>24914</td>\n",
       "    </tr>\n",
       "    <tr>\n",
       "      <th>unique</th>\n",
       "      <td>3</td>\n",
       "    </tr>\n",
       "    <tr>\n",
       "      <th>top</th>\n",
       "      <td>VMC</td>\n",
       "    </tr>\n",
       "    <tr>\n",
       "      <th>freq</th>\n",
       "      <td>23672</td>\n",
       "    </tr>\n",
       "  </tbody>\n",
       "</table>\n",
       "</div>"
      ],
      "text/plain": [
       "       Weather.Condition\n",
       "count              24914\n",
       "unique                 3\n",
       "top                  VMC\n",
       "freq               23672"
      ]
     },
     "execution_count": 25,
     "metadata": {},
     "output_type": "execute_result"
    }
   ],
   "source": [
    "weather.describe()"
   ]
  },
  {
   "cell_type": "code",
   "execution_count": 26,
   "metadata": {},
   "outputs": [
    {
     "name": "stdout",
     "output_type": "stream",
     "text": [
      "VMC    23672\n",
      "IMC     1218\n",
      "UNK       24\n",
      "Name: Weather.Condition, dtype: int64\n"
     ]
    },
    {
     "data": {
      "text/plain": [
       "<seaborn.axisgrid.FacetGrid at 0x2a21331b748>"
      ]
     },
     "execution_count": 26,
     "metadata": {},
     "output_type": "execute_result"
    },
    {
     "data": {
      "image/png": "[encoded data removed]",
      "text/plain": [
       "<Figure size 360x360 with 1 Axes>"
      ]
     },
     "metadata": {
      "needs_background": "light"
     },
     "output_type": "display_data"
    }
   ],
   "source": [
    "print(adata[\"Weather.Condition\"].value_counts())\n",
    "sb.catplot(y = \"Weather.Condition\", data = adata, kind = 'count')"
   ]
  },
  {
   "cell_type": "markdown",
   "metadata": {},
   "source": [
    "### Broad Phase of Flight"
   ]
  },
  {
   "cell_type": "code",
   "execution_count": 27,
   "metadata": {},
   "outputs": [
    {
     "data": {
      "text/html": [
       "<div>\n",
       "<style scoped>\n",
       "    .dataframe tbody tr th:only-of-type {\n",
       "        vertical-align: middle;\n",
       "    }\n",
       "\n",
       "    .dataframe tbody tr th {\n",
       "        vertical-align: top;\n",
       "    }\n",
       "\n",
       "    .dataframe thead th {\n",
       "        text-align: right;\n",
       "    }\n",
       "</style>\n",
       "<table border=\"1\" class=\"dataframe\">\n",
       "  <thead>\n",
       "    <tr style=\"text-align: right;\">\n",
       "      <th></th>\n",
       "      <th>Broad.Phase.of.Flight</th>\n",
       "    </tr>\n",
       "  </thead>\n",
       "  <tbody>\n",
       "    <tr>\n",
       "      <th>count</th>\n",
       "      <td>24914</td>\n",
       "    </tr>\n",
       "    <tr>\n",
       "      <th>unique</th>\n",
       "      <td>11</td>\n",
       "    </tr>\n",
       "    <tr>\n",
       "      <th>top</th>\n",
       "      <td>LANDING</td>\n",
       "    </tr>\n",
       "    <tr>\n",
       "      <th>freq</th>\n",
       "      <td>8099</td>\n",
       "    </tr>\n",
       "  </tbody>\n",
       "</table>\n",
       "</div>"
      ],
      "text/plain": [
       "       Broad.Phase.of.Flight\n",
       "count                  24914\n",
       "unique                    11\n",
       "top                  LANDING\n",
       "freq                    8099"
      ]
     },
     "execution_count": 27,
     "metadata": {},
     "output_type": "execute_result"
    }
   ],
   "source": [
    "phase.describe()"
   ]
  },
  {
   "cell_type": "code",
   "execution_count": 28,
   "metadata": {},
   "outputs": [
    {
     "name": "stdout",
     "output_type": "stream",
     "text": [
      "LANDING        8099\n",
      "TAKEOFF        5505\n",
      "MANEUVERING    3467\n",
      "APPROACH       2534\n",
      "CRUISE         2366\n",
      "TAXI            701\n",
      "DESCENT         630\n",
      "GO-AROUND       596\n",
      "CLIMB           576\n",
      "STANDING        401\n",
      "OTHER            39\n",
      "Name: Broad.Phase.of.Flight, dtype: int64\n"
     ]
    },
    {
     "data": {
      "text/plain": [
       "<seaborn.axisgrid.FacetGrid at 0x2a21415ce48>"
      ]
     },
     "execution_count": 28,
     "metadata": {},
     "output_type": "execute_result"
    },
    {
     "data": {
      "image/png": "[encoded data removed]",
      "text/plain": [
       "<Figure size 360x360 with 1 Axes>"
      ]
     },
     "metadata": {
      "needs_background": "light"
     },
     "output_type": "display_data"
    }
   ],
   "source": [
    "print(adata[\"Broad.Phase.of.Flight\"].value_counts())\n",
    "sb.catplot(y = \"Broad.Phase.of.Flight\", data = adata, kind = 'count')"
   ]
  },
  {
   "cell_type": "markdown",
   "metadata": {},
   "source": [
    "#### In order to more accurately predict whether a plane crash will be fatal or not, we have decided to first pick the three variables which can predict Fatality the best to be our predictors."
   ]
  },
  {
   "cell_type": "markdown",
   "metadata": {},
   "source": [
    "### Latitude and Longitude "
   ]
  },
  {
   "cell_type": "code",
   "execution_count": 37,
   "metadata": {},
   "outputs": [
    {
     "ename": "OSError",
     "evalue": "[WinError 126] The specified module could not be found",
     "output_type": "error",
     "traceback": [
      "\u001b[1;31m---------------------------------------------------------------------------\u001b[0m",
      "\u001b[1;31mOSError\u001b[0m                                   Traceback (most recent call last)",
      "\u001b[1;32m<ipython-input-37-c38ebe514833>\u001b[0m in \u001b[0;36m<module>\u001b[1;34m\u001b[0m\n\u001b[0;32m      1\u001b[0m \u001b[1;31m# Importing essential libraries for Geoplot\u001b[0m\u001b[1;33m\u001b[0m\u001b[1;33m\u001b[0m\u001b[1;33m\u001b[0m\u001b[0m\n\u001b[1;32m----> 2\u001b[1;33m \u001b[1;32mfrom\u001b[0m \u001b[0mshapely\u001b[0m\u001b[1;33m.\u001b[0m\u001b[0mgeometry\u001b[0m \u001b[1;32mimport\u001b[0m \u001b[0mPoint\u001b[0m\u001b[1;33m\u001b[0m\u001b[1;33m\u001b[0m\u001b[0m\n\u001b[0m\u001b[0;32m      3\u001b[0m \u001b[1;32mimport\u001b[0m \u001b[0mgeopandas\u001b[0m \u001b[1;32mas\u001b[0m \u001b[0mgpd\u001b[0m\u001b[1;33m\u001b[0m\u001b[1;33m\u001b[0m\u001b[0m\n\u001b[0;32m      4\u001b[0m \u001b[1;32mfrom\u001b[0m \u001b[0mgeopandas\u001b[0m \u001b[1;32mimport\u001b[0m \u001b[0mGeoDataFrame\u001b[0m\u001b[1;33m\u001b[0m\u001b[1;33m\u001b[0m\u001b[0m\n\u001b[0;32m      5\u001b[0m \u001b[1;32mfrom\u001b[0m \u001b[0mdescartes\u001b[0m \u001b[1;32mimport\u001b[0m \u001b[0mPolygonPatch\u001b[0m\u001b[1;33m\u001b[0m\u001b[1;33m\u001b[0m\u001b[0m\n",
      "\u001b[1;32m~\\anaconda3\\lib\\site-packages\\shapely\\geometry\\__init__.py\u001b[0m in \u001b[0;36m<module>\u001b[1;34m\u001b[0m\n\u001b[0;32m      2\u001b[0m \"\"\"\n\u001b[0;32m      3\u001b[0m \u001b[1;33m\u001b[0m\u001b[0m\n\u001b[1;32m----> 4\u001b[1;33m \u001b[1;32mfrom\u001b[0m \u001b[1;33m.\u001b[0m\u001b[0mbase\u001b[0m \u001b[1;32mimport\u001b[0m \u001b[0mCAP_STYLE\u001b[0m\u001b[1;33m,\u001b[0m \u001b[0mJOIN_STYLE\u001b[0m\u001b[1;33m\u001b[0m\u001b[1;33m\u001b[0m\u001b[0m\n\u001b[0m\u001b[0;32m      5\u001b[0m \u001b[1;32mfrom\u001b[0m \u001b[1;33m.\u001b[0m\u001b[0mgeo\u001b[0m \u001b[1;32mimport\u001b[0m \u001b[0mbox\u001b[0m\u001b[1;33m,\u001b[0m \u001b[0mshape\u001b[0m\u001b[1;33m,\u001b[0m \u001b[0masShape\u001b[0m\u001b[1;33m,\u001b[0m \u001b[0mmapping\u001b[0m\u001b[1;33m\u001b[0m\u001b[1;33m\u001b[0m\u001b[0m\n\u001b[0;32m      6\u001b[0m \u001b[1;32mfrom\u001b[0m \u001b[1;33m.\u001b[0m\u001b[0mpoint\u001b[0m \u001b[1;32mimport\u001b[0m \u001b[0mPoint\u001b[0m\u001b[1;33m,\u001b[0m \u001b[0masPoint\u001b[0m\u001b[1;33m\u001b[0m\u001b[1;33m\u001b[0m\u001b[0m\n",
      "\u001b[1;32m~\\anaconda3\\lib\\site-packages\\shapely\\geometry\\base.py\u001b[0m in \u001b[0;36m<module>\u001b[1;34m\u001b[0m\n\u001b[0;32m     16\u001b[0m \u001b[1;33m\u001b[0m\u001b[0m\n\u001b[0;32m     17\u001b[0m \u001b[1;32mfrom\u001b[0m \u001b[0mshapely\u001b[0m\u001b[1;33m.\u001b[0m\u001b[0maffinity\u001b[0m \u001b[1;32mimport\u001b[0m \u001b[0maffine_transform\u001b[0m\u001b[1;33m\u001b[0m\u001b[1;33m\u001b[0m\u001b[0m\n\u001b[1;32m---> 18\u001b[1;33m \u001b[1;32mfrom\u001b[0m \u001b[0mshapely\u001b[0m\u001b[1;33m.\u001b[0m\u001b[0mcoords\u001b[0m \u001b[1;32mimport\u001b[0m \u001b[0mCoordinateSequence\u001b[0m\u001b[1;33m\u001b[0m\u001b[1;33m\u001b[0m\u001b[0m\n\u001b[0m\u001b[0;32m     19\u001b[0m \u001b[1;32mfrom\u001b[0m \u001b[0mshapely\u001b[0m\u001b[1;33m.\u001b[0m\u001b[0merrors\u001b[0m \u001b[1;32mimport\u001b[0m \u001b[0mWKBReadingError\u001b[0m\u001b[1;33m,\u001b[0m \u001b[0mWKTReadingError\u001b[0m\u001b[1;33m\u001b[0m\u001b[1;33m\u001b[0m\u001b[0m\n\u001b[0;32m     20\u001b[0m \u001b[1;32mfrom\u001b[0m \u001b[0mshapely\u001b[0m\u001b[1;33m.\u001b[0m\u001b[0mgeos\u001b[0m \u001b[1;32mimport\u001b[0m \u001b[0mWKBWriter\u001b[0m\u001b[1;33m,\u001b[0m \u001b[0mWKTWriter\u001b[0m\u001b[1;33m\u001b[0m\u001b[1;33m\u001b[0m\u001b[0m\n",
      "\u001b[1;32m~\\anaconda3\\lib\\site-packages\\shapely\\coords.py\u001b[0m in \u001b[0;36m<module>\u001b[1;34m\u001b[0m\n\u001b[0;32m      6\u001b[0m \u001b[1;32mfrom\u001b[0m \u001b[0mctypes\u001b[0m \u001b[1;32mimport\u001b[0m \u001b[0mbyref\u001b[0m\u001b[1;33m,\u001b[0m \u001b[0mc_double\u001b[0m\u001b[1;33m,\u001b[0m \u001b[0mc_uint\u001b[0m\u001b[1;33m\u001b[0m\u001b[1;33m\u001b[0m\u001b[0m\n\u001b[0;32m      7\u001b[0m \u001b[1;33m\u001b[0m\u001b[0m\n\u001b[1;32m----> 8\u001b[1;33m \u001b[1;32mfrom\u001b[0m \u001b[0mshapely\u001b[0m\u001b[1;33m.\u001b[0m\u001b[0mgeos\u001b[0m \u001b[1;32mimport\u001b[0m \u001b[0mlgeos\u001b[0m\u001b[1;33m\u001b[0m\u001b[1;33m\u001b[0m\u001b[0m\n\u001b[0m\u001b[0;32m      9\u001b[0m \u001b[1;32mfrom\u001b[0m \u001b[0mshapely\u001b[0m\u001b[1;33m.\u001b[0m\u001b[0mtopology\u001b[0m \u001b[1;32mimport\u001b[0m \u001b[0mValidating\u001b[0m\u001b[1;33m\u001b[0m\u001b[1;33m\u001b[0m\u001b[0m\n\u001b[0;32m     10\u001b[0m \u001b[1;33m\u001b[0m\u001b[0m\n",
      "\u001b[1;32m~\\anaconda3\\lib\\site-packages\\shapely\\geos.py\u001b[0m in \u001b[0;36m<module>\u001b[1;34m\u001b[0m\n\u001b[0;32m    143\u001b[0m     \u001b[1;32mif\u001b[0m \u001b[0mos\u001b[0m\u001b[1;33m.\u001b[0m\u001b[0mgetenv\u001b[0m\u001b[1;33m(\u001b[0m\u001b[1;34m'CONDA_PREFIX'\u001b[0m\u001b[1;33m,\u001b[0m \u001b[1;34m''\u001b[0m\u001b[1;33m)\u001b[0m\u001b[1;33m:\u001b[0m\u001b[1;33m\u001b[0m\u001b[1;33m\u001b[0m\u001b[0m\n\u001b[0;32m    144\u001b[0m         \u001b[1;31m# conda package.\u001b[0m\u001b[1;33m\u001b[0m\u001b[1;33m\u001b[0m\u001b[1;33m\u001b[0m\u001b[0m\n\u001b[1;32m--> 145\u001b[1;33m         \u001b[0m_lgeos\u001b[0m \u001b[1;33m=\u001b[0m \u001b[0mCDLL\u001b[0m\u001b[1;33m(\u001b[0m\u001b[0mos\u001b[0m\u001b[1;33m.\u001b[0m\u001b[0mpath\u001b[0m\u001b[1;33m.\u001b[0m\u001b[0mjoin\u001b[0m\u001b[1;33m(\u001b[0m\u001b[0msys\u001b[0m\u001b[1;33m.\u001b[0m\u001b[0mprefix\u001b[0m\u001b[1;33m,\u001b[0m \u001b[1;34m'Library'\u001b[0m\u001b[1;33m,\u001b[0m \u001b[1;34m'bin'\u001b[0m\u001b[1;33m,\u001b[0m \u001b[1;34m'geos_c.dll'\u001b[0m\u001b[1;33m)\u001b[0m\u001b[1;33m)\u001b[0m\u001b[1;33m\u001b[0m\u001b[1;33m\u001b[0m\u001b[0m\n\u001b[0m\u001b[0;32m    146\u001b[0m     \u001b[1;32melse\u001b[0m\u001b[1;33m:\u001b[0m\u001b[1;33m\u001b[0m\u001b[1;33m\u001b[0m\u001b[0m\n\u001b[0;32m    147\u001b[0m         \u001b[1;32mtry\u001b[0m\u001b[1;33m:\u001b[0m\u001b[1;33m\u001b[0m\u001b[1;33m\u001b[0m\u001b[0m\n",
      "\u001b[1;32m~\\anaconda3\\lib\\ctypes\\__init__.py\u001b[0m in \u001b[0;36m__init__\u001b[1;34m(self, name, mode, handle, use_errno, use_last_error)\u001b[0m\n\u001b[0;32m    362\u001b[0m \u001b[1;33m\u001b[0m\u001b[0m\n\u001b[0;32m    363\u001b[0m         \u001b[1;32mif\u001b[0m \u001b[0mhandle\u001b[0m \u001b[1;32mis\u001b[0m \u001b[1;32mNone\u001b[0m\u001b[1;33m:\u001b[0m\u001b[1;33m\u001b[0m\u001b[1;33m\u001b[0m\u001b[0m\n\u001b[1;32m--> 364\u001b[1;33m             \u001b[0mself\u001b[0m\u001b[1;33m.\u001b[0m\u001b[0m_handle\u001b[0m \u001b[1;33m=\u001b[0m \u001b[0m_dlopen\u001b[0m\u001b[1;33m(\u001b[0m\u001b[0mself\u001b[0m\u001b[1;33m.\u001b[0m\u001b[0m_name\u001b[0m\u001b[1;33m,\u001b[0m \u001b[0mmode\u001b[0m\u001b[1;33m)\u001b[0m\u001b[1;33m\u001b[0m\u001b[1;33m\u001b[0m\u001b[0m\n\u001b[0m\u001b[0;32m    365\u001b[0m         \u001b[1;32melse\u001b[0m\u001b[1;33m:\u001b[0m\u001b[1;33m\u001b[0m\u001b[1;33m\u001b[0m\u001b[0m\n\u001b[0;32m    366\u001b[0m             \u001b[0mself\u001b[0m\u001b[1;33m.\u001b[0m\u001b[0m_handle\u001b[0m \u001b[1;33m=\u001b[0m \u001b[0mhandle\u001b[0m\u001b[1;33m\u001b[0m\u001b[1;33m\u001b[0m\u001b[0m\n",
      "\u001b[1;31mOSError\u001b[0m: [WinError 126] The specified module could not be found"
     ]
    }
   ],
   "source": [
    "# Importing essential libraries for Geoplot\n",
    "from shapely.geometry import Point\n",
    "import geopandas as gpd\n",
    "from geopandas import GeoDataFrame\n",
    "from descartes import PolygonPatch"
   ]
  },
  {
   "cell_type": "code",
   "execution_count": null,
   "metadata": {},
   "outputs": [],
   "source": [
    "Longitude = pd.DataFrame(adata['Longitude'])\n",
    "Latitude = pd.DataFrame(adata['Latitude'])"
   ]
  },
  {
   "cell_type": "code",
   "execution_count": null,
   "metadata": {},
   "outputs": [],
   "source": [
    "geometry = [Point(xy) for xy in zip(adata['Longitude'], adata['Latitude'])]\n",
    "gdf = GeoDataFrame(adata, geometry=geometry)   \n",
    "\n",
    "#this is a simple map that goes with geopandas\n",
    "world = gpd.read_file(gpd.datasets.get_path('naturalearth_lowres'))\n",
    "gdf.plot(ax=world.plot(figsize=(10, 6)), marker='o', color='red', markersize=15);"
   ]
  },
  {
   "cell_type": "markdown",
   "metadata": {},
   "source": [
    "## Pattern Recognition and Analytic Visualization"
   ]
  },
  {
   "cell_type": "code",
   "execution_count": 29,
   "metadata": {},
   "outputs": [],
   "source": [
    "# Import essential models and functions from sklearn\n",
    "from sklearn.tree import DecisionTreeClassifier\n",
    "from sklearn.model_selection import train_test_split\n",
    "from sklearn.metrics import confusion_matrix\n",
    "from sklearn.tree import export_graphviz\n",
    "import graphviz"
   ]
  },
  {
   "cell_type": "markdown",
   "metadata": {},
   "source": [
    "#### As \"Make\", \"Engine Type\", \"Purpose of Flight\", \"Weather Condition\" and \"Broad Phase of Flight\" are categorical variables with strings as values, we must dummy code them before classification."
   ]
  },
  {
   "cell_type": "code",
   "execution_count": 30,
   "metadata": {},
   "outputs": [],
   "source": [
    "make_dummy = pd.get_dummies(data=make)\n",
    "enginetype_dummy = pd.get_dummies(data=enginetype)\n",
    "purpose_dummy = pd.get_dummies(data=purpose)\n",
    "weather_dummy = pd.get_dummies(data=weather)\n",
    "phase_dummy = pd.get_dummies(data=phase)"
   ]
  },
  {
   "cell_type": "markdown",
   "metadata": {},
   "source": [
    "### Classification between Make and Fatality"
   ]
  },
  {
   "cell_type": "code",
   "execution_count": 31,
   "metadata": {},
   "outputs": [
    {
     "name": "stdout",
     "output_type": "stream",
     "text": [
      "Goodness of Fit of Model \tTrain Dataset\n",
      "Classification Accuracy \t: 0.8224374090612614\n",
      "\n",
      "Goodness of Fit of Model \tTest Dataset\n",
      "Classification Accuracy \t: 0.8252056993778848\n",
      "\n"
     ]
    },
    {
     "data": {
      "image/svg+xml": [
       "<?xml version=\"1.0\" encoding=\"UTF-8\" standalone=\"no\"?>\r\n",
       "<!DOCTYPE svg PUBLIC \"-//W3C//DTD SVG 1.1//EN\"\r\n",
       " \"http://www.w3.org/Graphics/SVG/1.1/DTD/svg11.dtd\">\r\n",
       "<!-- Generated by graphviz version 2.38.0 (20140413.2041)\r\n",
       " -->\r\n",
       "<!-- Title: Tree Pages: 1 -->\r\n",
       "<svg width=\"472pt\" height=\"373pt\"\r\n",
       " viewBox=\"0.00 0.00 471.50 373.00\" xmlns=\"http://www.w3.org/2000/svg\" xmlns:xlink=\"http://www.w3.org/1999/xlink\">\r\n",
       "<g id=\"graph0\" class=\"graph\" transform=\"scale(1 1) rotate(0) translate(4 369)\">\r\n",
       "<title>Tree</title>\r\n",
       "<polygon fill=\"white\" stroke=\"none\" points=\"-4,4 -4,-369 467.5,-369 467.5,4 -4,4\"/>\r\n",
       "<!-- 0 -->\r\n",
       "<g id=\"node1\" class=\"node\"><title>0</title>\r\n",
       "<path fill=\"#eb9c64\" stroke=\"black\" d=\"M383,-365C383,-365 252,-365 252,-365 246,-365 240,-359 240,-353 240,-353 240,-309 240,-309 240,-303 246,-297 252,-297 252,-297 383,-297 383,-297 389,-297 395,-303 395,-309 395,-309 395,-353 395,-353 395,-359 389,-365 383,-365\"/>\r\n",
       "<text text-anchor=\"start\" x=\"254\" y=\"-349.8\" font-family=\"Helvetica,sans-Serif\" font-size=\"14.00\">Make_BEECH ≤ 0.5</text>\r\n",
       "<text text-anchor=\"start\" x=\"280\" y=\"-334.8\" font-family=\"Helvetica,sans-Serif\" font-size=\"14.00\">gini = 0.292</text>\r\n",
       "<text text-anchor=\"start\" x=\"261.5\" y=\"-319.8\" font-family=\"Helvetica,sans-Serif\" font-size=\"14.00\">samples = 19931</text>\r\n",
       "<text text-anchor=\"start\" x=\"248\" y=\"-304.8\" font-family=\"Helvetica,sans-Serif\" font-size=\"14.00\">value = [16392, 3539]</text>\r\n",
       "</g>\r\n",
       "<!-- 1 -->\r\n",
       "<g id=\"node2\" class=\"node\"><title>1</title>\r\n",
       "<path fill=\"#ea9b62\" stroke=\"black\" d=\"M303,-261C303,-261 172,-261 172,-261 166,-261 160,-255 160,-249 160,-249 160,-205 160,-205 160,-199 166,-193 172,-193 172,-193 303,-193 303,-193 309,-193 315,-199 315,-205 315,-205 315,-249 315,-249 315,-255 309,-261 303,-261\"/>\r\n",
       "<text text-anchor=\"start\" x=\"169\" y=\"-245.8\" font-family=\"Helvetica,sans-Serif\" font-size=\"14.00\">Make_CESSNA ≤ 0.5</text>\r\n",
       "<text text-anchor=\"start\" x=\"200\" y=\"-230.8\" font-family=\"Helvetica,sans-Serif\" font-size=\"14.00\">gini = 0.283</text>\r\n",
       "<text text-anchor=\"start\" x=\"181.5\" y=\"-215.8\" font-family=\"Helvetica,sans-Serif\" font-size=\"14.00\">samples = 18760</text>\r\n",
       "<text text-anchor=\"start\" x=\"168\" y=\"-200.8\" font-family=\"Helvetica,sans-Serif\" font-size=\"14.00\">value = [15562, 3198]</text>\r\n",
       "</g>\r\n",
       "<!-- 0&#45;&gt;1 -->\r\n",
       "<g id=\"edge1\" class=\"edge\"><title>0&#45;&gt;1</title>\r\n",
       "<path fill=\"none\" stroke=\"black\" d=\"M291.526,-296.884C284.61,-288.065 277.053,-278.43 269.841,-269.235\"/>\r\n",
       "<polygon fill=\"black\" stroke=\"black\" points=\"272.543,-267.008 263.617,-261.299 267.035,-271.328 272.543,-267.008\"/>\r\n",
       "<text text-anchor=\"middle\" x=\"260.617\" y=\"-282.419\" font-family=\"Helvetica,sans-Serif\" font-size=\"14.00\">True</text>\r\n",
       "</g>\r\n",
       "<!-- 6 -->\r\n",
       "<g id=\"node7\" class=\"node\"><title>6</title>\r\n",
       "<path fill=\"#f0b58a\" stroke=\"black\" d=\"M451.5,-253.5C451.5,-253.5 345.5,-253.5 345.5,-253.5 339.5,-253.5 333.5,-247.5 333.5,-241.5 333.5,-241.5 333.5,-212.5 333.5,-212.5 333.5,-206.5 339.5,-200.5 345.5,-200.5 345.5,-200.5 451.5,-200.5 451.5,-200.5 457.5,-200.5 463.5,-206.5 463.5,-212.5 463.5,-212.5 463.5,-241.5 463.5,-241.5 463.5,-247.5 457.5,-253.5 451.5,-253.5\"/>\r\n",
       "<text text-anchor=\"start\" x=\"361\" y=\"-238.3\" font-family=\"Helvetica,sans-Serif\" font-size=\"14.00\">gini = 0.413</text>\r\n",
       "<text text-anchor=\"start\" x=\"347\" y=\"-223.3\" font-family=\"Helvetica,sans-Serif\" font-size=\"14.00\">samples = 1171</text>\r\n",
       "<text text-anchor=\"start\" x=\"341.5\" y=\"-208.3\" font-family=\"Helvetica,sans-Serif\" font-size=\"14.00\">value = [830, 341]</text>\r\n",
       "</g>\r\n",
       "<!-- 0&#45;&gt;6 -->\r\n",
       "<g id=\"edge6\" class=\"edge\"><title>0&#45;&gt;6</title>\r\n",
       "<path fill=\"none\" stroke=\"black\" d=\"M343.798,-296.884C352.794,-285.556 362.86,-272.88 371.881,-261.521\"/>\r\n",
       "<polygon fill=\"black\" stroke=\"black\" points=\"374.756,-263.528 378.234,-253.52 369.274,-259.174 374.756,-263.528\"/>\r\n",
       "<text text-anchor=\"middle\" x=\"381.084\" y=\"-274.657\" font-family=\"Helvetica,sans-Serif\" font-size=\"14.00\">False</text>\r\n",
       "</g>\r\n",
       "<!-- 2 -->\r\n",
       "<g id=\"node3\" class=\"node\"><title>2</title>\r\n",
       "<path fill=\"#eb9e66\" stroke=\"black\" d=\"M221.5,-157C221.5,-157 89.5,-157 89.5,-157 83.5,-157 77.5,-151 77.5,-145 77.5,-145 77.5,-101 77.5,-101 77.5,-95 83.5,-89 89.5,-89 89.5,-89 221.5,-89 221.5,-89 227.5,-89 233.5,-95 233.5,-101 233.5,-101 233.5,-145 233.5,-145 233.5,-151 227.5,-157 221.5,-157\"/>\r\n",
       "<text text-anchor=\"start\" x=\"85.5\" y=\"-141.8\" font-family=\"Helvetica,sans-Serif\" font-size=\"14.00\">Make_MOONEY ≤ 0.5</text>\r\n",
       "<text text-anchor=\"start\" x=\"118\" y=\"-126.8\" font-family=\"Helvetica,sans-Serif\" font-size=\"14.00\">gini = 0.302</text>\r\n",
       "<text text-anchor=\"start\" x=\"99.5\" y=\"-111.8\" font-family=\"Helvetica,sans-Serif\" font-size=\"14.00\">samples = 12956</text>\r\n",
       "<text text-anchor=\"start\" x=\"86\" y=\"-96.8\" font-family=\"Helvetica,sans-Serif\" font-size=\"14.00\">value = [10557, 2399]</text>\r\n",
       "</g>\r\n",
       "<!-- 1&#45;&gt;2 -->\r\n",
       "<g id=\"edge2\" class=\"edge\"><title>1&#45;&gt;2</title>\r\n",
       "<path fill=\"none\" stroke=\"black\" d=\"M210.877,-192.884C203.788,-184.065 196.042,-174.43 188.65,-165.235\"/>\r\n",
       "<polygon fill=\"black\" stroke=\"black\" points=\"191.264,-162.9 182.27,-157.299 185.808,-167.286 191.264,-162.9\"/>\r\n",
       "</g>\r\n",
       "<!-- 5 -->\r\n",
       "<g id=\"node6\" class=\"node\"><title>5</title>\r\n",
       "<path fill=\"#e99559\" stroke=\"black\" d=\"M377.5,-149.5C377.5,-149.5 263.5,-149.5 263.5,-149.5 257.5,-149.5 251.5,-143.5 251.5,-137.5 251.5,-137.5 251.5,-108.5 251.5,-108.5 251.5,-102.5 257.5,-96.5 263.5,-96.5 263.5,-96.5 377.5,-96.5 377.5,-96.5 383.5,-96.5 389.5,-102.5 389.5,-108.5 389.5,-108.5 389.5,-137.5 389.5,-137.5 389.5,-143.5 383.5,-149.5 377.5,-149.5\"/>\r\n",
       "<text text-anchor=\"start\" x=\"283\" y=\"-134.3\" font-family=\"Helvetica,sans-Serif\" font-size=\"14.00\">gini = 0.237</text>\r\n",
       "<text text-anchor=\"start\" x=\"269\" y=\"-119.3\" font-family=\"Helvetica,sans-Serif\" font-size=\"14.00\">samples = 5804</text>\r\n",
       "<text text-anchor=\"start\" x=\"259.5\" y=\"-104.3\" font-family=\"Helvetica,sans-Serif\" font-size=\"14.00\">value = [5005, 799]</text>\r\n",
       "</g>\r\n",
       "<!-- 1&#45;&gt;5 -->\r\n",
       "<g id=\"edge5\" class=\"edge\"><title>1&#45;&gt;5</title>\r\n",
       "<path fill=\"none\" stroke=\"black\" d=\"M264.448,-192.884C273.665,-181.556 283.98,-168.88 293.223,-157.521\"/>\r\n",
       "<polygon fill=\"black\" stroke=\"black\" points=\"296.137,-159.486 299.734,-149.52 290.707,-155.067 296.137,-159.486\"/>\r\n",
       "</g>\r\n",
       "<!-- 3 -->\r\n",
       "<g id=\"node4\" class=\"node\"><title>3</title>\r\n",
       "<path fill=\"#eb9d65\" stroke=\"black\" d=\"M143,-53C143,-53 12,-53 12,-53 6,-53 0,-47 0,-41 0,-41 0,-12 0,-12 0,-6 6,-0 12,-0 12,-0 143,-0 143,-0 149,-0 155,-6 155,-12 155,-12 155,-41 155,-41 155,-47 149,-53 143,-53\"/>\r\n",
       "<text text-anchor=\"start\" x=\"40\" y=\"-37.8\" font-family=\"Helvetica,sans-Serif\" font-size=\"14.00\">gini = 0.299</text>\r\n",
       "<text text-anchor=\"start\" x=\"21.5\" y=\"-22.8\" font-family=\"Helvetica,sans-Serif\" font-size=\"14.00\">samples = 12622</text>\r\n",
       "<text text-anchor=\"start\" x=\"8\" y=\"-7.8\" font-family=\"Helvetica,sans-Serif\" font-size=\"14.00\">value = [10312, 2310]</text>\r\n",
       "</g>\r\n",
       "<!-- 2&#45;&gt;3 -->\r\n",
       "<g id=\"edge3\" class=\"edge\"><title>2&#45;&gt;3</title>\r\n",
       "<path fill=\"none\" stroke=\"black\" d=\"M128.219,-88.9485C120.744,-79.892 112.636,-70.0682 105.14,-60.9875\"/>\r\n",
       "<polygon fill=\"black\" stroke=\"black\" points=\"107.808,-58.721 98.743,-53.2367 102.409,-63.1769 107.808,-58.721\"/>\r\n",
       "</g>\r\n",
       "<!-- 4 -->\r\n",
       "<g id=\"node5\" class=\"node\"><title>4</title>\r\n",
       "<path fill=\"#eeaf81\" stroke=\"black\" d=\"M283.5,-53C283.5,-53 185.5,-53 185.5,-53 179.5,-53 173.5,-47 173.5,-41 173.5,-41 173.5,-12 173.5,-12 173.5,-6 179.5,-0 185.5,-0 185.5,-0 283.5,-0 283.5,-0 289.5,-0 295.5,-6 295.5,-12 295.5,-12 295.5,-41 295.5,-41 295.5,-47 289.5,-53 283.5,-53\"/>\r\n",
       "<text text-anchor=\"start\" x=\"197\" y=\"-37.8\" font-family=\"Helvetica,sans-Serif\" font-size=\"14.00\">gini = 0.391</text>\r\n",
       "<text text-anchor=\"start\" x=\"187\" y=\"-22.8\" font-family=\"Helvetica,sans-Serif\" font-size=\"14.00\">samples = 334</text>\r\n",
       "<text text-anchor=\"start\" x=\"181.5\" y=\"-7.8\" font-family=\"Helvetica,sans-Serif\" font-size=\"14.00\">value = [245, 89]</text>\r\n",
       "</g>\r\n",
       "<!-- 2&#45;&gt;4 -->\r\n",
       "<g id=\"edge4\" class=\"edge\"><title>2&#45;&gt;4</title>\r\n",
       "<path fill=\"none\" stroke=\"black\" d=\"M183.13,-88.9485C190.701,-79.892 198.914,-70.0682 206.505,-60.9875\"/>\r\n",
       "<polygon fill=\"black\" stroke=\"black\" points=\"209.256,-63.1538 212.985,-53.2367 203.886,-58.6641 209.256,-63.1538\"/>\r\n",
       "</g>\r\n",
       "</g>\r\n",
       "</svg>\r\n"
      ],
      "text/plain": [
       "<graphviz.files.Source at 0x2a21468e548>"
      ]
     },
     "execution_count": 31,
     "metadata": {},
     "output_type": "execute_result"
    },
    {
     "data": {
      "image/png": "[encoded data removed]",
      "text/plain": [
       "<Figure size 1800x720 with 4 Axes>"
      ]
     },
     "metadata": {
      "needs_background": "light"
     },
     "output_type": "display_data"
    }
   ],
   "source": [
    "# Split the Legendary-Total Dataset into Train and Test\n",
    "make_train, make_test, fatal_train, fatal_test = train_test_split(make_dummy, fatal, test_size = 0.20)\n",
    "\n",
    "# Decision Tree using Train Data\n",
    "dectree = DecisionTreeClassifier(max_depth = 3)  # create the decision tree object\n",
    "dectree.fit(make_train, fatal_train)                    # train the decision tree model\n",
    "\n",
    "# Predict Legendary values corresponding to Total\n",
    "fatal_train_pred = dectree.predict(make_train)\n",
    "fatal_test_pred = dectree.predict(make_test)\n",
    "\n",
    "# Check the Goodness of Fit (on Train Data)\n",
    "print(\"Goodness of Fit of Model \\tTrain Dataset\")\n",
    "print(\"Classification Accuracy \\t:\", dectree.score(make_train, fatal_train))\n",
    "print()\n",
    "\n",
    "# Check the Goodness of Fit (on Test Data)\n",
    "print(\"Goodness of Fit of Model \\tTest Dataset\")\n",
    "print(\"Classification Accuracy \\t:\", dectree.score(make_test, fatal_test))\n",
    "print()\n",
    "\n",
    "# Plot the Confusion Matrix for Train and Test\n",
    "f, axes = plt.subplots(1, 2, figsize=(25, 10))\n",
    "sb.heatmap(confusion_matrix(fatal_train, fatal_train_pred),\n",
    "           annot = True, ax = axes[0])\n",
    "sb.heatmap(confusion_matrix(fatal_test, fatal_test_pred), \n",
    "           annot = True, ax = axes[1])\n",
    "\n",
    "# Plot the Decision Tree\n",
    "treedot = export_graphviz(dectree,                                      # the model\n",
    "                          feature_names = make_train.columns,              # the features \n",
    "                          out_file = None,                              # output file\n",
    "                          filled = True,                                # node colors\n",
    "                          rounded = True,                               # make pretty\n",
    "                          special_characters = True)                    # postscript\n",
    "\n",
    "graphviz.Source(treedot)"
   ]
  },
  {
   "cell_type": "markdown",
   "metadata": {},
   "source": [
    "### Classification between Number of Engines and Fatality"
   ]
  },
  {
   "cell_type": "code",
   "execution_count": 32,
   "metadata": {},
   "outputs": [
    {
     "name": "stdout",
     "output_type": "stream",
     "text": [
      "Goodness of Fit of Model \tTrain Dataset\n",
      "Classification Accuracy \t: 0.8217851587978526\n",
      "\n",
      "Goodness of Fit of Model \tTest Dataset\n",
      "Classification Accuracy \t: 0.8278145695364238\n",
      "\n"
     ]
    },
    {
     "data": {
      "image/svg+xml": [
       "<?xml version=\"1.0\" encoding=\"UTF-8\" standalone=\"no\"?>\r\n",
       "<!DOCTYPE svg PUBLIC \"-//W3C//DTD SVG 1.1//EN\"\r\n",
       " \"http://www.w3.org/Graphics/SVG/1.1/DTD/svg11.dtd\">\r\n",
       "<!-- Generated by graphviz version 2.38.0 (20140413.2041)\r\n",
       " -->\r\n",
       "<!-- Title: Tree Pages: 1 -->\r\n",
       "<svg width=\"596pt\" height=\"373pt\"\r\n",
       " viewBox=\"0.00 0.00 596.00 373.00\" xmlns=\"http://www.w3.org/2000/svg\" xmlns:xlink=\"http://www.w3.org/1999/xlink\">\r\n",
       "<g id=\"graph0\" class=\"graph\" transform=\"scale(1 1) rotate(0) translate(4 369)\">\r\n",
       "<title>Tree</title>\r\n",
       "<polygon fill=\"white\" stroke=\"none\" points=\"-4,4 -4,-369 592,-369 592,4 -4,4\"/>\r\n",
       "<!-- 0 -->\r\n",
       "<g id=\"node1\" class=\"node\"><title>0</title>\r\n",
       "<path fill=\"#eb9c64\" stroke=\"black\" d=\"M360.5,-365C360.5,-365 210.5,-365 210.5,-365 204.5,-365 198.5,-359 198.5,-353 198.5,-353 198.5,-309 198.5,-309 198.5,-303 204.5,-297 210.5,-297 210.5,-297 360.5,-297 360.5,-297 366.5,-297 372.5,-303 372.5,-309 372.5,-309 372.5,-353 372.5,-353 372.5,-359 366.5,-365 360.5,-365\"/>\r\n",
       "<text text-anchor=\"start\" x=\"206.5\" y=\"-349.8\" font-family=\"Helvetica,sans-Serif\" font-size=\"14.00\">Number.of.Engines ≤ 1.5</text>\r\n",
       "<text text-anchor=\"start\" x=\"248\" y=\"-334.8\" font-family=\"Helvetica,sans-Serif\" font-size=\"14.00\">gini = 0.293</text>\r\n",
       "<text text-anchor=\"start\" x=\"229.5\" y=\"-319.8\" font-family=\"Helvetica,sans-Serif\" font-size=\"14.00\">samples = 19931</text>\r\n",
       "<text text-anchor=\"start\" x=\"216\" y=\"-304.8\" font-family=\"Helvetica,sans-Serif\" font-size=\"14.00\">value = [16379, 3552]</text>\r\n",
       "</g>\r\n",
       "<!-- 1 -->\r\n",
       "<g id=\"node2\" class=\"node\"><title>1</title>\r\n",
       "<path fill=\"#ea9a60\" stroke=\"black\" d=\"M264.5,-261C264.5,-261 114.5,-261 114.5,-261 108.5,-261 102.5,-255 102.5,-249 102.5,-249 102.5,-205 102.5,-205 102.5,-199 108.5,-193 114.5,-193 114.5,-193 264.5,-193 264.5,-193 270.5,-193 276.5,-199 276.5,-205 276.5,-205 276.5,-249 276.5,-249 276.5,-255 270.5,-261 264.5,-261\"/>\r\n",
       "<text text-anchor=\"start\" x=\"110.5\" y=\"-245.8\" font-family=\"Helvetica,sans-Serif\" font-size=\"14.00\">Number.of.Engines ≤ 0.5</text>\r\n",
       "<text text-anchor=\"start\" x=\"152\" y=\"-230.8\" font-family=\"Helvetica,sans-Serif\" font-size=\"14.00\">gini = 0.277</text>\r\n",
       "<text text-anchor=\"start\" x=\"133.5\" y=\"-215.8\" font-family=\"Helvetica,sans-Serif\" font-size=\"14.00\">samples = 18138</text>\r\n",
       "<text text-anchor=\"start\" x=\"120\" y=\"-200.8\" font-family=\"Helvetica,sans-Serif\" font-size=\"14.00\">value = [15128, 3010]</text>\r\n",
       "</g>\r\n",
       "<!-- 0&#45;&gt;1 -->\r\n",
       "<g id=\"edge1\" class=\"edge\"><title>0&#45;&gt;1</title>\r\n",
       "<path fill=\"none\" stroke=\"black\" d=\"M254.332,-296.884C245.864,-287.887 236.597,-278.041 227.785,-268.678\"/>\r\n",
       "<polygon fill=\"black\" stroke=\"black\" points=\"230.243,-266.183 220.841,-261.299 225.146,-270.98 230.243,-266.183\"/>\r\n",
       "<text text-anchor=\"middle\" x=\"220.083\" y=\"-282.588\" font-family=\"Helvetica,sans-Serif\" font-size=\"14.00\">True</text>\r\n",
       "</g>\r\n",
       "<!-- 4 -->\r\n",
       "<g id=\"node5\" class=\"node\"><title>4</title>\r\n",
       "<path fill=\"#f0b88f\" stroke=\"black\" d=\"M456.5,-261C456.5,-261 306.5,-261 306.5,-261 300.5,-261 294.5,-255 294.5,-249 294.5,-249 294.5,-205 294.5,-205 294.5,-199 300.5,-193 306.5,-193 306.5,-193 456.5,-193 456.5,-193 462.5,-193 468.5,-199 468.5,-205 468.5,-205 468.5,-249 468.5,-249 468.5,-255 462.5,-261 456.5,-261\"/>\r\n",
       "<text text-anchor=\"start\" x=\"302.5\" y=\"-245.8\" font-family=\"Helvetica,sans-Serif\" font-size=\"14.00\">Number.of.Engines ≤ 3.5</text>\r\n",
       "<text text-anchor=\"start\" x=\"344\" y=\"-230.8\" font-family=\"Helvetica,sans-Serif\" font-size=\"14.00\">gini = 0.422</text>\r\n",
       "<text text-anchor=\"start\" x=\"330\" y=\"-215.8\" font-family=\"Helvetica,sans-Serif\" font-size=\"14.00\">samples = 1793</text>\r\n",
       "<text text-anchor=\"start\" x=\"320.5\" y=\"-200.8\" font-family=\"Helvetica,sans-Serif\" font-size=\"14.00\">value = [1251, 542]</text>\r\n",
       "</g>\r\n",
       "<!-- 0&#45;&gt;4 -->\r\n",
       "<g id=\"edge4\" class=\"edge\"><title>0&#45;&gt;4</title>\r\n",
       "<path fill=\"none\" stroke=\"black\" d=\"M316.668,-296.884C325.136,-287.887 334.403,-278.041 343.215,-268.678\"/>\r\n",
       "<polygon fill=\"black\" stroke=\"black\" points=\"345.854,-270.98 350.159,-261.299 340.757,-266.183 345.854,-270.98\"/>\r\n",
       "<text text-anchor=\"middle\" x=\"350.917\" y=\"-282.588\" font-family=\"Helvetica,sans-Serif\" font-size=\"14.00\">False</text>\r\n",
       "</g>\r\n",
       "<!-- 2 -->\r\n",
       "<g id=\"node3\" class=\"node\"><title>2</title>\r\n",
       "<path fill=\"#e58139\" stroke=\"black\" d=\"M85,-149.5C85,-149.5 12,-149.5 12,-149.5 6,-149.5 0,-143.5 0,-137.5 0,-137.5 0,-108.5 0,-108.5 0,-102.5 6,-96.5 12,-96.5 12,-96.5 85,-96.5 85,-96.5 91,-96.5 97,-102.5 97,-108.5 97,-108.5 97,-137.5 97,-137.5 97,-143.5 91,-149.5 85,-149.5\"/>\r\n",
       "<text text-anchor=\"start\" x=\"19.5\" y=\"-134.3\" font-family=\"Helvetica,sans-Serif\" font-size=\"14.00\">gini = 0.0</text>\r\n",
       "<text text-anchor=\"start\" x=\"9\" y=\"-119.3\" font-family=\"Helvetica,sans-Serif\" font-size=\"14.00\">samples = 6</text>\r\n",
       "<text text-anchor=\"start\" x=\"8\" y=\"-104.3\" font-family=\"Helvetica,sans-Serif\" font-size=\"14.00\">value = [6, 0]</text>\r\n",
       "</g>\r\n",
       "<!-- 1&#45;&gt;2 -->\r\n",
       "<g id=\"edge2\" class=\"edge\"><title>1&#45;&gt;2</title>\r\n",
       "<path fill=\"none\" stroke=\"black\" d=\"M143.721,-192.884C127.15,-180.896 108.492,-167.399 92.1125,-155.549\"/>\r\n",
       "<polygon fill=\"black\" stroke=\"black\" points=\"93.9312,-152.545 83.7776,-149.52 89.8284,-158.217 93.9312,-152.545\"/>\r\n",
       "</g>\r\n",
       "<!-- 3 -->\r\n",
       "<g id=\"node4\" class=\"node\"><title>3</title>\r\n",
       "<path fill=\"#ea9a60\" stroke=\"black\" d=\"M258,-149.5C258,-149.5 127,-149.5 127,-149.5 121,-149.5 115,-143.5 115,-137.5 115,-137.5 115,-108.5 115,-108.5 115,-102.5 121,-96.5 127,-96.5 127,-96.5 258,-96.5 258,-96.5 264,-96.5 270,-102.5 270,-108.5 270,-108.5 270,-137.5 270,-137.5 270,-143.5 264,-149.5 258,-149.5\"/>\r\n",
       "<text text-anchor=\"start\" x=\"155\" y=\"-134.3\" font-family=\"Helvetica,sans-Serif\" font-size=\"14.00\">gini = 0.277</text>\r\n",
       "<text text-anchor=\"start\" x=\"136.5\" y=\"-119.3\" font-family=\"Helvetica,sans-Serif\" font-size=\"14.00\">samples = 18132</text>\r\n",
       "<text text-anchor=\"start\" x=\"123\" y=\"-104.3\" font-family=\"Helvetica,sans-Serif\" font-size=\"14.00\">value = [15122, 3010]</text>\r\n",
       "</g>\r\n",
       "<!-- 1&#45;&gt;3 -->\r\n",
       "<g id=\"edge3\" class=\"edge\"><title>1&#45;&gt;3</title>\r\n",
       "<path fill=\"none\" stroke=\"black\" d=\"M190.474,-192.884C190.788,-182.216 191.137,-170.352 191.455,-159.519\"/>\r\n",
       "<polygon fill=\"black\" stroke=\"black\" points=\"194.954,-159.619 191.749,-149.52 187.957,-159.413 194.954,-159.619\"/>\r\n",
       "</g>\r\n",
       "<!-- 5 -->\r\n",
       "<g id=\"node6\" class=\"node\"><title>5</title>\r\n",
       "<path fill=\"#f0b78e\" stroke=\"black\" d=\"M454.5,-157C454.5,-157 304.5,-157 304.5,-157 298.5,-157 292.5,-151 292.5,-145 292.5,-145 292.5,-101 292.5,-101 292.5,-95 298.5,-89 304.5,-89 304.5,-89 454.5,-89 454.5,-89 460.5,-89 466.5,-95 466.5,-101 466.5,-101 466.5,-145 466.5,-145 466.5,-151 460.5,-157 454.5,-157\"/>\r\n",
       "<text text-anchor=\"start\" x=\"300.5\" y=\"-141.8\" font-family=\"Helvetica,sans-Serif\" font-size=\"14.00\">Number.of.Engines ≤ 2.5</text>\r\n",
       "<text text-anchor=\"start\" x=\"342\" y=\"-126.8\" font-family=\"Helvetica,sans-Serif\" font-size=\"14.00\">gini = 0.421</text>\r\n",
       "<text text-anchor=\"start\" x=\"328\" y=\"-111.8\" font-family=\"Helvetica,sans-Serif\" font-size=\"14.00\">samples = 1779</text>\r\n",
       "<text text-anchor=\"start\" x=\"318.5\" y=\"-96.8\" font-family=\"Helvetica,sans-Serif\" font-size=\"14.00\">value = [1243, 536]</text>\r\n",
       "</g>\r\n",
       "<!-- 4&#45;&gt;5 -->\r\n",
       "<g id=\"edge5\" class=\"edge\"><title>4&#45;&gt;5</title>\r\n",
       "<path fill=\"none\" stroke=\"black\" d=\"M380.851,-192.884C380.692,-184.778 380.519,-175.982 380.352,-167.472\"/>\r\n",
       "<polygon fill=\"black\" stroke=\"black\" points=\"383.848,-167.229 380.153,-157.299 376.85,-167.366 383.848,-167.229\"/>\r\n",
       "</g>\r\n",
       "<!-- 8 -->\r\n",
       "<g id=\"node9\" class=\"node\"><title>8</title>\r\n",
       "<path fill=\"#f8e0ce\" stroke=\"black\" d=\"M576,-149.5C576,-149.5 497,-149.5 497,-149.5 491,-149.5 485,-143.5 485,-137.5 485,-137.5 485,-108.5 485,-108.5 485,-102.5 491,-96.5 497,-96.5 497,-96.5 576,-96.5 576,-96.5 582,-96.5 588,-102.5 588,-108.5 588,-108.5 588,-137.5 588,-137.5 588,-143.5 582,-149.5 576,-149.5\"/>\r\n",
       "<text text-anchor=\"start\" x=\"503\" y=\"-134.3\" font-family=\"Helvetica,sans-Serif\" font-size=\"14.00\">gini = 0.49</text>\r\n",
       "<text text-anchor=\"start\" x=\"493\" y=\"-119.3\" font-family=\"Helvetica,sans-Serif\" font-size=\"14.00\">samples = 14</text>\r\n",
       "<text text-anchor=\"start\" x=\"496\" y=\"-104.3\" font-family=\"Helvetica,sans-Serif\" font-size=\"14.00\">value = [8, 6]</text>\r\n",
       "</g>\r\n",
       "<!-- 4&#45;&gt;8 -->\r\n",
       "<g id=\"edge8\" class=\"edge\"><title>4&#45;&gt;8</title>\r\n",
       "<path fill=\"none\" stroke=\"black\" d=\"M431.824,-192.884C450.208,-180.786 470.927,-167.151 489.052,-155.224\"/>\r\n",
       "<polygon fill=\"black\" stroke=\"black\" points=\"491.29,-157.941 497.72,-149.52 487.442,-152.093 491.29,-157.941\"/>\r\n",
       "</g>\r\n",
       "<!-- 6 -->\r\n",
       "<g id=\"node7\" class=\"node\"><title>6</title>\r\n",
       "<path fill=\"#f0b88f\" stroke=\"black\" d=\"M366.5,-53C366.5,-53 252.5,-53 252.5,-53 246.5,-53 240.5,-47 240.5,-41 240.5,-41 240.5,-12 240.5,-12 240.5,-6 246.5,-0 252.5,-0 252.5,-0 366.5,-0 366.5,-0 372.5,-0 378.5,-6 378.5,-12 378.5,-12 378.5,-41 378.5,-41 378.5,-47 372.5,-53 366.5,-53\"/>\r\n",
       "<text text-anchor=\"start\" x=\"272\" y=\"-37.8\" font-family=\"Helvetica,sans-Serif\" font-size=\"14.00\">gini = 0.422</text>\r\n",
       "<text text-anchor=\"start\" x=\"258\" y=\"-22.8\" font-family=\"Helvetica,sans-Serif\" font-size=\"14.00\">samples = 1766</text>\r\n",
       "<text text-anchor=\"start\" x=\"248.5\" y=\"-7.8\" font-family=\"Helvetica,sans-Serif\" font-size=\"14.00\">value = [1231, 535]</text>\r\n",
       "</g>\r\n",
       "<!-- 5&#45;&gt;6 -->\r\n",
       "<g id=\"edge6\" class=\"edge\"><title>5&#45;&gt;6</title>\r\n",
       "<path fill=\"none\" stroke=\"black\" d=\"M355.017,-88.9485C348.444,-80.0749 341.326,-70.4648 334.714,-61.5388\"/>\r\n",
       "<polygon fill=\"black\" stroke=\"black\" points=\"337.329,-59.189 328.564,-53.2367 331.704,-63.3556 337.329,-59.189\"/>\r\n",
       "</g>\r\n",
       "<!-- 7 -->\r\n",
       "<g id=\"node8\" class=\"node\"><title>7</title>\r\n",
       "<path fill=\"#e78c49\" stroke=\"black\" d=\"M490,-53C490,-53 409,-53 409,-53 403,-53 397,-47 397,-41 397,-41 397,-12 397,-12 397,-6 403,-0 409,-0 409,-0 490,-0 490,-0 496,-0 502,-6 502,-12 502,-12 502,-41 502,-41 502,-47 496,-53 490,-53\"/>\r\n",
       "<text text-anchor=\"start\" x=\"412\" y=\"-37.8\" font-family=\"Helvetica,sans-Serif\" font-size=\"14.00\">gini = 0.142</text>\r\n",
       "<text text-anchor=\"start\" x=\"406\" y=\"-22.8\" font-family=\"Helvetica,sans-Serif\" font-size=\"14.00\">samples = 13</text>\r\n",
       "<text text-anchor=\"start\" x=\"405\" y=\"-7.8\" font-family=\"Helvetica,sans-Serif\" font-size=\"14.00\">value = [12, 1]</text>\r\n",
       "</g>\r\n",
       "<!-- 5&#45;&gt;7 -->\r\n",
       "<g id=\"edge7\" class=\"edge\"><title>5&#45;&gt;7</title>\r\n",
       "<path fill=\"none\" stroke=\"black\" d=\"M403.983,-88.9485C410.556,-80.0749 417.674,-70.4648 424.286,-61.5388\"/>\r\n",
       "<polygon fill=\"black\" stroke=\"black\" points=\"427.296,-63.3556 430.436,-53.2367 421.671,-59.189 427.296,-63.3556\"/>\r\n",
       "</g>\r\n",
       "</g>\r\n",
       "</svg>\r\n"
      ],
      "text/plain": [
       "<graphviz.files.Source at 0x2a214e1d848>"
      ]
     },
     "execution_count": 32,
     "metadata": {},
     "output_type": "execute_result"
    },
    {
     "data": {
      "image/png": "[encoded data removed]",
      "text/plain": [
       "<Figure size 1800x720 with 4 Axes>"
      ]
     },
     "metadata": {
      "needs_background": "light"
     },
     "output_type": "display_data"
    }
   ],
   "source": [
    "# Split the Legendary-Total Dataset into Train and Test\n",
    "NOE_train, NOE_test, fatal_train, fatal_test = train_test_split(NOE, fatal, test_size = 0.20)\n",
    "\n",
    "# Decision Tree using Train Data\n",
    "dectree = DecisionTreeClassifier(max_depth = 3)  # create the decision tree object\n",
    "dectree.fit(NOE_train, fatal_train)                    # train the decision tree model\n",
    "\n",
    "# Predict Legendary values corresponding to Total\n",
    "fatal_train_pred = dectree.predict(NOE_train)\n",
    "fatal_test_pred = dectree.predict(NOE_test)\n",
    "\n",
    "# Check the Goodness of Fit (on Train Data)\n",
    "print(\"Goodness of Fit of Model \\tTrain Dataset\")\n",
    "print(\"Classification Accuracy \\t:\", dectree.score(NOE_train, fatal_train))\n",
    "print()\n",
    "\n",
    "# Check the Goodness of Fit (on Test Data)\n",
    "print(\"Goodness of Fit of Model \\tTest Dataset\")\n",
    "print(\"Classification Accuracy \\t:\", dectree.score(NOE_test, fatal_test))\n",
    "print()\n",
    "\n",
    "# Plot the Confusion Matrix for Train and Test\n",
    "f, axes = plt.subplots(1, 2, figsize=(25, 10))\n",
    "sb.heatmap(confusion_matrix(fatal_train, fatal_train_pred),\n",
    "           annot = True, ax = axes[0])\n",
    "sb.heatmap(confusion_matrix(fatal_test, fatal_test_pred), \n",
    "           annot = True, ax = axes[1])\n",
    "\n",
    "# Plot the Decision Tree\n",
    "treedot = export_graphviz(dectree,                                      # the model\n",
    "                          feature_names = NOE_train.columns,              # the features \n",
    "                          out_file = None,                              # output file\n",
    "                          filled = True,                                # node colors\n",
    "                          rounded = True,                               # make pretty\n",
    "                          special_characters = True)                    # postscript\n",
    "\n",
    "graphviz.Source(treedot)"
   ]
  },
  {
   "cell_type": "markdown",
   "metadata": {},
   "source": [
    "### Classification between Engine Type and Fatality"
   ]
  },
  {
   "cell_type": "code",
   "execution_count": 33,
   "metadata": {},
   "outputs": [
    {
     "name": "stdout",
     "output_type": "stream",
     "text": [
      "Goodness of Fit of Model \tTrain Dataset\n",
      "Classification Accuracy \t: 0.8238924288796348\n",
      "\n",
      "Goodness of Fit of Model \tTest Dataset\n",
      "Classification Accuracy \t: 0.8193859121011439\n",
      "\n"
     ]
    },
    {
     "data": {
      "image/svg+xml": [
       "<?xml version=\"1.0\" encoding=\"UTF-8\" standalone=\"no\"?>\r\n",
       "<!DOCTYPE svg PUBLIC \"-//W3C//DTD SVG 1.1//EN\"\r\n",
       " \"http://www.w3.org/Graphics/SVG/1.1/DTD/svg11.dtd\">\r\n",
       "<!-- Generated by graphviz version 2.38.0 (20140413.2041)\r\n",
       " -->\r\n",
       "<!-- Title: Tree Pages: 1 -->\r\n",
       "<svg width=\"511pt\" height=\"373pt\"\r\n",
       " viewBox=\"0.00 0.00 510.50 373.00\" xmlns=\"http://www.w3.org/2000/svg\" xmlns:xlink=\"http://www.w3.org/1999/xlink\">\r\n",
       "<g id=\"graph0\" class=\"graph\" transform=\"scale(1 1) rotate(0) translate(4 369)\">\r\n",
       "<title>Tree</title>\r\n",
       "<polygon fill=\"white\" stroke=\"none\" points=\"-4,4 -4,-369 506.5,-369 506.5,4 -4,4\"/>\r\n",
       "<!-- 0 -->\r\n",
       "<g id=\"node1\" class=\"node\"><title>0</title>\r\n",
       "<path fill=\"#eb9c63\" stroke=\"black\" d=\"M429,-365C429,-365 225,-365 225,-365 219,-365 213,-359 213,-353 213,-353 213,-309 213,-309 213,-303 219,-297 225,-297 225,-297 429,-297 429,-297 435,-297 441,-303 441,-309 441,-309 441,-353 441,-353 441,-359 435,-365 429,-365\"/>\r\n",
       "<text text-anchor=\"start\" x=\"221\" y=\"-349.8\" font-family=\"Helvetica,sans-Serif\" font-size=\"14.00\">Engine.Type_Reciprocating ≤ 0.5</text>\r\n",
       "<text text-anchor=\"start\" x=\"293.5\" y=\"-334.8\" font-family=\"Helvetica,sans-Serif\" font-size=\"14.00\">gini = 0.29</text>\r\n",
       "<text text-anchor=\"start\" x=\"271\" y=\"-319.8\" font-family=\"Helvetica,sans-Serif\" font-size=\"14.00\">samples = 19931</text>\r\n",
       "<text text-anchor=\"start\" x=\"257.5\" y=\"-304.8\" font-family=\"Helvetica,sans-Serif\" font-size=\"14.00\">value = [16421, 3510]</text>\r\n",
       "</g>\r\n",
       "<!-- 1 -->\r\n",
       "<g id=\"node2\" class=\"node\"><title>1</title>\r\n",
       "<path fill=\"#eca572\" stroke=\"black\" d=\"M317.5,-261C317.5,-261 140.5,-261 140.5,-261 134.5,-261 128.5,-255 128.5,-249 128.5,-249 128.5,-205 128.5,-205 128.5,-199 134.5,-193 140.5,-193 140.5,-193 317.5,-193 317.5,-193 323.5,-193 329.5,-199 329.5,-205 329.5,-205 329.5,-249 329.5,-249 329.5,-255 323.5,-261 317.5,-261\"/>\r\n",
       "<text text-anchor=\"start\" x=\"136.5\" y=\"-245.8\" font-family=\"Helvetica,sans-Serif\" font-size=\"14.00\">Engine.Type_Turbo Jet ≤ 0.5</text>\r\n",
       "<text text-anchor=\"start\" x=\"191.5\" y=\"-230.8\" font-family=\"Helvetica,sans-Serif\" font-size=\"14.00\">gini = 0.347</text>\r\n",
       "<text text-anchor=\"start\" x=\"177.5\" y=\"-215.8\" font-family=\"Helvetica,sans-Serif\" font-size=\"14.00\">samples = 2042</text>\r\n",
       "<text text-anchor=\"start\" x=\"168\" y=\"-200.8\" font-family=\"Helvetica,sans-Serif\" font-size=\"14.00\">value = [1585, 457]</text>\r\n",
       "</g>\r\n",
       "<!-- 0&#45;&gt;1 -->\r\n",
       "<g id=\"edge1\" class=\"edge\"><title>0&#45;&gt;1</title>\r\n",
       "<path fill=\"none\" stroke=\"black\" d=\"M295.182,-296.884C286.539,-287.887 277.078,-278.041 268.083,-268.678\"/>\r\n",
       "<polygon fill=\"black\" stroke=\"black\" points=\"270.446,-266.086 260.994,-261.299 265.398,-270.935 270.446,-266.086\"/>\r\n",
       "<text text-anchor=\"middle\" x=\"260.494\" y=\"-282.594\" font-family=\"Helvetica,sans-Serif\" font-size=\"14.00\">True</text>\r\n",
       "</g>\r\n",
       "<!-- 6 -->\r\n",
       "<g id=\"node7\" class=\"node\"><title>6</title>\r\n",
       "<path fill=\"#ea9b62\" stroke=\"black\" d=\"M490.5,-253.5C490.5,-253.5 359.5,-253.5 359.5,-253.5 353.5,-253.5 347.5,-247.5 347.5,-241.5 347.5,-241.5 347.5,-212.5 347.5,-212.5 347.5,-206.5 353.5,-200.5 359.5,-200.5 359.5,-200.5 490.5,-200.5 490.5,-200.5 496.5,-200.5 502.5,-206.5 502.5,-212.5 502.5,-212.5 502.5,-241.5 502.5,-241.5 502.5,-247.5 496.5,-253.5 490.5,-253.5\"/>\r\n",
       "<text text-anchor=\"start\" x=\"387.5\" y=\"-238.3\" font-family=\"Helvetica,sans-Serif\" font-size=\"14.00\">gini = 0.283</text>\r\n",
       "<text text-anchor=\"start\" x=\"369\" y=\"-223.3\" font-family=\"Helvetica,sans-Serif\" font-size=\"14.00\">samples = 17889</text>\r\n",
       "<text text-anchor=\"start\" x=\"355.5\" y=\"-208.3\" font-family=\"Helvetica,sans-Serif\" font-size=\"14.00\">value = [14836, 3053]</text>\r\n",
       "</g>\r\n",
       "<!-- 0&#45;&gt;6 -->\r\n",
       "<g id=\"edge6\" class=\"edge\"><title>0&#45;&gt;6</title>\r\n",
       "<path fill=\"none\" stroke=\"black\" d=\"M358.818,-296.884C369.913,-285.336 382.353,-272.387 393.428,-260.86\"/>\r\n",
       "<polygon fill=\"black\" stroke=\"black\" points=\"396.076,-263.156 400.481,-253.52 391.029,-258.306 396.076,-263.156\"/>\r\n",
       "<text text-anchor=\"middle\" x=\"400.981\" y=\"-274.815\" font-family=\"Helvetica,sans-Serif\" font-size=\"14.00\">False</text>\r\n",
       "</g>\r\n",
       "<!-- 2 -->\r\n",
       "<g id=\"node3\" class=\"node\"><title>2</title>\r\n",
       "<path fill=\"#eca46f\" stroke=\"black\" d=\"M233,-157C233,-157 45,-157 45,-157 39,-157 33,-151 33,-145 33,-145 33,-101 33,-101 33,-95 39,-89 45,-89 45,-89 233,-89 233,-89 239,-89 245,-95 245,-101 245,-101 245,-145 245,-145 245,-151 239,-157 233,-157\"/>\r\n",
       "<text text-anchor=\"start\" x=\"41\" y=\"-141.8\" font-family=\"Helvetica,sans-Serif\" font-size=\"14.00\">Engine.Type_Turbo Prop ≤ 0.5</text>\r\n",
       "<text text-anchor=\"start\" x=\"101.5\" y=\"-126.8\" font-family=\"Helvetica,sans-Serif\" font-size=\"14.00\">gini = 0.338</text>\r\n",
       "<text text-anchor=\"start\" x=\"87.5\" y=\"-111.8\" font-family=\"Helvetica,sans-Serif\" font-size=\"14.00\">samples = 1942</text>\r\n",
       "<text text-anchor=\"start\" x=\"78\" y=\"-96.8\" font-family=\"Helvetica,sans-Serif\" font-size=\"14.00\">value = [1523, 419]</text>\r\n",
       "</g>\r\n",
       "<!-- 1&#45;&gt;2 -->\r\n",
       "<g id=\"edge2\" class=\"edge\"><title>1&#45;&gt;2</title>\r\n",
       "<path fill=\"none\" stroke=\"black\" d=\"M199.78,-192.884C191.92,-183.976 183.325,-174.235 175.138,-164.957\"/>\r\n",
       "<polygon fill=\"black\" stroke=\"black\" points=\"177.622,-162.482 168.382,-157.299 172.374,-167.113 177.622,-162.482\"/>\r\n",
       "</g>\r\n",
       "<!-- 5 -->\r\n",
       "<g id=\"node6\" class=\"node\"><title>5</title>\r\n",
       "<path fill=\"#f5ceb2\" stroke=\"black\" d=\"M364.5,-149.5C364.5,-149.5 275.5,-149.5 275.5,-149.5 269.5,-149.5 263.5,-143.5 263.5,-137.5 263.5,-137.5 263.5,-108.5 263.5,-108.5 263.5,-102.5 269.5,-96.5 275.5,-96.5 275.5,-96.5 364.5,-96.5 364.5,-96.5 370.5,-96.5 376.5,-102.5 376.5,-108.5 376.5,-108.5 376.5,-137.5 376.5,-137.5 376.5,-143.5 370.5,-149.5 364.5,-149.5\"/>\r\n",
       "<text text-anchor=\"start\" x=\"282.5\" y=\"-134.3\" font-family=\"Helvetica,sans-Serif\" font-size=\"14.00\">gini = 0.471</text>\r\n",
       "<text text-anchor=\"start\" x=\"272.5\" y=\"-119.3\" font-family=\"Helvetica,sans-Serif\" font-size=\"14.00\">samples = 100</text>\r\n",
       "<text text-anchor=\"start\" x=\"271.5\" y=\"-104.3\" font-family=\"Helvetica,sans-Serif\" font-size=\"14.00\">value = [62, 38]</text>\r\n",
       "</g>\r\n",
       "<!-- 1&#45;&gt;5 -->\r\n",
       "<g id=\"edge5\" class=\"edge\"><title>1&#45;&gt;5</title>\r\n",
       "<path fill=\"none\" stroke=\"black\" d=\"M258.545,-192.884C268.749,-181.446 280.18,-168.634 290.389,-157.19\"/>\r\n",
       "<polygon fill=\"black\" stroke=\"black\" points=\"293.187,-159.312 297.232,-149.52 287.963,-154.652 293.187,-159.312\"/>\r\n",
       "</g>\r\n",
       "<!-- 3 -->\r\n",
       "<g id=\"node4\" class=\"node\"><title>3</title>\r\n",
       "<path fill=\"#eb9e67\" stroke=\"black\" d=\"M118,-53C118,-53 12,-53 12,-53 6,-53 0,-47 0,-41 0,-41 0,-12 0,-12 0,-6 6,-0 12,-0 12,-0 118,-0 118,-0 124,-0 130,-6 130,-12 130,-12 130,-41 130,-41 130,-47 124,-53 118,-53\"/>\r\n",
       "<text text-anchor=\"start\" x=\"27.5\" y=\"-37.8\" font-family=\"Helvetica,sans-Serif\" font-size=\"14.00\">gini = 0.305</text>\r\n",
       "<text text-anchor=\"start\" x=\"13.5\" y=\"-22.8\" font-family=\"Helvetica,sans-Serif\" font-size=\"14.00\">samples = 1027</text>\r\n",
       "<text text-anchor=\"start\" x=\"8\" y=\"-7.8\" font-family=\"Helvetica,sans-Serif\" font-size=\"14.00\">value = [834, 193]</text>\r\n",
       "</g>\r\n",
       "<!-- 2&#45;&gt;3 -->\r\n",
       "<g id=\"edge3\" class=\"edge\"><title>2&#45;&gt;3</title>\r\n",
       "<path fill=\"none\" stroke=\"black\" d=\"M113.118,-88.9485C106.098,-79.9834 98.4892,-70.2666 91.4387,-61.2629\"/>\r\n",
       "<polygon fill=\"black\" stroke=\"black\" points=\"94.0746,-58.9521 85.1536,-53.2367 88.5633,-63.2679 94.0746,-58.9521\"/>\r\n",
       "</g>\r\n",
       "<!-- 4 -->\r\n",
       "<g id=\"node5\" class=\"node\"><title>4</title>\r\n",
       "<path fill=\"#eeaa7a\" stroke=\"black\" d=\"M266,-53C266,-53 160,-53 160,-53 154,-53 148,-47 148,-41 148,-41 148,-12 148,-12 148,-6 154,-0 160,-0 160,-0 266,-0 266,-0 272,-0 278,-6 278,-12 278,-12 278,-41 278,-41 278,-47 272,-53 266,-53\"/>\r\n",
       "<text text-anchor=\"start\" x=\"175.5\" y=\"-37.8\" font-family=\"Helvetica,sans-Serif\" font-size=\"14.00\">gini = 0.372</text>\r\n",
       "<text text-anchor=\"start\" x=\"165.5\" y=\"-22.8\" font-family=\"Helvetica,sans-Serif\" font-size=\"14.00\">samples = 915</text>\r\n",
       "<text text-anchor=\"start\" x=\"156\" y=\"-7.8\" font-family=\"Helvetica,sans-Serif\" font-size=\"14.00\">value = [689, 226]</text>\r\n",
       "</g>\r\n",
       "<!-- 2&#45;&gt;4 -->\r\n",
       "<g id=\"edge4\" class=\"edge\"><title>2&#45;&gt;4</title>\r\n",
       "<path fill=\"none\" stroke=\"black\" d=\"M164.882,-88.9485C171.902,-79.9834 179.511,-70.2666 186.561,-61.2629\"/>\r\n",
       "<polygon fill=\"black\" stroke=\"black\" points=\"189.437,-63.2679 192.846,-53.2367 183.925,-58.9521 189.437,-63.2679\"/>\r\n",
       "</g>\r\n",
       "</g>\r\n",
       "</svg>\r\n"
      ],
      "text/plain": [
       "<graphviz.files.Source at 0x2a215f2ab88>"
      ]
     },
     "execution_count": 33,
     "metadata": {},
     "output_type": "execute_result"
    },
    {
     "data": {
      "image/png": "[encoded data removed]",
      "text/plain": [
       "<Figure size 1800x720 with 4 Axes>"
      ]
     },
     "metadata": {
      "needs_background": "light"
     },
     "output_type": "display_data"
    }
   ],
   "source": [
    "# Split the Dataset into Train and Test\n",
    "engine_train, engine_test, fatal_train, fatal_test = train_test_split(enginetype_dummy, fatal, test_size = 0.20)\n",
    "\n",
    "# Decision Tree using Train Data\n",
    "dectree = DecisionTreeClassifier(max_depth = 3)  # create the decision tree object\n",
    "dectree.fit(engine_train, fatal_train)                    # train the decision tree model\n",
    "\n",
    "# Predict Legendary values corresponding to Total\n",
    "fatal_train_pred = dectree.predict(engine_train)\n",
    "fatal_test_pred = dectree.predict(engine_test)\n",
    "\n",
    "# Check the Goodness of Fit (on Train Data)\n",
    "print(\"Goodness of Fit of Model \\tTrain Dataset\")\n",
    "print(\"Classification Accuracy \\t:\", dectree.score(engine_train, fatal_train))\n",
    "print()\n",
    "\n",
    "# Check the Goodness of Fit (on Test Data)\n",
    "print(\"Goodness of Fit of Model \\tTest Dataset\")\n",
    "print(\"Classification Accuracy \\t:\", dectree.score(engine_test, fatal_test))\n",
    "print()\n",
    "\n",
    "# Plot the Confusion Matrix for Train and Test\n",
    "f, axes = plt.subplots(1, 2, figsize=(25, 10))\n",
    "sb.heatmap(confusion_matrix(fatal_train, fatal_train_pred),\n",
    "           annot = True, ax = axes[0])\n",
    "sb.heatmap(confusion_matrix(fatal_test, fatal_test_pred), \n",
    "           annot = True, ax = axes[1])\n",
    "\n",
    "# Plot the Decision Tree\n",
    "treedot = export_graphviz(dectree,                                      # the model\n",
    "                          feature_names = engine_train.columns,              # the features \n",
    "                          out_file = None,                              # output file\n",
    "                          filled = True,                                # node colors\n",
    "                          rounded = True,                               # make pretty\n",
    "                          special_characters = True)                    # postscript\n",
    "\n",
    "graphviz.Source(treedot)"
   ]
  },
  {
   "cell_type": "markdown",
   "metadata": {},
   "source": [
    "### Classification between Purpose of Flight and Fatality"
   ]
  },
  {
   "cell_type": "code",
   "execution_count": 34,
   "metadata": {
    "scrolled": false
   },
   "outputs": [
    {
     "name": "stdout",
     "output_type": "stream",
     "text": [
      "Goodness of Fit of Model \tTrain Dataset\n",
      "Classification Accuracy \t: 0.8221363704781496\n",
      "\n",
      "Goodness of Fit of Model \tTest Dataset\n",
      "Classification Accuracy \t: 0.8264097932972105\n",
      "\n"
     ]
    },
    {
     "data": {
      "image/svg+xml": [
       "<?xml version=\"1.0\" encoding=\"UTF-8\" standalone=\"no\"?>\r\n",
       "<!DOCTYPE svg PUBLIC \"-//W3C//DTD SVG 1.1//EN\"\r\n",
       " \"http://www.w3.org/Graphics/SVG/1.1/DTD/svg11.dtd\">\r\n",
       "<!-- Generated by graphviz version 2.38.0 (20140413.2041)\r\n",
       " -->\r\n",
       "<!-- Title: Tree Pages: 1 -->\r\n",
       "<svg width=\"654pt\" height=\"477pt\"\r\n",
       " viewBox=\"0.00 0.00 654.00 477.00\" xmlns=\"http://www.w3.org/2000/svg\" xmlns:xlink=\"http://www.w3.org/1999/xlink\">\r\n",
       "<g id=\"graph0\" class=\"graph\" transform=\"scale(1 1) rotate(0) translate(4 473)\">\r\n",
       "<title>Tree</title>\r\n",
       "<polygon fill=\"white\" stroke=\"none\" points=\"-4,4 -4,-473 650,-473 650,4 -4,4\"/>\r\n",
       "<!-- 0 -->\r\n",
       "<g id=\"node1\" class=\"node\"><title>0</title>\r\n",
       "<path fill=\"#eb9c64\" stroke=\"black\" d=\"M574.5,-469C574.5,-469 353.5,-469 353.5,-469 347.5,-469 341.5,-463 341.5,-457 341.5,-457 341.5,-413 341.5,-413 341.5,-407 347.5,-401 353.5,-401 353.5,-401 574.5,-401 574.5,-401 580.5,-401 586.5,-407 586.5,-413 586.5,-413 586.5,-457 586.5,-457 586.5,-463 580.5,-469 574.5,-469\"/>\r\n",
       "<text text-anchor=\"start\" x=\"349.5\" y=\"-453.8\" font-family=\"Helvetica,sans-Serif\" font-size=\"14.00\">Purpose.of.Flight_Instructional ≤ 0.5</text>\r\n",
       "<text text-anchor=\"start\" x=\"426.5\" y=\"-438.8\" font-family=\"Helvetica,sans-Serif\" font-size=\"14.00\">gini = 0.292</text>\r\n",
       "<text text-anchor=\"start\" x=\"408\" y=\"-423.8\" font-family=\"Helvetica,sans-Serif\" font-size=\"14.00\">samples = 19931</text>\r\n",
       "<text text-anchor=\"start\" x=\"394.5\" y=\"-408.8\" font-family=\"Helvetica,sans-Serif\" font-size=\"14.00\">value = [16386, 3545]</text>\r\n",
       "</g>\r\n",
       "<!-- 1 -->\r\n",
       "<g id=\"node2\" class=\"node\"><title>1</title>\r\n",
       "<path fill=\"#eb9f68\" stroke=\"black\" d=\"M478,-365C478,-365 224,-365 224,-365 218,-365 212,-359 212,-353 212,-353 212,-309 212,-309 212,-303 218,-297 224,-297 224,-297 478,-297 478,-297 484,-297 490,-303 490,-309 490,-309 490,-353 490,-353 490,-359 484,-365 478,-365\"/>\r\n",
       "<text text-anchor=\"start\" x=\"220\" y=\"-349.8\" font-family=\"Helvetica,sans-Serif\" font-size=\"14.00\">Purpose.of.Flight_Aerial Application ≤ 0.5</text>\r\n",
       "<text text-anchor=\"start\" x=\"317.5\" y=\"-334.8\" font-family=\"Helvetica,sans-Serif\" font-size=\"14.00\">gini = 0.31</text>\r\n",
       "<text text-anchor=\"start\" x=\"295\" y=\"-319.8\" font-family=\"Helvetica,sans-Serif\" font-size=\"14.00\">samples = 17004</text>\r\n",
       "<text text-anchor=\"start\" x=\"281.5\" y=\"-304.8\" font-family=\"Helvetica,sans-Serif\" font-size=\"14.00\">value = [13746, 3258]</text>\r\n",
       "</g>\r\n",
       "<!-- 0&#45;&gt;1 -->\r\n",
       "<g id=\"edge1\" class=\"edge\"><title>0&#45;&gt;1</title>\r\n",
       "<path fill=\"none\" stroke=\"black\" d=\"M427.312,-400.884C417.148,-391.709 406.005,-381.65 395.45,-372.123\"/>\r\n",
       "<polygon fill=\"black\" stroke=\"black\" points=\"397.659,-369.402 387.89,-365.299 392.968,-374.598 397.659,-369.402\"/>\r\n",
       "<text text-anchor=\"middle\" x=\"389.168\" y=\"-386.567\" font-family=\"Helvetica,sans-Serif\" font-size=\"14.00\">True</text>\r\n",
       "</g>\r\n",
       "<!-- 8 -->\r\n",
       "<g id=\"node9\" class=\"node\"><title>8</title>\r\n",
       "<path fill=\"#e88f4f\" stroke=\"black\" d=\"M634,-357.5C634,-357.5 520,-357.5 520,-357.5 514,-357.5 508,-351.5 508,-345.5 508,-345.5 508,-316.5 508,-316.5 508,-310.5 514,-304.5 520,-304.5 520,-304.5 634,-304.5 634,-304.5 640,-304.5 646,-310.5 646,-316.5 646,-316.5 646,-345.5 646,-345.5 646,-351.5 640,-357.5 634,-357.5\"/>\r\n",
       "<text text-anchor=\"start\" x=\"539.5\" y=\"-342.3\" font-family=\"Helvetica,sans-Serif\" font-size=\"14.00\">gini = 0.177</text>\r\n",
       "<text text-anchor=\"start\" x=\"525.5\" y=\"-327.3\" font-family=\"Helvetica,sans-Serif\" font-size=\"14.00\">samples = 2927</text>\r\n",
       "<text text-anchor=\"start\" x=\"516\" y=\"-312.3\" font-family=\"Helvetica,sans-Serif\" font-size=\"14.00\">value = [2640, 287]</text>\r\n",
       "</g>\r\n",
       "<!-- 0&#45;&gt;8 -->\r\n",
       "<g id=\"edge8\" class=\"edge\"><title>0&#45;&gt;8</title>\r\n",
       "<path fill=\"none\" stroke=\"black\" d=\"M500.688,-400.884C513.603,-389.226 528.099,-376.141 540.96,-364.532\"/>\r\n",
       "<polygon fill=\"black\" stroke=\"black\" points=\"543.65,-366.819 548.728,-357.52 538.96,-361.622 543.65,-366.819\"/>\r\n",
       "<text text-anchor=\"middle\" x=\"547.451\" y=\"-378.787\" font-family=\"Helvetica,sans-Serif\" font-size=\"14.00\">False</text>\r\n",
       "</g>\r\n",
       "<!-- 2 -->\r\n",
       "<g id=\"node3\" class=\"node\"><title>2</title>\r\n",
       "<path fill=\"#eba069\" stroke=\"black\" d=\"M363.5,-261C363.5,-261 124.5,-261 124.5,-261 118.5,-261 112.5,-255 112.5,-249 112.5,-249 112.5,-205 112.5,-205 112.5,-199 118.5,-193 124.5,-193 124.5,-193 363.5,-193 363.5,-193 369.5,-193 375.5,-199 375.5,-205 375.5,-205 375.5,-249 375.5,-249 375.5,-255 369.5,-261 363.5,-261\"/>\r\n",
       "<text text-anchor=\"start\" x=\"120.5\" y=\"-245.8\" font-family=\"Helvetica,sans-Serif\" font-size=\"14.00\">Purpose.of.Flight_Air Race/Show ≤ 0.5</text>\r\n",
       "<text text-anchor=\"start\" x=\"206.5\" y=\"-230.8\" font-family=\"Helvetica,sans-Serif\" font-size=\"14.00\">gini = 0.316</text>\r\n",
       "<text text-anchor=\"start\" x=\"188\" y=\"-215.8\" font-family=\"Helvetica,sans-Serif\" font-size=\"14.00\">samples = 16001</text>\r\n",
       "<text text-anchor=\"start\" x=\"174.5\" y=\"-200.8\" font-family=\"Helvetica,sans-Serif\" font-size=\"14.00\">value = [12855, 3146]</text>\r\n",
       "</g>\r\n",
       "<!-- 1&#45;&gt;2 -->\r\n",
       "<g id=\"edge2\" class=\"edge\"><title>1&#45;&gt;2</title>\r\n",
       "<path fill=\"none\" stroke=\"black\" d=\"M316.26,-296.884C306.729,-287.798 296.289,-277.845 286.381,-268.4\"/>\r\n",
       "<polygon fill=\"black\" stroke=\"black\" points=\"288.585,-265.666 278.932,-261.299 283.755,-270.733 288.585,-265.666\"/>\r\n",
       "</g>\r\n",
       "<!-- 7 -->\r\n",
       "<g id=\"node8\" class=\"node\"><title>7</title>\r\n",
       "<path fill=\"#e89152\" stroke=\"black\" d=\"M512,-253.5C512,-253.5 406,-253.5 406,-253.5 400,-253.5 394,-247.5 394,-241.5 394,-241.5 394,-212.5 394,-212.5 394,-206.5 400,-200.5 406,-200.5 406,-200.5 512,-200.5 512,-200.5 518,-200.5 524,-206.5 524,-212.5 524,-212.5 524,-241.5 524,-241.5 524,-247.5 518,-253.5 512,-253.5\"/>\r\n",
       "<text text-anchor=\"start\" x=\"421.5\" y=\"-238.3\" font-family=\"Helvetica,sans-Serif\" font-size=\"14.00\">gini = 0.198</text>\r\n",
       "<text text-anchor=\"start\" x=\"407.5\" y=\"-223.3\" font-family=\"Helvetica,sans-Serif\" font-size=\"14.00\">samples = 1003</text>\r\n",
       "<text text-anchor=\"start\" x=\"402\" y=\"-208.3\" font-family=\"Helvetica,sans-Serif\" font-size=\"14.00\">value = [891, 112]</text>\r\n",
       "</g>\r\n",
       "<!-- 1&#45;&gt;7 -->\r\n",
       "<g id=\"edge7\" class=\"edge\"><title>1&#45;&gt;7</title>\r\n",
       "<path fill=\"none\" stroke=\"black\" d=\"M386.065,-296.884C398.408,-285.226 412.263,-272.141 424.555,-260.532\"/>\r\n",
       "<polygon fill=\"black\" stroke=\"black\" points=\"427.112,-262.931 431.979,-253.52 422.306,-257.842 427.112,-262.931\"/>\r\n",
       "</g>\r\n",
       "<!-- 3 -->\r\n",
       "<g id=\"node4\" class=\"node\"><title>3</title>\r\n",
       "<path fill=\"#eba069\" stroke=\"black\" d=\"M251.5,-157C251.5,-157 50.5,-157 50.5,-157 44.5,-157 38.5,-151 38.5,-145 38.5,-145 38.5,-101 38.5,-101 38.5,-95 44.5,-89 50.5,-89 50.5,-89 251.5,-89 251.5,-89 257.5,-89 263.5,-95 263.5,-101 263.5,-101 263.5,-145 263.5,-145 263.5,-151 257.5,-157 251.5,-157\"/>\r\n",
       "<text text-anchor=\"start\" x=\"46.5\" y=\"-141.8\" font-family=\"Helvetica,sans-Serif\" font-size=\"14.00\">Purpose.of.Flight_Personal ≤ 0.5</text>\r\n",
       "<text text-anchor=\"start\" x=\"113.5\" y=\"-126.8\" font-family=\"Helvetica,sans-Serif\" font-size=\"14.00\">gini = 0.315</text>\r\n",
       "<text text-anchor=\"start\" x=\"95\" y=\"-111.8\" font-family=\"Helvetica,sans-Serif\" font-size=\"14.00\">samples = 15936</text>\r\n",
       "<text text-anchor=\"start\" x=\"81.5\" y=\"-96.8\" font-family=\"Helvetica,sans-Serif\" font-size=\"14.00\">value = [12818, 3118]</text>\r\n",
       "</g>\r\n",
       "<!-- 2&#45;&gt;3 -->\r\n",
       "<g id=\"edge3\" class=\"edge\"><title>2&#45;&gt;3</title>\r\n",
       "<path fill=\"none\" stroke=\"black\" d=\"M213.806,-192.884C205.684,-183.976 196.803,-174.235 188.343,-164.957\"/>\r\n",
       "<polygon fill=\"black\" stroke=\"black\" points=\"190.685,-162.331 181.361,-157.299 185.512,-167.047 190.685,-162.331\"/>\r\n",
       "</g>\r\n",
       "<!-- 6 -->\r\n",
       "<g id=\"node7\" class=\"node\"><title>6</title>\r\n",
       "<path fill=\"#f9e0cf\" stroke=\"black\" d=\"M382.5,-149.5C382.5,-149.5 293.5,-149.5 293.5,-149.5 287.5,-149.5 281.5,-143.5 281.5,-137.5 281.5,-137.5 281.5,-108.5 281.5,-108.5 281.5,-102.5 287.5,-96.5 293.5,-96.5 293.5,-96.5 382.5,-96.5 382.5,-96.5 388.5,-96.5 394.5,-102.5 394.5,-108.5 394.5,-108.5 394.5,-137.5 394.5,-137.5 394.5,-143.5 388.5,-149.5 382.5,-149.5\"/>\r\n",
       "<text text-anchor=\"start\" x=\"304.5\" y=\"-134.3\" font-family=\"Helvetica,sans-Serif\" font-size=\"14.00\">gini = 0.49</text>\r\n",
       "<text text-anchor=\"start\" x=\"294.5\" y=\"-119.3\" font-family=\"Helvetica,sans-Serif\" font-size=\"14.00\">samples = 65</text>\r\n",
       "<text text-anchor=\"start\" x=\"289.5\" y=\"-104.3\" font-family=\"Helvetica,sans-Serif\" font-size=\"14.00\">value = [37, 28]</text>\r\n",
       "</g>\r\n",
       "<!-- 2&#45;&gt;6 -->\r\n",
       "<g id=\"edge6\" class=\"edge\"><title>2&#45;&gt;6</title>\r\n",
       "<path fill=\"none\" stroke=\"black\" d=\"M274.519,-192.884C285.06,-181.446 296.867,-168.634 307.413,-157.19\"/>\r\n",
       "<polygon fill=\"black\" stroke=\"black\" points=\"310.279,-159.245 314.482,-149.52 305.131,-154.502 310.279,-159.245\"/>\r\n",
       "</g>\r\n",
       "<!-- 4 -->\r\n",
       "<g id=\"node5\" class=\"node\"><title>4</title>\r\n",
       "<path fill=\"#eca571\" stroke=\"black\" d=\"M126,-53C126,-53 12,-53 12,-53 6,-53 0,-47 0,-41 0,-41 0,-12 0,-12 0,-6 6,-0 12,-0 12,-0 126,-0 126,-0 132,-0 138,-6 138,-12 138,-12 138,-41 138,-41 138,-47 132,-53 126,-53\"/>\r\n",
       "<text text-anchor=\"start\" x=\"31.5\" y=\"-37.8\" font-family=\"Helvetica,sans-Serif\" font-size=\"14.00\">gini = 0.345</text>\r\n",
       "<text text-anchor=\"start\" x=\"17.5\" y=\"-22.8\" font-family=\"Helvetica,sans-Serif\" font-size=\"14.00\">samples = 2688</text>\r\n",
       "<text text-anchor=\"start\" x=\"8\" y=\"-7.8\" font-family=\"Helvetica,sans-Serif\" font-size=\"14.00\">value = [2092, 596]</text>\r\n",
       "</g>\r\n",
       "<!-- 3&#45;&gt;4 -->\r\n",
       "<g id=\"edge4\" class=\"edge\"><title>3&#45;&gt;4</title>\r\n",
       "<path fill=\"none\" stroke=\"black\" d=\"M122.32,-88.9485C114.462,-79.892 105.938,-70.0682 98.0579,-60.9875\"/>\r\n",
       "<polygon fill=\"black\" stroke=\"black\" points=\"100.53,-58.4958 91.3324,-53.2367 95.2427,-63.0835 100.53,-58.4958\"/>\r\n",
       "</g>\r\n",
       "<!-- 5 -->\r\n",
       "<g id=\"node6\" class=\"node\"><title>5</title>\r\n",
       "<path fill=\"#eb9f68\" stroke=\"black\" d=\"M299.5,-53C299.5,-53 168.5,-53 168.5,-53 162.5,-53 156.5,-47 156.5,-41 156.5,-41 156.5,-12 156.5,-12 156.5,-6 162.5,-0 168.5,-0 168.5,-0 299.5,-0 299.5,-0 305.5,-0 311.5,-6 311.5,-12 311.5,-12 311.5,-41 311.5,-41 311.5,-47 305.5,-53 299.5,-53\"/>\r\n",
       "<text text-anchor=\"start\" x=\"196.5\" y=\"-37.8\" font-family=\"Helvetica,sans-Serif\" font-size=\"14.00\">gini = 0.308</text>\r\n",
       "<text text-anchor=\"start\" x=\"178\" y=\"-22.8\" font-family=\"Helvetica,sans-Serif\" font-size=\"14.00\">samples = 13248</text>\r\n",
       "<text text-anchor=\"start\" x=\"164.5\" y=\"-7.8\" font-family=\"Helvetica,sans-Serif\" font-size=\"14.00\">value = [10726, 2522]</text>\r\n",
       "</g>\r\n",
       "<!-- 3&#45;&gt;5 -->\r\n",
       "<g id=\"edge5\" class=\"edge\"><title>3&#45;&gt;5</title>\r\n",
       "<path fill=\"none\" stroke=\"black\" d=\"M180.029,-88.9485C187.984,-79.892 196.612,-70.0682 204.588,-60.9875\"/>\r\n",
       "<polygon fill=\"black\" stroke=\"black\" points=\"207.426,-63.0599 211.395,-53.2367 202.166,-58.4405 207.426,-63.0599\"/>\r\n",
       "</g>\r\n",
       "</g>\r\n",
       "</svg>\r\n"
      ],
      "text/plain": [
       "<graphviz.files.Source at 0x2a214af17c8>"
      ]
     },
     "execution_count": 34,
     "metadata": {},
     "output_type": "execute_result"
    },
    {
     "data": {
      "image/png": "[encoded data removed]",
      "text/plain": [
       "<Figure size 1800x720 with 4 Axes>"
      ]
     },
     "metadata": {
      "needs_background": "light"
     },
     "output_type": "display_data"
    }
   ],
   "source": [
    "# Split the Dataset into Train and Test\n",
    "purpose_train, purpose_test, fatal_train, fatal_test = train_test_split(purpose_dummy, fatal, test_size = 0.20)\n",
    "\n",
    "# Decision Tree using Train Data\n",
    "dectree = DecisionTreeClassifier(max_depth = 4)  # create the decision tree object\n",
    "dectree.fit(purpose_train, fatal_train)                    # train the decision tree model\n",
    "\n",
    "# Predict Response corresponding to Predictors\n",
    "fatal_train_pred = dectree.predict(purpose_train)\n",
    "fatal_test_pred = dectree.predict(purpose_test)\n",
    "\n",
    "# Check the Goodness of Fit (on Train Data)\n",
    "print(\"Goodness of Fit of Model \\tTrain Dataset\")\n",
    "print(\"Classification Accuracy \\t:\", dectree.score(purpose_train, fatal_train))\n",
    "print()\n",
    "\n",
    "# Check the Goodness of Fit (on Test Data)\n",
    "print(\"Goodness of Fit of Model \\tTest Dataset\")\n",
    "print(\"Classification Accuracy \\t:\", dectree.score(purpose_test, fatal_test))\n",
    "print()\n",
    "\n",
    "# Plot the Confusion Matrix for Train and Test\n",
    "f, axes = plt.subplots(1, 2, figsize=(25, 10))\n",
    "sb.heatmap(confusion_matrix(fatal_train, fatal_train_pred),\n",
    "           annot = True, ax = axes[0])\n",
    "sb.heatmap(confusion_matrix(fatal_test, fatal_test_pred), \n",
    "           annot = True, ax = axes[1])\n",
    "\n",
    "# Plot the Decision Tree\n",
    "treedot = export_graphviz(dectree,                                      # the model\n",
    "                          feature_names = purpose_train.columns,              # the features \n",
    "                          out_file = None,                              # output file\n",
    "                          filled = True,                                # node colors\n",
    "                          rounded = True,                               # make pretty\n",
    "                          special_characters = True)                    # postscript\n",
    "\n",
    "graphviz.Source(treedot)"
   ]
  },
  {
   "cell_type": "markdown",
   "metadata": {},
   "source": [
    "### Classification between Weather Condition and Fatality"
   ]
  },
  {
   "cell_type": "code",
   "execution_count": 35,
   "metadata": {
    "scrolled": true
   },
   "outputs": [
    {
     "name": "stdout",
     "output_type": "stream",
     "text": [
      "Goodness of Fit of Model \tTrain Dataset\n",
      "Classification Accuracy \t: 0.8366363955646982\n",
      "\n",
      "Goodness of Fit of Model \tTest Dataset\n",
      "Classification Accuracy \t: 0.8418623319285571\n",
      "\n"
     ]
    },
    {
     "data": {
      "image/svg+xml": [
       "<?xml version=\"1.0\" encoding=\"UTF-8\" standalone=\"no\"?>\r\n",
       "<!DOCTYPE svg PUBLIC \"-//W3C//DTD SVG 1.1//EN\"\r\n",
       " \"http://www.w3.org/Graphics/SVG/1.1/DTD/svg11.dtd\">\r\n",
       "<!-- Generated by graphviz version 2.38.0 (20140413.2041)\r\n",
       " -->\r\n",
       "<!-- Title: Tree Pages: 1 -->\r\n",
       "<svg width=\"404pt\" height=\"269pt\"\r\n",
       " viewBox=\"0.00 0.00 404.00 269.00\" xmlns=\"http://www.w3.org/2000/svg\" xmlns:xlink=\"http://www.w3.org/1999/xlink\">\r\n",
       "<g id=\"graph0\" class=\"graph\" transform=\"scale(1 1) rotate(0) translate(4 265)\">\r\n",
       "<title>Tree</title>\r\n",
       "<polygon fill=\"white\" stroke=\"none\" points=\"-4,4 -4,-265 400,-265 400,4 -4,4\"/>\r\n",
       "<!-- 0 -->\r\n",
       "<g id=\"node1\" class=\"node\"><title>0</title>\r\n",
       "<path fill=\"#eb9c64\" stroke=\"black\" d=\"M312,-261C312,-261 127,-261 127,-261 121,-261 115,-255 115,-249 115,-249 115,-205 115,-205 115,-199 121,-193 127,-193 127,-193 312,-193 312,-193 318,-193 324,-199 324,-205 324,-205 324,-249 324,-249 324,-255 318,-261 312,-261\"/>\r\n",
       "<text text-anchor=\"start\" x=\"123\" y=\"-245.8\" font-family=\"Helvetica,sans-Serif\" font-size=\"14.00\">Weather.Condition_VMC ≤ 0.5</text>\r\n",
       "<text text-anchor=\"start\" x=\"182\" y=\"-230.8\" font-family=\"Helvetica,sans-Serif\" font-size=\"14.00\">gini = 0.294</text>\r\n",
       "<text text-anchor=\"start\" x=\"163.5\" y=\"-215.8\" font-family=\"Helvetica,sans-Serif\" font-size=\"14.00\">samples = 19931</text>\r\n",
       "<text text-anchor=\"start\" x=\"150\" y=\"-200.8\" font-family=\"Helvetica,sans-Serif\" font-size=\"14.00\">value = [16369, 3562]</text>\r\n",
       "</g>\r\n",
       "<!-- 1 -->\r\n",
       "<g id=\"node2\" class=\"node\"><title>1</title>\r\n",
       "<path fill=\"#a3d1f3\" stroke=\"black\" d=\"M210.5,-157C210.5,-157 30.5,-157 30.5,-157 24.5,-157 18.5,-151 18.5,-145 18.5,-145 18.5,-101 18.5,-101 18.5,-95 24.5,-89 30.5,-89 30.5,-89 210.5,-89 210.5,-89 216.5,-89 222.5,-95 222.5,-101 222.5,-101 222.5,-145 222.5,-145 222.5,-151 216.5,-157 210.5,-157\"/>\r\n",
       "<text text-anchor=\"start\" x=\"26.5\" y=\"-141.8\" font-family=\"Helvetica,sans-Serif\" font-size=\"14.00\">Weather.Condition_IMC ≤ 0.5</text>\r\n",
       "<text text-anchor=\"start\" x=\"83\" y=\"-126.8\" font-family=\"Helvetica,sans-Serif\" font-size=\"14.00\">gini = 0.454</text>\r\n",
       "<text text-anchor=\"start\" x=\"69\" y=\"-111.8\" font-family=\"Helvetica,sans-Serif\" font-size=\"14.00\">samples = 1006</text>\r\n",
       "<text text-anchor=\"start\" x=\"63.5\" y=\"-96.8\" font-family=\"Helvetica,sans-Serif\" font-size=\"14.00\">value = [350, 656]</text>\r\n",
       "</g>\r\n",
       "<!-- 0&#45;&gt;1 -->\r\n",
       "<g id=\"edge1\" class=\"edge\"><title>0&#45;&gt;1</title>\r\n",
       "<path fill=\"none\" stroke=\"black\" d=\"M187.358,-192.884C178.626,-183.887 169.069,-174.041 159.982,-164.678\"/>\r\n",
       "<polygon fill=\"black\" stroke=\"black\" points=\"162.296,-162.038 152.82,-157.299 157.273,-166.913 162.296,-162.038\"/>\r\n",
       "<text text-anchor=\"middle\" x=\"152.447\" y=\"-178.597\" font-family=\"Helvetica,sans-Serif\" font-size=\"14.00\">True</text>\r\n",
       "</g>\r\n",
       "<!-- 4 -->\r\n",
       "<g id=\"node5\" class=\"node\"><title>4</title>\r\n",
       "<path fill=\"#ea985d\" stroke=\"black\" d=\"M384,-149.5C384,-149.5 253,-149.5 253,-149.5 247,-149.5 241,-143.5 241,-137.5 241,-137.5 241,-108.5 241,-108.5 241,-102.5 247,-96.5 253,-96.5 253,-96.5 384,-96.5 384,-96.5 390,-96.5 396,-102.5 396,-108.5 396,-108.5 396,-137.5 396,-137.5 396,-143.5 390,-149.5 384,-149.5\"/>\r\n",
       "<text text-anchor=\"start\" x=\"285\" y=\"-134.3\" font-family=\"Helvetica,sans-Serif\" font-size=\"14.00\">gini = 0.26</text>\r\n",
       "<text text-anchor=\"start\" x=\"262.5\" y=\"-119.3\" font-family=\"Helvetica,sans-Serif\" font-size=\"14.00\">samples = 18925</text>\r\n",
       "<text text-anchor=\"start\" x=\"249\" y=\"-104.3\" font-family=\"Helvetica,sans-Serif\" font-size=\"14.00\">value = [16019, 2906]</text>\r\n",
       "</g>\r\n",
       "<!-- 0&#45;&gt;4 -->\r\n",
       "<g id=\"edge4\" class=\"edge\"><title>0&#45;&gt;4</title>\r\n",
       "<path fill=\"none\" stroke=\"black\" d=\"M251.642,-192.884C262.851,-181.336 275.418,-168.387 286.606,-156.86\"/>\r\n",
       "<polygon fill=\"black\" stroke=\"black\" points=\"289.277,-159.133 293.731,-149.52 284.254,-154.258 289.277,-159.133\"/>\r\n",
       "<text text-anchor=\"middle\" x=\"294.104\" y=\"-170.817\" font-family=\"Helvetica,sans-Serif\" font-size=\"14.00\">False</text>\r\n",
       "</g>\r\n",
       "<!-- 2 -->\r\n",
       "<g id=\"node3\" class=\"node\"><title>2</title>\r\n",
       "<path fill=\"#acd6f4\" stroke=\"black\" d=\"M93,-53C93,-53 12,-53 12,-53 6,-53 0,-47 0,-41 0,-41 0,-12 0,-12 0,-6 6,-0 12,-0 12,-0 93,-0 93,-0 99,-0 105,-6 105,-12 105,-12 105,-41 105,-41 105,-47 99,-53 93,-53\"/>\r\n",
       "<text text-anchor=\"start\" x=\"15\" y=\"-37.8\" font-family=\"Helvetica,sans-Serif\" font-size=\"14.00\">gini = 0.465</text>\r\n",
       "<text text-anchor=\"start\" x=\"9\" y=\"-22.8\" font-family=\"Helvetica,sans-Serif\" font-size=\"14.00\">samples = 19</text>\r\n",
       "<text text-anchor=\"start\" x=\"8\" y=\"-7.8\" font-family=\"Helvetica,sans-Serif\" font-size=\"14.00\">value = [7, 12]</text>\r\n",
       "</g>\r\n",
       "<!-- 1&#45;&gt;2 -->\r\n",
       "<g id=\"edge2\" class=\"edge\"><title>1&#45;&gt;2</title>\r\n",
       "<path fill=\"none\" stroke=\"black\" d=\"M96.7169,-88.9485C90.3317,-80.0749 83.4165,-70.4648 76.9935,-61.5388\"/>\r\n",
       "<polygon fill=\"black\" stroke=\"black\" points=\"79.7013,-59.3094 71.0195,-53.2367 74.0194,-63.398 79.7013,-59.3094\"/>\r\n",
       "</g>\r\n",
       "<!-- 3 -->\r\n",
       "<g id=\"node4\" class=\"node\"><title>3</title>\r\n",
       "<path fill=\"#a2d1f3\" stroke=\"black\" d=\"M241.5,-53C241.5,-53 135.5,-53 135.5,-53 129.5,-53 123.5,-47 123.5,-41 123.5,-41 123.5,-12 123.5,-12 123.5,-6 129.5,-0 135.5,-0 135.5,-0 241.5,-0 241.5,-0 247.5,-0 253.5,-6 253.5,-12 253.5,-12 253.5,-41 253.5,-41 253.5,-47 247.5,-53 241.5,-53\"/>\r\n",
       "<text text-anchor=\"start\" x=\"151\" y=\"-37.8\" font-family=\"Helvetica,sans-Serif\" font-size=\"14.00\">gini = 0.453</text>\r\n",
       "<text text-anchor=\"start\" x=\"141\" y=\"-22.8\" font-family=\"Helvetica,sans-Serif\" font-size=\"14.00\">samples = 987</text>\r\n",
       "<text text-anchor=\"start\" x=\"131.5\" y=\"-7.8\" font-family=\"Helvetica,sans-Serif\" font-size=\"14.00\">value = [343, 644]</text>\r\n",
       "</g>\r\n",
       "<!-- 1&#45;&gt;3 -->\r\n",
       "<g id=\"edge3\" class=\"edge\"><title>1&#45;&gt;3</title>\r\n",
       "<path fill=\"none\" stroke=\"black\" d=\"M144.283,-88.9485C150.668,-80.0749 157.584,-70.4648 164.007,-61.5388\"/>\r\n",
       "<polygon fill=\"black\" stroke=\"black\" points=\"166.981,-63.398 169.98,-53.2367 161.299,-59.3094 166.981,-63.398\"/>\r\n",
       "</g>\r\n",
       "</g>\r\n",
       "</svg>\r\n"
      ],
      "text/plain": [
       "<graphviz.files.Source at 0x2a214c461c8>"
      ]
     },
     "execution_count": 35,
     "metadata": {},
     "output_type": "execute_result"
    },
    {
     "data": {
      "image/png": "[encoded data removed]",
      "text/plain": [
       "<Figure size 1800x720 with 4 Axes>"
      ]
     },
     "metadata": {
      "needs_background": "light"
     },
     "output_type": "display_data"
    }
   ],
   "source": [
    "# Split the Dataset into Train and Test\n",
    "weather_train, weather_test, fatal_train, fatal_test = train_test_split(weather_dummy, fatal, test_size = 0.20)\n",
    "\n",
    "# Decision Tree using Train Data\n",
    "dectree = DecisionTreeClassifier(max_depth = 3)  # create the decision tree object\n",
    "dectree.fit(weather_train, fatal_train)                    # train the decision tree model\n",
    "\n",
    "# Predict Response corresponding to Predictors\n",
    "fatal_train_pred = dectree.predict(weather_train)\n",
    "fatal_test_pred = dectree.predict(weather_test)\n",
    "\n",
    "# Check the Goodness of Fit (on Train Data)\n",
    "print(\"Goodness of Fit of Model \\tTrain Dataset\")\n",
    "print(\"Classification Accuracy \\t:\", dectree.score(weather_train, fatal_train))\n",
    "print()\n",
    "\n",
    "# Check the Goodness of Fit (on Test Data)\n",
    "print(\"Goodness of Fit of Model \\tTest Dataset\")\n",
    "print(\"Classification Accuracy \\t:\", dectree.score(weather_test, fatal_test))\n",
    "print()\n",
    "\n",
    "# Plot the Confusion Matrix for Train and Test\n",
    "f, axes = plt.subplots(1, 2, figsize=(25, 10))\n",
    "sb.heatmap(confusion_matrix(fatal_train, fatal_train_pred),\n",
    "           annot = True, ax = axes[0])\n",
    "sb.heatmap(confusion_matrix(fatal_test, fatal_test_pred), \n",
    "           annot = True, ax = axes[1])\n",
    "\n",
    "# Plot the Decision Tree\n",
    "treedot = export_graphviz(dectree,                                      # the model\n",
    "                          feature_names = weather_train.columns,              # the features \n",
    "                          out_file = None,                              # output file\n",
    "                          filled = True,                                # node colors\n",
    "                          rounded = True,                               # make pretty\n",
    "                          special_characters = True)                    # postscript\n",
    "\n",
    "graphviz.Source(treedot)"
   ]
  },
  {
   "cell_type": "markdown",
   "metadata": {},
   "source": [
    "### Classification between Broad Phase of Flight and Fatality"
   ]
  },
  {
   "cell_type": "code",
   "execution_count": 36,
   "metadata": {},
   "outputs": [
    {
     "name": "stdout",
     "output_type": "stream",
     "text": [
      "Goodness of Fit of Model \tTrain Dataset\n",
      "Classification Accuracy \t: 0.8227886207415583\n",
      "\n",
      "Goodness of Fit of Model \tTest Dataset\n",
      "Classification Accuracy \t: 0.8238009231386715\n",
      "\n"
     ]
    },
    {
     "data": {
      "image/svg+xml": [
       "<?xml version=\"1.0\" encoding=\"UTF-8\" standalone=\"no\"?>\r\n",
       "<!DOCTYPE svg PUBLIC \"-//W3C//DTD SVG 1.1//EN\"\r\n",
       " \"http://www.w3.org/Graphics/SVG/1.1/DTD/svg11.dtd\">\r\n",
       "<!-- Generated by graphviz version 2.38.0 (20140413.2041)\r\n",
       " -->\r\n",
       "<!-- Title: Tree Pages: 1 -->\r\n",
       "<svg width=\"566pt\" height=\"373pt\"\r\n",
       " viewBox=\"0.00 0.00 566.00 373.00\" xmlns=\"http://www.w3.org/2000/svg\" xmlns:xlink=\"http://www.w3.org/1999/xlink\">\r\n",
       "<g id=\"graph0\" class=\"graph\" transform=\"scale(1 1) rotate(0) translate(4 369)\">\r\n",
       "<title>Tree</title>\r\n",
       "<polygon fill=\"white\" stroke=\"none\" points=\"-4,4 -4,-369 562,-369 562,4 -4,4\"/>\r\n",
       "<!-- 0 -->\r\n",
       "<g id=\"node1\" class=\"node\"><title>0</title>\r\n",
       "<path fill=\"#eb9c64\" stroke=\"black\" d=\"M487.5,-365C487.5,-365 250.5,-365 250.5,-365 244.5,-365 238.5,-359 238.5,-353 238.5,-353 238.5,-309 238.5,-309 238.5,-303 244.5,-297 250.5,-297 250.5,-297 487.5,-297 487.5,-297 493.5,-297 499.5,-303 499.5,-309 499.5,-309 499.5,-353 499.5,-353 499.5,-359 493.5,-365 487.5,-365\"/>\r\n",
       "<text text-anchor=\"start\" x=\"246.5\" y=\"-349.8\" font-family=\"Helvetica,sans-Serif\" font-size=\"14.00\">Broad.Phase.of.Flight_LANDING ≤ 0.5</text>\r\n",
       "<text text-anchor=\"start\" x=\"331.5\" y=\"-334.8\" font-family=\"Helvetica,sans-Serif\" font-size=\"14.00\">gini = 0.292</text>\r\n",
       "<text text-anchor=\"start\" x=\"313\" y=\"-319.8\" font-family=\"Helvetica,sans-Serif\" font-size=\"14.00\">samples = 19931</text>\r\n",
       "<text text-anchor=\"start\" x=\"299.5\" y=\"-304.8\" font-family=\"Helvetica,sans-Serif\" font-size=\"14.00\">value = [16399, 3532]</text>\r\n",
       "</g>\r\n",
       "<!-- 1 -->\r\n",
       "<g id=\"node2\" class=\"node\"><title>1</title>\r\n",
       "<path fill=\"#eeac7d\" stroke=\"black\" d=\"M389.5,-261C389.5,-261 110.5,-261 110.5,-261 104.5,-261 98.5,-255 98.5,-249 98.5,-249 98.5,-205 98.5,-205 98.5,-199 104.5,-193 110.5,-193 110.5,-193 389.5,-193 389.5,-193 395.5,-193 401.5,-199 401.5,-205 401.5,-205 401.5,-249 401.5,-249 401.5,-255 395.5,-261 389.5,-261\"/>\r\n",
       "<text text-anchor=\"start\" x=\"106.5\" y=\"-245.8\" font-family=\"Helvetica,sans-Serif\" font-size=\"14.00\">Broad.Phase.of.Flight_MANEUVERING ≤ 0.5</text>\r\n",
       "<text text-anchor=\"start\" x=\"212.5\" y=\"-230.8\" font-family=\"Helvetica,sans-Serif\" font-size=\"14.00\">gini = 0.379</text>\r\n",
       "<text text-anchor=\"start\" x=\"194\" y=\"-215.8\" font-family=\"Helvetica,sans-Serif\" font-size=\"14.00\">samples = 13436</text>\r\n",
       "<text text-anchor=\"start\" x=\"180.5\" y=\"-200.8\" font-family=\"Helvetica,sans-Serif\" font-size=\"14.00\">value = [10019, 3417]</text>\r\n",
       "</g>\r\n",
       "<!-- 0&#45;&gt;1 -->\r\n",
       "<g id=\"edge1\" class=\"edge\"><title>0&#45;&gt;1</title>\r\n",
       "<path fill=\"none\" stroke=\"black\" d=\"M330.364,-296.884C319.556,-287.62 307.697,-277.455 296.486,-267.845\"/>\r\n",
       "<polygon fill=\"black\" stroke=\"black\" points=\"298.72,-265.15 288.849,-261.299 294.164,-270.465 298.72,-265.15\"/>\r\n",
       "<text text-anchor=\"middle\" x=\"290.767\" y=\"-282.526\" font-family=\"Helvetica,sans-Serif\" font-size=\"14.00\">True</text>\r\n",
       "</g>\r\n",
       "<!-- 6 -->\r\n",
       "<g id=\"node7\" class=\"node\"><title>6</title>\r\n",
       "<path fill=\"#e5833d\" stroke=\"black\" d=\"M546,-253.5C546,-253.5 432,-253.5 432,-253.5 426,-253.5 420,-247.5 420,-241.5 420,-241.5 420,-212.5 420,-212.5 420,-206.5 426,-200.5 432,-200.5 432,-200.5 546,-200.5 546,-200.5 552,-200.5 558,-206.5 558,-212.5 558,-212.5 558,-241.5 558,-241.5 558,-247.5 552,-253.5 546,-253.5\"/>\r\n",
       "<text text-anchor=\"start\" x=\"451.5\" y=\"-238.3\" font-family=\"Helvetica,sans-Serif\" font-size=\"14.00\">gini = 0.035</text>\r\n",
       "<text text-anchor=\"start\" x=\"437.5\" y=\"-223.3\" font-family=\"Helvetica,sans-Serif\" font-size=\"14.00\">samples = 6495</text>\r\n",
       "<text text-anchor=\"start\" x=\"428\" y=\"-208.3\" font-family=\"Helvetica,sans-Serif\" font-size=\"14.00\">value = [6380, 115]</text>\r\n",
       "</g>\r\n",
       "<!-- 0&#45;&gt;6 -->\r\n",
       "<g id=\"edge6\" class=\"edge\"><title>0&#45;&gt;6</title>\r\n",
       "<path fill=\"none\" stroke=\"black\" d=\"M407.961,-296.884C421.805,-285.116 437.36,-271.894 451.114,-260.203\"/>\r\n",
       "<polygon fill=\"black\" stroke=\"black\" points=\"453.624,-262.663 458.977,-253.52 449.09,-257.33 453.624,-262.663\"/>\r\n",
       "<text text-anchor=\"middle\" x=\"456.956\" y=\"-274.738\" font-family=\"Helvetica,sans-Serif\" font-size=\"14.00\">False</text>\r\n",
       "</g>\r\n",
       "<!-- 2 -->\r\n",
       "<g id=\"node3\" class=\"node\"><title>2</title>\r\n",
       "<path fill=\"#eca470\" stroke=\"black\" d=\"M250,-157C250,-157 44,-157 44,-157 38,-157 32,-151 32,-145 32,-145 32,-101 32,-101 32,-95 38,-89 44,-89 44,-89 250,-89 250,-89 256,-89 262,-95 262,-101 262,-101 262,-145 262,-145 262,-151 256,-157 250,-157\"/>\r\n",
       "<text text-anchor=\"start\" x=\"40\" y=\"-141.8\" font-family=\"Helvetica,sans-Serif\" font-size=\"14.00\">Broad.Phase.of.Flight_TAXI ≤ 0.5</text>\r\n",
       "<text text-anchor=\"start\" x=\"109.5\" y=\"-126.8\" font-family=\"Helvetica,sans-Serif\" font-size=\"14.00\">gini = 0.339</text>\r\n",
       "<text text-anchor=\"start\" x=\"91\" y=\"-111.8\" font-family=\"Helvetica,sans-Serif\" font-size=\"14.00\">samples = 10673</text>\r\n",
       "<text text-anchor=\"start\" x=\"82\" y=\"-96.8\" font-family=\"Helvetica,sans-Serif\" font-size=\"14.00\">value = [8367, 2306]</text>\r\n",
       "</g>\r\n",
       "<!-- 1&#45;&gt;2 -->\r\n",
       "<g id=\"edge2\" class=\"edge\"><title>1&#45;&gt;2</title>\r\n",
       "<path fill=\"none\" stroke=\"black\" d=\"M216.559,-192.884C207.384,-183.798 197.334,-173.845 187.796,-164.4\"/>\r\n",
       "<polygon fill=\"black\" stroke=\"black\" points=\"190.194,-161.849 180.626,-157.299 185.269,-166.823 190.194,-161.849\"/>\r\n",
       "</g>\r\n",
       "<!-- 5 -->\r\n",
       "<g id=\"node6\" class=\"node\"><title>5</title>\r\n",
       "<path fill=\"#f6d6be\" stroke=\"black\" d=\"M414,-149.5C414,-149.5 292,-149.5 292,-149.5 286,-149.5 280,-143.5 280,-137.5 280,-137.5 280,-108.5 280,-108.5 280,-102.5 286,-96.5 292,-96.5 292,-96.5 414,-96.5 414,-96.5 420,-96.5 426,-102.5 426,-108.5 426,-108.5 426,-137.5 426,-137.5 426,-143.5 420,-149.5 414,-149.5\"/>\r\n",
       "<text text-anchor=\"start\" x=\"315.5\" y=\"-134.3\" font-family=\"Helvetica,sans-Serif\" font-size=\"14.00\">gini = 0.481</text>\r\n",
       "<text text-anchor=\"start\" x=\"301.5\" y=\"-119.3\" font-family=\"Helvetica,sans-Serif\" font-size=\"14.00\">samples = 2763</text>\r\n",
       "<text text-anchor=\"start\" x=\"288\" y=\"-104.3\" font-family=\"Helvetica,sans-Serif\" font-size=\"14.00\">value = [1652, 1111]</text>\r\n",
       "</g>\r\n",
       "<!-- 1&#45;&gt;5 -->\r\n",
       "<g id=\"edge5\" class=\"edge\"><title>1&#45;&gt;5</title>\r\n",
       "<path fill=\"none\" stroke=\"black\" d=\"M283.441,-192.884C295.102,-181.336 308.177,-168.387 319.817,-156.86\"/>\r\n",
       "<polygon fill=\"black\" stroke=\"black\" points=\"322.587,-159.043 327.23,-149.52 317.662,-154.07 322.587,-159.043\"/>\r\n",
       "</g>\r\n",
       "<!-- 3 -->\r\n",
       "<g id=\"node4\" class=\"node\"><title>3</title>\r\n",
       "<path fill=\"#eda673\" stroke=\"black\" d=\"M134,-53C134,-53 12,-53 12,-53 6,-53 0,-47 0,-41 0,-41 0,-12 0,-12 0,-6 6,-0 12,-0 12,-0 134,-0 134,-0 140,-0 146,-6 146,-12 146,-12 146,-41 146,-41 146,-47 140,-53 134,-53\"/>\r\n",
       "<text text-anchor=\"start\" x=\"35.5\" y=\"-37.8\" font-family=\"Helvetica,sans-Serif\" font-size=\"14.00\">gini = 0.351</text>\r\n",
       "<text text-anchor=\"start\" x=\"17\" y=\"-22.8\" font-family=\"Helvetica,sans-Serif\" font-size=\"14.00\">samples = 10127</text>\r\n",
       "<text text-anchor=\"start\" x=\"8\" y=\"-7.8\" font-family=\"Helvetica,sans-Serif\" font-size=\"14.00\">value = [7827, 2300]</text>\r\n",
       "</g>\r\n",
       "<!-- 2&#45;&gt;3 -->\r\n",
       "<g id=\"edge3\" class=\"edge\"><title>2&#45;&gt;3</title>\r\n",
       "<path fill=\"none\" stroke=\"black\" d=\"M121.118,-88.9485C114.098,-79.9834 106.489,-70.2666 99.4387,-61.2629\"/>\r\n",
       "<polygon fill=\"black\" stroke=\"black\" points=\"102.075,-58.9521 93.1536,-53.2367 96.5633,-63.2679 102.075,-58.9521\"/>\r\n",
       "</g>\r\n",
       "<!-- 4 -->\r\n",
       "<g id=\"node5\" class=\"node\"><title>4</title>\r\n",
       "<path fill=\"#e5823b\" stroke=\"black\" d=\"M265.5,-53C265.5,-53 176.5,-53 176.5,-53 170.5,-53 164.5,-47 164.5,-41 164.5,-41 164.5,-12 164.5,-12 164.5,-6 170.5,-0 176.5,-0 176.5,-0 265.5,-0 265.5,-0 271.5,-0 277.5,-6 277.5,-12 277.5,-12 277.5,-41 277.5,-41 277.5,-47 271.5,-53 265.5,-53\"/>\r\n",
       "<text text-anchor=\"start\" x=\"183.5\" y=\"-37.8\" font-family=\"Helvetica,sans-Serif\" font-size=\"14.00\">gini = 0.022</text>\r\n",
       "<text text-anchor=\"start\" x=\"173.5\" y=\"-22.8\" font-family=\"Helvetica,sans-Serif\" font-size=\"14.00\">samples = 546</text>\r\n",
       "<text text-anchor=\"start\" x=\"172.5\" y=\"-7.8\" font-family=\"Helvetica,sans-Serif\" font-size=\"14.00\">value = [540, 6]</text>\r\n",
       "</g>\r\n",
       "<!-- 2&#45;&gt;4 -->\r\n",
       "<g id=\"edge4\" class=\"edge\"><title>2&#45;&gt;4</title>\r\n",
       "<path fill=\"none\" stroke=\"black\" d=\"M172.882,-88.9485C179.902,-79.9834 187.511,-70.2666 194.561,-61.2629\"/>\r\n",
       "<polygon fill=\"black\" stroke=\"black\" points=\"197.437,-63.2679 200.846,-53.2367 191.925,-58.9521 197.437,-63.2679\"/>\r\n",
       "</g>\r\n",
       "</g>\r\n",
       "</svg>\r\n"
      ],
      "text/plain": [
       "<graphviz.files.Source at 0x2a218e69488>"
      ]
     },
     "execution_count": 36,
     "metadata": {},
     "output_type": "execute_result"
    },
    {
     "data": {
      "image/png": "[encoded data removed]",
      "text/plain": [
       "<Figure size 1440x720 with 4 Axes>"
      ]
     },
     "metadata": {
      "needs_background": "light"
     },
     "output_type": "display_data"
    }
   ],
   "source": [
    "# Split the Predictor-Response Dataset into Train and Test\n",
    "phase_train, phase_test, fatal_train, fatal_test = train_test_split(phase_dummy, fatal, test_size = 0.20)\n",
    "\n",
    "# Decision Tree using Train Data\n",
    "dectree = DecisionTreeClassifier(max_depth = 3)  # create the decision tree object\n",
    "dectree.fit(phase_train, fatal_train)                    # train the decision tree model\n",
    "\n",
    "# Predict Legendary values corresponding to Total\n",
    "fatal_train_pred = dectree.predict(phase_train)\n",
    "fatal_test_pred = dectree.predict(phase_test)\n",
    "\n",
    "# Check the Goodness of Fit (on Train Data)\n",
    "print(\"Goodness of Fit of Model \\tTrain Dataset\")\n",
    "print(\"Classification Accuracy \\t:\", dectree.score(phase_train, fatal_train))\n",
    "print()\n",
    "\n",
    "# Check the Goodness of Fit (on Test Data)\n",
    "print(\"Goodness of Fit of Model \\tTest Dataset\")\n",
    "print(\"Classification Accuracy \\t:\", dectree.score(phase_test, fatal_test))\n",
    "print()\n",
    "\n",
    "# Plot the Confusion Matrix for Train and Test\n",
    "f, axes = plt.subplots(1, 2, figsize=(20, 10))\n",
    "sb.heatmap(confusion_matrix(fatal_train, fatal_train_pred),\n",
    "           annot = True, ax = axes[0])\n",
    "sb.heatmap(confusion_matrix(fatal_test, fatal_test_pred), \n",
    "           annot = True, ax = axes[1])\n",
    "\n",
    "# Plot the Decision Tree\n",
    "treedot = export_graphviz(dectree,                                      # the model\n",
    "                          feature_names = phase_train.columns,              # the features \n",
    "                          out_file = None,                              # output file\n",
    "                          filled = True,                                # node colors\n",
    "                          rounded = True,                               # make pretty\n",
    "                          special_characters = True)                    # postscript\n",
    "\n",
    "graphviz.Source(treedot)"
   ]
  },
  {
   "cell_type": "markdown",
   "metadata": {},
   "source": [
    "### Classification Between Latitude/Longitude and Fatality"
   ]
  },
  {
   "cell_type": "code",
   "execution_count": 38,
   "metadata": {},
   "outputs": [
    {
     "name": "stdout",
     "output_type": "stream",
     "text": [
      "Goodness of Fit of Model \tTrain Dataset\n",
      "Classification Accuracy \t: 0.8220360242837791\n",
      "\n",
      "Goodness of Fit of Model \tTest Dataset\n",
      "Classification Accuracy \t: 0.8268111579369858\n",
      "\n"
     ]
    },
    {
     "data": {
      "image/svg+xml": [
       "<?xml version=\"1.0\" encoding=\"UTF-8\" standalone=\"no\"?>\r\n",
       "<!DOCTYPE svg PUBLIC \"-//W3C//DTD SVG 1.1//EN\"\r\n",
       " \"http://www.w3.org/Graphics/SVG/1.1/DTD/svg11.dtd\">\r\n",
       "<!-- Generated by graphviz version 2.38.0 (20140413.2041)\r\n",
       " -->\r\n",
       "<!-- Title: Tree Pages: 1 -->\r\n",
       "<svg width=\"1149pt\" height=\"373pt\"\r\n",
       " viewBox=\"0.00 0.00 1149.00 373.00\" xmlns=\"http://www.w3.org/2000/svg\" xmlns:xlink=\"http://www.w3.org/1999/xlink\">\r\n",
       "<g id=\"graph0\" class=\"graph\" transform=\"scale(1 1) rotate(0) translate(4 369)\">\r\n",
       "<title>Tree</title>\r\n",
       "<polygon fill=\"white\" stroke=\"none\" points=\"-4,4 -4,-369 1145,-369 1145,4 -4,4\"/>\r\n",
       "<!-- 0 -->\r\n",
       "<g id=\"node1\" class=\"node\"><title>0</title>\r\n",
       "<path fill=\"#eb9c64\" stroke=\"black\" d=\"M658.5,-365C658.5,-365 527.5,-365 527.5,-365 521.5,-365 515.5,-359 515.5,-353 515.5,-353 515.5,-309 515.5,-309 515.5,-303 521.5,-297 527.5,-297 527.5,-297 658.5,-297 658.5,-297 664.5,-297 670.5,-303 670.5,-309 670.5,-309 670.5,-353 670.5,-353 670.5,-359 664.5,-365 658.5,-365\"/>\r\n",
       "<text text-anchor=\"start\" x=\"537.5\" y=\"-349.8\" font-family=\"Helvetica,sans-Serif\" font-size=\"14.00\">Latitude ≤ 46.262</text>\r\n",
       "<text text-anchor=\"start\" x=\"555.5\" y=\"-334.8\" font-family=\"Helvetica,sans-Serif\" font-size=\"14.00\">gini = 0.293</text>\r\n",
       "<text text-anchor=\"start\" x=\"537\" y=\"-319.8\" font-family=\"Helvetica,sans-Serif\" font-size=\"14.00\">samples = 19931</text>\r\n",
       "<text text-anchor=\"start\" x=\"523.5\" y=\"-304.8\" font-family=\"Helvetica,sans-Serif\" font-size=\"14.00\">value = [16384, 3547]</text>\r\n",
       "</g>\r\n",
       "<!-- 1 -->\r\n",
       "<g id=\"node2\" class=\"node\"><title>1</title>\r\n",
       "<path fill=\"#eb9e67\" stroke=\"black\" d=\"M546.5,-261C546.5,-261 415.5,-261 415.5,-261 409.5,-261 403.5,-255 403.5,-249 403.5,-249 403.5,-205 403.5,-205 403.5,-199 409.5,-193 415.5,-193 415.5,-193 546.5,-193 546.5,-193 552.5,-193 558.5,-199 558.5,-205 558.5,-205 558.5,-249 558.5,-249 558.5,-255 552.5,-261 546.5,-261\"/>\r\n",
       "<text text-anchor=\"start\" x=\"425.5\" y=\"-245.8\" font-family=\"Helvetica,sans-Serif\" font-size=\"14.00\">Latitude ≤ 36.661</text>\r\n",
       "<text text-anchor=\"start\" x=\"443.5\" y=\"-230.8\" font-family=\"Helvetica,sans-Serif\" font-size=\"14.00\">gini = 0.305</text>\r\n",
       "<text text-anchor=\"start\" x=\"425\" y=\"-215.8\" font-family=\"Helvetica,sans-Serif\" font-size=\"14.00\">samples = 17646</text>\r\n",
       "<text text-anchor=\"start\" x=\"411.5\" y=\"-200.8\" font-family=\"Helvetica,sans-Serif\" font-size=\"14.00\">value = [14328, 3318]</text>\r\n",
       "</g>\r\n",
       "<!-- 0&#45;&gt;1 -->\r\n",
       "<g id=\"edge1\" class=\"edge\"><title>0&#45;&gt;1</title>\r\n",
       "<path fill=\"none\" stroke=\"black\" d=\"M556.637,-296.884C546.563,-287.709 535.518,-277.65 525.056,-268.123\"/>\r\n",
       "<polygon fill=\"black\" stroke=\"black\" points=\"527.314,-265.445 517.564,-261.299 522.601,-270.62 527.314,-265.445\"/>\r\n",
       "<text text-anchor=\"middle\" x=\"518.731\" y=\"-282.572\" font-family=\"Helvetica,sans-Serif\" font-size=\"14.00\">True</text>\r\n",
       "</g>\r\n",
       "<!-- 8 -->\r\n",
       "<g id=\"node9\" class=\"node\"><title>8</title>\r\n",
       "<path fill=\"#e88f4f\" stroke=\"black\" d=\"M769,-261C769,-261 641,-261 641,-261 635,-261 629,-255 629,-249 629,-249 629,-205 629,-205 629,-199 635,-193 641,-193 641,-193 769,-193 769,-193 775,-193 781,-199 781,-205 781,-205 781,-249 781,-249 781,-255 775,-261 769,-261\"/>\r\n",
       "<text text-anchor=\"start\" x=\"637\" y=\"-245.8\" font-family=\"Helvetica,sans-Serif\" font-size=\"14.00\">Longitude ≤ &#45;137.087</text>\r\n",
       "<text text-anchor=\"start\" x=\"671.5\" y=\"-230.8\" font-family=\"Helvetica,sans-Serif\" font-size=\"14.00\">gini = 0.18</text>\r\n",
       "<text text-anchor=\"start\" x=\"653.5\" y=\"-215.8\" font-family=\"Helvetica,sans-Serif\" font-size=\"14.00\">samples = 2285</text>\r\n",
       "<text text-anchor=\"start\" x=\"644\" y=\"-200.8\" font-family=\"Helvetica,sans-Serif\" font-size=\"14.00\">value = [2056, 229]</text>\r\n",
       "</g>\r\n",
       "<!-- 0&#45;&gt;8 -->\r\n",
       "<g id=\"edge8\" class=\"edge\"><title>0&#45;&gt;8</title>\r\n",
       "<path fill=\"none\" stroke=\"black\" d=\"M629.363,-296.884C639.437,-287.709 650.482,-277.65 660.944,-268.123\"/>\r\n",
       "<polygon fill=\"black\" stroke=\"black\" points=\"663.399,-270.62 668.436,-261.299 658.686,-265.445 663.399,-270.62\"/>\r\n",
       "<text text-anchor=\"middle\" x=\"667.269\" y=\"-282.572\" font-family=\"Helvetica,sans-Serif\" font-size=\"14.00\">False</text>\r\n",
       "</g>\r\n",
       "<!-- 2 -->\r\n",
       "<g id=\"node3\" class=\"node\"><title>2</title>\r\n",
       "<path fill=\"#eca16b\" stroke=\"black\" d=\"M286,-157C286,-157 164,-157 164,-157 158,-157 152,-151 152,-145 152,-145 152,-101 152,-101 152,-95 158,-89 164,-89 164,-89 286,-89 286,-89 292,-89 298,-95 298,-101 298,-101 298,-145 298,-145 298,-151 292,-157 286,-157\"/>\r\n",
       "<text text-anchor=\"start\" x=\"161\" y=\"-141.8\" font-family=\"Helvetica,sans-Serif\" font-size=\"14.00\">Longitude ≤ &#45;94.668</text>\r\n",
       "<text text-anchor=\"start\" x=\"187.5\" y=\"-126.8\" font-family=\"Helvetica,sans-Serif\" font-size=\"14.00\">gini = 0.321</text>\r\n",
       "<text text-anchor=\"start\" x=\"173.5\" y=\"-111.8\" font-family=\"Helvetica,sans-Serif\" font-size=\"14.00\">samples = 8477</text>\r\n",
       "<text text-anchor=\"start\" x=\"160\" y=\"-96.8\" font-family=\"Helvetica,sans-Serif\" font-size=\"14.00\">value = [6771, 1706]</text>\r\n",
       "</g>\r\n",
       "<!-- 1&#45;&gt;2 -->\r\n",
       "<g id=\"edge2\" class=\"edge\"><title>1&#45;&gt;2</title>\r\n",
       "<path fill=\"none\" stroke=\"black\" d=\"M403.497,-195.12C373.223,-183.057 338.46,-169.207 307.704,-156.952\"/>\r\n",
       "<polygon fill=\"black\" stroke=\"black\" points=\"308.882,-153.654 298.296,-153.204 306.291,-160.157 308.882,-153.654\"/>\r\n",
       "</g>\r\n",
       "<!-- 5 -->\r\n",
       "<g id=\"node6\" class=\"node\"><title>5</title>\r\n",
       "<path fill=\"#eb9c63\" stroke=\"black\" d=\"M545,-157C545,-157 417,-157 417,-157 411,-157 405,-151 405,-145 405,-145 405,-101 405,-101 405,-95 411,-89 417,-89 417,-89 545,-89 545,-89 551,-89 557,-95 557,-101 557,-101 557,-145 557,-145 557,-151 551,-157 545,-157\"/>\r\n",
       "<text text-anchor=\"start\" x=\"413\" y=\"-141.8\" font-family=\"Helvetica,sans-Serif\" font-size=\"14.00\">Longitude ≤ &#45;123.618</text>\r\n",
       "<text text-anchor=\"start\" x=\"447.5\" y=\"-126.8\" font-family=\"Helvetica,sans-Serif\" font-size=\"14.00\">gini = 0.29</text>\r\n",
       "<text text-anchor=\"start\" x=\"429.5\" y=\"-111.8\" font-family=\"Helvetica,sans-Serif\" font-size=\"14.00\">samples = 9169</text>\r\n",
       "<text text-anchor=\"start\" x=\"416\" y=\"-96.8\" font-family=\"Helvetica,sans-Serif\" font-size=\"14.00\">value = [7557, 1612]</text>\r\n",
       "</g>\r\n",
       "<!-- 1&#45;&gt;5 -->\r\n",
       "<g id=\"edge5\" class=\"edge\"><title>1&#45;&gt;5</title>\r\n",
       "<path fill=\"none\" stroke=\"black\" d=\"M481,-192.884C481,-184.778 481,-175.982 481,-167.472\"/>\r\n",
       "<polygon fill=\"black\" stroke=\"black\" points=\"484.5,-167.299 481,-157.299 477.5,-167.299 484.5,-167.299\"/>\r\n",
       "</g>\r\n",
       "<!-- 3 -->\r\n",
       "<g id=\"node4\" class=\"node\"><title>3</title>\r\n",
       "<path fill=\"#eb9e66\" stroke=\"black\" d=\"M126,-53C126,-53 12,-53 12,-53 6,-53 0,-47 0,-41 0,-41 0,-12 0,-12 0,-6 6,-0 12,-0 12,-0 126,-0 126,-0 132,-0 138,-6 138,-12 138,-12 138,-41 138,-41 138,-47 132,-53 126,-53\"/>\r\n",
       "<text text-anchor=\"start\" x=\"31.5\" y=\"-37.8\" font-family=\"Helvetica,sans-Serif\" font-size=\"14.00\">gini = 0.301</text>\r\n",
       "<text text-anchor=\"start\" x=\"17.5\" y=\"-22.8\" font-family=\"Helvetica,sans-Serif\" font-size=\"14.00\">samples = 4189</text>\r\n",
       "<text text-anchor=\"start\" x=\"8\" y=\"-7.8\" font-family=\"Helvetica,sans-Serif\" font-size=\"14.00\">value = [3415, 774]</text>\r\n",
       "</g>\r\n",
       "<!-- 2&#45;&gt;3 -->\r\n",
       "<g id=\"edge3\" class=\"edge\"><title>2&#45;&gt;3</title>\r\n",
       "<path fill=\"none\" stroke=\"black\" d=\"M170.439,-88.9485C154.129,-79.0686 136.312,-68.2758 120.225,-58.5305\"/>\r\n",
       "<polygon fill=\"black\" stroke=\"black\" points=\"121.853,-55.4244 111.486,-53.2367 118.226,-61.4115 121.853,-55.4244\"/>\r\n",
       "</g>\r\n",
       "<!-- 4 -->\r\n",
       "<g id=\"node5\" class=\"node\"><title>4</title>\r\n",
       "<path fill=\"#eca470\" stroke=\"black\" d=\"M282,-53C282,-53 168,-53 168,-53 162,-53 156,-47 156,-41 156,-41 156,-12 156,-12 156,-6 162,-0 168,-0 168,-0 282,-0 282,-0 288,-0 294,-6 294,-12 294,-12 294,-41 294,-41 294,-47 288,-53 282,-53\"/>\r\n",
       "<text text-anchor=\"start\" x=\"191.5\" y=\"-37.8\" font-family=\"Helvetica,sans-Serif\" font-size=\"14.00\">gini = 0.34</text>\r\n",
       "<text text-anchor=\"start\" x=\"173.5\" y=\"-22.8\" font-family=\"Helvetica,sans-Serif\" font-size=\"14.00\">samples = 4288</text>\r\n",
       "<text text-anchor=\"start\" x=\"164\" y=\"-7.8\" font-family=\"Helvetica,sans-Serif\" font-size=\"14.00\">value = [3356, 932]</text>\r\n",
       "</g>\r\n",
       "<!-- 2&#45;&gt;4 -->\r\n",
       "<g id=\"edge4\" class=\"edge\"><title>2&#45;&gt;4</title>\r\n",
       "<path fill=\"none\" stroke=\"black\" d=\"M225,-88.9485C225,-80.7153 225,-71.848 225,-63.4814\"/>\r\n",
       "<polygon fill=\"black\" stroke=\"black\" points=\"228.5,-63.2367 225,-53.2367 221.5,-63.2367 228.5,-63.2367\"/>\r\n",
       "</g>\r\n",
       "<!-- 6 -->\r\n",
       "<g id=\"node7\" class=\"node\"><title>6</title>\r\n",
       "<path fill=\"#f2c19e\" stroke=\"black\" d=\"M413.5,-53C413.5,-53 324.5,-53 324.5,-53 318.5,-53 312.5,-47 312.5,-41 312.5,-41 312.5,-12 312.5,-12 312.5,-6 318.5,-0 324.5,-0 324.5,-0 413.5,-0 413.5,-0 419.5,-0 425.5,-6 425.5,-12 425.5,-12 425.5,-41 425.5,-41 425.5,-47 419.5,-53 413.5,-53\"/>\r\n",
       "<text text-anchor=\"start\" x=\"331.5\" y=\"-37.8\" font-family=\"Helvetica,sans-Serif\" font-size=\"14.00\">gini = 0.447</text>\r\n",
       "<text text-anchor=\"start\" x=\"325.5\" y=\"-22.8\" font-family=\"Helvetica,sans-Serif\" font-size=\"14.00\">samples = 74</text>\r\n",
       "<text text-anchor=\"start\" x=\"320.5\" y=\"-7.8\" font-family=\"Helvetica,sans-Serif\" font-size=\"14.00\">value = [49, 25]</text>\r\n",
       "</g>\r\n",
       "<!-- 5&#45;&gt;6 -->\r\n",
       "<g id=\"edge6\" class=\"edge\"><title>5&#45;&gt;6</title>\r\n",
       "<path fill=\"none\" stroke=\"black\" d=\"M441.828,-88.9485C430.66,-79.526 418.509,-69.2731 407.389,-59.8906\"/>\r\n",
       "<polygon fill=\"black\" stroke=\"black\" points=\"409.403,-57.0104 399.503,-53.2367 404.889,-62.3605 409.403,-57.0104\"/>\r\n",
       "</g>\r\n",
       "<!-- 7 -->\r\n",
       "<g id=\"node8\" class=\"node\"><title>7</title>\r\n",
       "<path fill=\"#ea9c63\" stroke=\"black\" d=\"M578,-53C578,-53 456,-53 456,-53 450,-53 444,-47 444,-41 444,-41 444,-12 444,-12 444,-6 450,-0 456,-0 456,-0 578,-0 578,-0 584,-0 590,-6 590,-12 590,-12 590,-41 590,-41 590,-47 584,-53 578,-53\"/>\r\n",
       "<text text-anchor=\"start\" x=\"479.5\" y=\"-37.8\" font-family=\"Helvetica,sans-Serif\" font-size=\"14.00\">gini = 0.288</text>\r\n",
       "<text text-anchor=\"start\" x=\"465.5\" y=\"-22.8\" font-family=\"Helvetica,sans-Serif\" font-size=\"14.00\">samples = 9095</text>\r\n",
       "<text text-anchor=\"start\" x=\"452\" y=\"-7.8\" font-family=\"Helvetica,sans-Serif\" font-size=\"14.00\">value = [7508, 1587]</text>\r\n",
       "</g>\r\n",
       "<!-- 5&#45;&gt;7 -->\r\n",
       "<g id=\"edge7\" class=\"edge\"><title>5&#45;&gt;7</title>\r\n",
       "<path fill=\"none\" stroke=\"black\" d=\"M493.591,-88.9485C496.832,-80.4408 500.331,-71.2562 503.611,-62.6464\"/>\r\n",
       "<polygon fill=\"black\" stroke=\"black\" points=\"506.906,-63.8276 507.196,-53.2367 500.365,-61.3356 506.906,-63.8276\"/>\r\n",
       "</g>\r\n",
       "<!-- 9 -->\r\n",
       "<g id=\"node10\" class=\"node\"><title>9</title>\r\n",
       "<path fill=\"#e78c4a\" stroke=\"black\" d=\"M769,-157C769,-157 641,-157 641,-157 635,-157 629,-151 629,-145 629,-145 629,-101 629,-101 629,-95 635,-89 641,-89 641,-89 769,-89 769,-89 775,-89 781,-95 781,-101 781,-101 781,-145 781,-145 781,-151 775,-157 769,-157\"/>\r\n",
       "<text text-anchor=\"start\" x=\"637\" y=\"-141.8\" font-family=\"Helvetica,sans-Serif\" font-size=\"14.00\">Longitude ≤ &#45;147.918</text>\r\n",
       "<text text-anchor=\"start\" x=\"667.5\" y=\"-126.8\" font-family=\"Helvetica,sans-Serif\" font-size=\"14.00\">gini = 0.142</text>\r\n",
       "<text text-anchor=\"start\" x=\"653.5\" y=\"-111.8\" font-family=\"Helvetica,sans-Serif\" font-size=\"14.00\">samples = 1128</text>\r\n",
       "<text text-anchor=\"start\" x=\"648\" y=\"-96.8\" font-family=\"Helvetica,sans-Serif\" font-size=\"14.00\">value = [1041, 87]</text>\r\n",
       "</g>\r\n",
       "<!-- 8&#45;&gt;9 -->\r\n",
       "<g id=\"edge9\" class=\"edge\"><title>8&#45;&gt;9</title>\r\n",
       "<path fill=\"none\" stroke=\"black\" d=\"M705,-192.884C705,-184.778 705,-175.982 705,-167.472\"/>\r\n",
       "<polygon fill=\"black\" stroke=\"black\" points=\"708.5,-167.299 705,-157.299 701.5,-167.299 708.5,-167.299\"/>\r\n",
       "</g>\r\n",
       "<!-- 12 -->\r\n",
       "<g id=\"node13\" class=\"node\"><title>12</title>\r\n",
       "<path fill=\"#e99355\" stroke=\"black\" d=\"M996,-157C996,-157 868,-157 868,-157 862,-157 856,-151 856,-145 856,-145 856,-101 856,-101 856,-95 862,-89 868,-89 868,-89 996,-89 996,-89 1002,-89 1008,-95 1008,-101 1008,-101 1008,-145 1008,-145 1008,-151 1002,-157 996,-157\"/>\r\n",
       "<text text-anchor=\"start\" x=\"864\" y=\"-141.8\" font-family=\"Helvetica,sans-Serif\" font-size=\"14.00\">Longitude ≤ &#45;135.121</text>\r\n",
       "<text text-anchor=\"start\" x=\"894.5\" y=\"-126.8\" font-family=\"Helvetica,sans-Serif\" font-size=\"14.00\">gini = 0.215</text>\r\n",
       "<text text-anchor=\"start\" x=\"880.5\" y=\"-111.8\" font-family=\"Helvetica,sans-Serif\" font-size=\"14.00\">samples = 1157</text>\r\n",
       "<text text-anchor=\"start\" x=\"871\" y=\"-96.8\" font-family=\"Helvetica,sans-Serif\" font-size=\"14.00\">value = [1015, 142]</text>\r\n",
       "</g>\r\n",
       "<!-- 8&#45;&gt;12 -->\r\n",
       "<g id=\"edge12\" class=\"edge\"><title>8&#45;&gt;12</title>\r\n",
       "<path fill=\"none\" stroke=\"black\" d=\"M778.7,-192.884C801.115,-182.812 825.902,-171.674 848.892,-161.344\"/>\r\n",
       "<polygon fill=\"black\" stroke=\"black\" points=\"850.594,-164.416 858.281,-157.125 847.725,-158.031 850.594,-164.416\"/>\r\n",
       "</g>\r\n",
       "<!-- 10 -->\r\n",
       "<g id=\"node11\" class=\"node\"><title>10</title>\r\n",
       "<path fill=\"#e88d4c\" stroke=\"black\" d=\"M718,-53C718,-53 620,-53 620,-53 614,-53 608,-47 608,-41 608,-41 608,-12 608,-12 608,-6 614,-0 620,-0 620,-0 718,-0 718,-0 724,-0 730,-6 730,-12 730,-12 730,-41 730,-41 730,-47 724,-53 718,-53\"/>\r\n",
       "<text text-anchor=\"start\" x=\"631.5\" y=\"-37.8\" font-family=\"Helvetica,sans-Serif\" font-size=\"14.00\">gini = 0.162</text>\r\n",
       "<text text-anchor=\"start\" x=\"621.5\" y=\"-22.8\" font-family=\"Helvetica,sans-Serif\" font-size=\"14.00\">samples = 902</text>\r\n",
       "<text text-anchor=\"start\" x=\"616\" y=\"-7.8\" font-family=\"Helvetica,sans-Serif\" font-size=\"14.00\">value = [822, 80]</text>\r\n",
       "</g>\r\n",
       "<!-- 9&#45;&gt;10 -->\r\n",
       "<g id=\"edge10\" class=\"edge\"><title>9&#45;&gt;10</title>\r\n",
       "<path fill=\"none\" stroke=\"black\" d=\"M692.409,-88.9485C689.168,-80.4408 685.669,-71.2562 682.389,-62.6464\"/>\r\n",
       "<polygon fill=\"black\" stroke=\"black\" points=\"685.635,-61.3356 678.804,-53.2367 679.094,-63.8276 685.635,-61.3356\"/>\r\n",
       "</g>\r\n",
       "<!-- 11 -->\r\n",
       "<g id=\"node12\" class=\"node\"><title>11</title>\r\n",
       "<path fill=\"#e6853f\" stroke=\"black\" d=\"M849.5,-53C849.5,-53 760.5,-53 760.5,-53 754.5,-53 748.5,-47 748.5,-41 748.5,-41 748.5,-12 748.5,-12 748.5,-6 754.5,-0 760.5,-0 760.5,-0 849.5,-0 849.5,-0 855.5,-0 861.5,-6 861.5,-12 861.5,-12 861.5,-41 861.5,-41 861.5,-47 855.5,-53 849.5,-53\"/>\r\n",
       "<text text-anchor=\"start\" x=\"771.5\" y=\"-37.8\" font-family=\"Helvetica,sans-Serif\" font-size=\"14.00\">gini = 0.06</text>\r\n",
       "<text text-anchor=\"start\" x=\"757.5\" y=\"-22.8\" font-family=\"Helvetica,sans-Serif\" font-size=\"14.00\">samples = 226</text>\r\n",
       "<text text-anchor=\"start\" x=\"756.5\" y=\"-7.8\" font-family=\"Helvetica,sans-Serif\" font-size=\"14.00\">value = [219, 7]</text>\r\n",
       "</g>\r\n",
       "<!-- 9&#45;&gt;11 -->\r\n",
       "<g id=\"edge11\" class=\"edge\"><title>9&#45;&gt;11</title>\r\n",
       "<path fill=\"none\" stroke=\"black\" d=\"M739.975,-88.9485C749.849,-79.6175 760.585,-69.4722 770.435,-60.1641\"/>\r\n",
       "<polygon fill=\"black\" stroke=\"black\" points=\"772.901,-62.649 777.765,-53.2367 768.093,-57.5613 772.901,-62.649\"/>\r\n",
       "</g>\r\n",
       "<!-- 13 -->\r\n",
       "<g id=\"node14\" class=\"node\"><title>13</title>\r\n",
       "<path fill=\"#f4c9aa\" stroke=\"black\" d=\"M972.5,-53C972.5,-53 891.5,-53 891.5,-53 885.5,-53 879.5,-47 879.5,-41 879.5,-41 879.5,-12 879.5,-12 879.5,-6 885.5,-0 891.5,-0 891.5,-0 972.5,-0 972.5,-0 978.5,-0 984.5,-6 984.5,-12 984.5,-12 984.5,-41 984.5,-41 984.5,-47 978.5,-53 972.5,-53\"/>\r\n",
       "<text text-anchor=\"start\" x=\"894.5\" y=\"-37.8\" font-family=\"Helvetica,sans-Serif\" font-size=\"14.00\">gini = 0.463</text>\r\n",
       "<text text-anchor=\"start\" x=\"888.5\" y=\"-22.8\" font-family=\"Helvetica,sans-Serif\" font-size=\"14.00\">samples = 22</text>\r\n",
       "<text text-anchor=\"start\" x=\"887.5\" y=\"-7.8\" font-family=\"Helvetica,sans-Serif\" font-size=\"14.00\">value = [14, 8]</text>\r\n",
       "</g>\r\n",
       "<!-- 12&#45;&gt;13 -->\r\n",
       "<g id=\"edge13\" class=\"edge\"><title>12&#45;&gt;13</title>\r\n",
       "<path fill=\"none\" stroke=\"black\" d=\"M932,-88.9485C932,-80.7153 932,-71.848 932,-63.4814\"/>\r\n",
       "<polygon fill=\"black\" stroke=\"black\" points=\"935.5,-63.2367 932,-53.2367 928.5,-63.2367 935.5,-63.2367\"/>\r\n",
       "</g>\r\n",
       "<!-- 14 -->\r\n",
       "<g id=\"node15\" class=\"node\"><title>14</title>\r\n",
       "<path fill=\"#e89254\" stroke=\"black\" d=\"M1129,-53C1129,-53 1015,-53 1015,-53 1009,-53 1003,-47 1003,-41 1003,-41 1003,-12 1003,-12 1003,-6 1009,-0 1015,-0 1015,-0 1129,-0 1129,-0 1135,-0 1141,-6 1141,-12 1141,-12 1141,-41 1141,-41 1141,-47 1135,-53 1129,-53\"/>\r\n",
       "<text text-anchor=\"start\" x=\"1034.5\" y=\"-37.8\" font-family=\"Helvetica,sans-Serif\" font-size=\"14.00\">gini = 0.208</text>\r\n",
       "<text text-anchor=\"start\" x=\"1020.5\" y=\"-22.8\" font-family=\"Helvetica,sans-Serif\" font-size=\"14.00\">samples = 1135</text>\r\n",
       "<text text-anchor=\"start\" x=\"1011\" y=\"-7.8\" font-family=\"Helvetica,sans-Serif\" font-size=\"14.00\">value = [1001, 134]</text>\r\n",
       "</g>\r\n",
       "<!-- 12&#45;&gt;14 -->\r\n",
       "<g id=\"edge14\" class=\"edge\"><title>12&#45;&gt;14</title>\r\n",
       "<path fill=\"none\" stroke=\"black\" d=\"M980.965,-88.9485C995.331,-79.2516 1011,-68.6752 1025.23,-59.073\"/>\r\n",
       "<polygon fill=\"black\" stroke=\"black\" points=\"1027.54,-61.7325 1033.87,-53.2367 1023.62,-55.9305 1027.54,-61.7325\"/>\r\n",
       "</g>\r\n",
       "</g>\r\n",
       "</svg>\r\n"
      ],
      "text/plain": [
       "<graphviz.files.Source at 0x2a2197b0d88>"
      ]
     },
     "execution_count": 38,
     "metadata": {},
     "output_type": "execute_result"
    },
    {
     "data": {
      "image/png": "[encoded data removed]",
      "text/plain": [
       "<Figure size 1800x720 with 4 Axes>"
      ]
     },
     "metadata": {
      "needs_background": "light"
     },
     "output_type": "display_data"
    }
   ],
   "source": [
    "# Extract Predictor\n",
    "location = pd.DataFrame(adata[[\"Longitude\", \"Latitude\"]]) \n",
    "\n",
    "# Split the Dataset into Train and Test\n",
    "location_train, location_test, fatal_train, fatal_test = train_test_split(location, fatal, test_size = 0.20)\n",
    "\n",
    "# Decision Tree using Train Data\n",
    "dectree = DecisionTreeClassifier(max_depth = 3)  # create the decision tree object\n",
    "dectree.fit(location_train, fatal_train)                    # train the decision tree model\n",
    "\n",
    "# Predict Response corresponding to Predictors\n",
    "fatal_train_pred = dectree.predict(location_train)\n",
    "fatal_test_pred = dectree.predict(location_test)\n",
    "\n",
    "# Check the Goodness of Fit (on Train Data)\n",
    "print(\"Goodness of Fit of Model \\tTrain Dataset\")\n",
    "print(\"Classification Accuracy \\t:\", dectree.score(location_train, fatal_train))\n",
    "print()\n",
    "\n",
    "# Check the Goodness of Fit (on Test Data)\n",
    "print(\"Goodness of Fit of Model \\tTest Dataset\")\n",
    "print(\"Classification Accuracy \\t:\", dectree.score(location_test, fatal_test))\n",
    "print()\n",
    "\n",
    "# Plot the Confusion Matrix for Train and Test\n",
    "f, axes = plt.subplots(1, 2, figsize=(25, 10))\n",
    "sb.heatmap(confusion_matrix(fatal_train, fatal_train_pred),\n",
    "           annot = True, ax = axes[0])\n",
    "sb.heatmap(confusion_matrix(fatal_test, fatal_test_pred), \n",
    "           annot = True, ax = axes[1])\n",
    "\n",
    "# Plot the Decision Tree\n",
    "treedot = export_graphviz(dectree,                                      # the model\n",
    "                          feature_names = location_train.columns,              # the features \n",
    "                          out_file = None,                              # output file\n",
    "                          filled = True,                                # node colors\n",
    "                          rounded = True,                               # make pretty\n",
    "                          special_characters = True)                    # postscript\n",
    "\n",
    "graphviz.Source(treedot)"
   ]
  },
  {
   "cell_type": "markdown",
   "metadata": {},
   "source": [
    "## Machine Learning & Algorithmic Optimization"
   ]
  },
  {
   "cell_type": "markdown",
   "metadata": {},
   "source": [
    "### Decision Tree & Random Forest Classification on all of previous variables against Fatality"
   ]
  },
  {
   "cell_type": "code",
   "execution_count": 39,
   "metadata": {},
   "outputs": [],
   "source": [
    "X = adata[[\"Latitude\",\"Longitude\",\"Make\",\"Number.of.Engines\",\"Engine.Type\",\"Purpose.of.Flight\",\"Weather.Condition\",\"Broad.Phase.of.Flight\"]]\n",
    "Y = adata[\"Fatality\"]"
   ]
  },
  {
   "cell_type": "code",
   "execution_count": 40,
   "metadata": {},
   "outputs": [
    {
     "name": "stdout",
     "output_type": "stream",
     "text": [
      "<class 'pandas.core.frame.DataFrame'>\n",
      "RangeIndex: 24914 entries, 0 to 24913\n",
      "Data columns (total 58 columns):\n",
      " #   Column                                       Non-Null Count  Dtype  \n",
      "---  ------                                       --------------  -----  \n",
      " 0   Latitude                                     24914 non-null  float64\n",
      " 1   Longitude                                    24914 non-null  float64\n",
      " 2   Number.of.Engines                            24914 non-null  int64  \n",
      " 3   Make_AIR_TRACTION                            24914 non-null  uint8  \n",
      " 4   Make_BEECH                                   24914 non-null  uint8  \n",
      " 5   Make_BELL                                    24914 non-null  uint8  \n",
      " 6   Make_BELLANCA                                24914 non-null  uint8  \n",
      " 7   Make_CESSNA                                  24914 non-null  uint8  \n",
      " 8   Make_MOONEY                                  24914 non-null  uint8  \n",
      " 9   Make_OTHERS                                  24914 non-null  uint8  \n",
      " 10  Make_PIPER                                   24914 non-null  uint8  \n",
      " 11  Make_ROBINSON                                24914 non-null  uint8  \n",
      " 12  Make_ROBINSON_HELICOPTER                     24914 non-null  uint8  \n",
      " 13  Engine.Type_Electric                         24914 non-null  uint8  \n",
      " 14  Engine.Type_None                             24914 non-null  uint8  \n",
      " 15  Engine.Type_REC, ELEC                        24914 non-null  uint8  \n",
      " 16  Engine.Type_REC, TJ, TJ                      24914 non-null  uint8  \n",
      " 17  Engine.Type_Reciprocating                    24914 non-null  uint8  \n",
      " 18  Engine.Type_TJ, REC, REC, TJ                 24914 non-null  uint8  \n",
      " 19  Engine.Type_Turbo Fan                        24914 non-null  uint8  \n",
      " 20  Engine.Type_Turbo Jet                        24914 non-null  uint8  \n",
      " 21  Engine.Type_Turbo Prop                       24914 non-null  uint8  \n",
      " 22  Engine.Type_Turbo Shaft                      24914 non-null  uint8  \n",
      " 23  Purpose.of.Flight_Aerial Application         24914 non-null  uint8  \n",
      " 24  Purpose.of.Flight_Aerial Observation         24914 non-null  uint8  \n",
      " 25  Purpose.of.Flight_Air Drop                   24914 non-null  uint8  \n",
      " 26  Purpose.of.Flight_Air Race/Show              24914 non-null  uint8  \n",
      " 27  Purpose.of.Flight_Banner Tow                 24914 non-null  uint8  \n",
      " 28  Purpose.of.Flight_Business                   24914 non-null  uint8  \n",
      " 29  Purpose.of.Flight_Executive/Corporate        24914 non-null  uint8  \n",
      " 30  Purpose.of.Flight_External Load              24914 non-null  uint8  \n",
      " 31  Purpose.of.Flight_Ferry                      24914 non-null  uint8  \n",
      " 32  Purpose.of.Flight_Firefighting               24914 non-null  uint8  \n",
      " 33  Purpose.of.Flight_Flight Test                24914 non-null  uint8  \n",
      " 34  Purpose.of.Flight_Glider Tow                 24914 non-null  uint8  \n",
      " 35  Purpose.of.Flight_Instructional              24914 non-null  uint8  \n",
      " 36  Purpose.of.Flight_Other Work Use             24914 non-null  uint8  \n",
      " 37  Purpose.of.Flight_Personal                   24914 non-null  uint8  \n",
      " 38  Purpose.of.Flight_Positioning                24914 non-null  uint8  \n",
      " 39  Purpose.of.Flight_Public Aircraft            24914 non-null  uint8  \n",
      " 40  Purpose.of.Flight_Public Aircraft - Federal  24914 non-null  uint8  \n",
      " 41  Purpose.of.Flight_Public Aircraft - Local    24914 non-null  uint8  \n",
      " 42  Purpose.of.Flight_Public Aircraft - State    24914 non-null  uint8  \n",
      " 43  Purpose.of.Flight_Skydiving                  24914 non-null  uint8  \n",
      " 44  Weather.Condition_IMC                        24914 non-null  uint8  \n",
      " 45  Weather.Condition_UNK                        24914 non-null  uint8  \n",
      " 46  Weather.Condition_VMC                        24914 non-null  uint8  \n",
      " 47  Broad.Phase.of.Flight_APPROACH               24914 non-null  uint8  \n",
      " 48  Broad.Phase.of.Flight_CLIMB                  24914 non-null  uint8  \n",
      " 49  Broad.Phase.of.Flight_CRUISE                 24914 non-null  uint8  \n",
      " 50  Broad.Phase.of.Flight_DESCENT                24914 non-null  uint8  \n",
      " 51  Broad.Phase.of.Flight_GO-AROUND              24914 non-null  uint8  \n",
      " 52  Broad.Phase.of.Flight_LANDING                24914 non-null  uint8  \n",
      " 53  Broad.Phase.of.Flight_MANEUVERING            24914 non-null  uint8  \n",
      " 54  Broad.Phase.of.Flight_OTHER                  24914 non-null  uint8  \n",
      " 55  Broad.Phase.of.Flight_STANDING               24914 non-null  uint8  \n",
      " 56  Broad.Phase.of.Flight_TAKEOFF                24914 non-null  uint8  \n",
      " 57  Broad.Phase.of.Flight_TAXI                   24914 non-null  uint8  \n",
      "dtypes: float64(2), int64(1), uint8(55)\n",
      "memory usage: 1.9 MB\n"
     ]
    }
   ],
   "source": [
    "X_dummy = pd.get_dummies(X)\n",
    "X_dummy.info()"
   ]
  },
  {
   "cell_type": "code",
   "execution_count": 41,
   "metadata": {},
   "outputs": [
    {
     "name": "stdout",
     "output_type": "stream",
     "text": [
      "[[3516  589]\n",
      " [ 527  351]]\n",
      "\n",
      "\n",
      "              precision    recall  f1-score   support\n",
      "\n",
      "           0       0.87      0.86      0.86      4105\n",
      "           1       0.37      0.40      0.39       878\n",
      "\n",
      "    accuracy                           0.78      4983\n",
      "   macro avg       0.62      0.63      0.62      4983\n",
      "weighted avg       0.78      0.78      0.78      4983\n",
      "\n"
     ]
    }
   ],
   "source": [
    "X_train, X_test, Y_train, Y_test = train_test_split(X_dummy, Y, test_size = 0.20)\n",
    "\n",
    "dtree = DecisionTreeClassifier()\n",
    "dtree.fit(X_train, Y_train)\n",
    "\n",
    "predictions = dtree.predict(X_test)\n",
    "\n",
    "from sklearn.metrics import classification_report, confusion_matrix\n",
    "\n",
    "print(confusion_matrix(Y_test, predictions))\n",
    "print('\\n')\n",
    "print(classification_report(Y_test, predictions))"
   ]
  },
  {
   "cell_type": "markdown",
   "metadata": {},
   "source": [
    "### Evaluating the importance of each variable in the Random Forest Classifier"
   ]
  },
  {
   "cell_type": "code",
   "execution_count": 42,
   "metadata": {},
   "outputs": [
    {
     "name": "stdout",
     "output_type": "stream",
     "text": [
      "Latitude = 0.3193918681604313\n",
      "Longitude = 0.3214015696380781\n",
      "Number.of.Engines = 0.01456107574217558\n",
      "Make_AIR_TRACTION = 0.0011212250936275822\n",
      "Make_BEECH = 0.0064225039908064685\n",
      "Make_BELL = 0.0026984804461638178\n",
      "Make_BELLANCA = 0.0018671232671634839\n",
      "Make_CESSNA = 0.007480221849484897\n",
      "Make_MOONEY = 0.002933462783738189\n",
      "Make_OTHERS = 0.008561059646065673\n",
      "Make_PIPER = 0.0068455716625181\n",
      "Make_ROBINSON = 0.003705539691729467\n",
      "Make_ROBINSON_HELICOPTER = 0.002240633697413755\n",
      "Engine.Type_Electric = 0.00013277567088123735\n",
      "Engine.Type_None = 0.00010131049938201586\n",
      "Engine.Type_REC, ELEC = 2.3612837386705818e-05\n",
      "Engine.Type_REC, TJ, TJ = 6.777569027333401e-05\n",
      "Engine.Type_Reciprocating = 0.006908710499341861\n",
      "Engine.Type_TJ, REC, REC, TJ = 0.00010638276003543717\n",
      "Engine.Type_Turbo Fan = 0.0028900787661041106\n",
      "Engine.Type_Turbo Jet = 0.001750163925619814\n",
      "Engine.Type_Turbo Prop = 0.005054903852805723\n",
      "Engine.Type_Turbo Shaft = 0.004507021885181542\n",
      "Purpose.of.Flight_Aerial Application = 0.007346301450471444\n",
      "Purpose.of.Flight_Aerial Observation = 0.002651794827456095\n",
      "Purpose.of.Flight_Air Drop = 0.00016050125696675513\n",
      "Purpose.of.Flight_Air Race/Show = 0.0016095184199735853\n",
      "Purpose.of.Flight_Banner Tow = 0.0013389242539112646\n",
      "Purpose.of.Flight_Business = 0.005113618966734669\n",
      "Purpose.of.Flight_Executive/Corporate = 0.0015633738163858542\n",
      "Purpose.of.Flight_External Load = 0.0005058141663374064\n",
      "Purpose.of.Flight_Ferry = 0.0018990877124370718\n",
      "Purpose.of.Flight_Firefighting = 0.0003260647121453273\n",
      "Purpose.of.Flight_Flight Test = 0.002466655478850185\n",
      "Purpose.of.Flight_Glider Tow = 0.000909858102574388\n",
      "Purpose.of.Flight_Instructional = 0.006295288630562081\n",
      "Purpose.of.Flight_Other Work Use = 0.0034551006254353598\n",
      "Purpose.of.Flight_Personal = 0.0136688665823363\n",
      "Purpose.of.Flight_Positioning = 0.004858932338675718\n",
      "Purpose.of.Flight_Public Aircraft = 0.002083857698960829\n",
      "Purpose.of.Flight_Public Aircraft - Federal = 0.0012794726614908031\n",
      "Purpose.of.Flight_Public Aircraft - Local = 0.0007555376635058818\n",
      "Purpose.of.Flight_Public Aircraft - State = 0.0006489255520264083\n",
      "Purpose.of.Flight_Skydiving = 0.0011428210850909796\n",
      "Weather.Condition_IMC = 0.03359001155905368\n",
      "Weather.Condition_UNK = 0.000576815338309678\n",
      "Weather.Condition_VMC = 0.03650428813656655\n",
      "Broad.Phase.of.Flight_APPROACH = 0.008313486211426519\n",
      "Broad.Phase.of.Flight_CLIMB = 0.004511232553213799\n",
      "Broad.Phase.of.Flight_CRUISE = 0.008275622724499502\n",
      "Broad.Phase.of.Flight_DESCENT = 0.004742942712349037\n",
      "Broad.Phase.of.Flight_GO-AROUND = 0.0032987572230444655\n",
      "Broad.Phase.of.Flight_LANDING = 0.05587463643302509\n",
      "Broad.Phase.of.Flight_MANEUVERING = 0.0445635113685362\n",
      "Broad.Phase.of.Flight_OTHER = 0.0005494884784776592\n",
      "Broad.Phase.of.Flight_STANDING = 0.00269046626820705\n",
      "Broad.Phase.of.Flight_TAKEOFF = 0.00995167975831186\n",
      "Broad.Phase.of.Flight_TAXI = 0.005703673176242233\n"
     ]
    }
   ],
   "source": [
    "from sklearn.ensemble import RandomForestClassifier\n",
    "from sklearn.datasets import load_iris\n",
    "iris = load_iris()\n",
    "rnd_clf = RandomForestClassifier(n_estimators=500, n_jobs=-1, random_state=42)\n",
    "rnd_clf.fit(X_train, Y_train)\n",
    "for name, importance in zip(X_train, rnd_clf.feature_importances_):   \n",
    "    print(name, \"=\", importance)"
   ]
  },
  {
   "cell_type": "markdown",
   "metadata": {},
   "source": [
    "#### Importance of Weather"
   ]
  },
  {
   "cell_type": "code",
   "execution_count": 43,
   "metadata": {},
   "outputs": [
    {
     "data": {
      "text/plain": [
       "0.07067111503392992"
      ]
     },
     "execution_count": 43,
     "metadata": {},
     "output_type": "execute_result"
    }
   ],
   "source": [
    "weather = 0\n",
    "for name, importance in zip(X_train, rnd_clf.feature_importances_):   \n",
    "    if 'Weather' in name:\n",
    "        weather += importance\n",
    "weather"
   ]
  },
  {
   "cell_type": "markdown",
   "metadata": {},
   "source": [
    "#### Importance of Purpose of Flight"
   ]
  },
  {
   "cell_type": "code",
   "execution_count": 44,
   "metadata": {},
   "outputs": [
    {
     "data": {
      "text/plain": [
       "0.0600803160023284"
      ]
     },
     "execution_count": 44,
     "metadata": {},
     "output_type": "execute_result"
    }
   ],
   "source": [
    "Purpose = 0\n",
    "for name, importance in zip(X_train, rnd_clf.feature_importances_):   \n",
    "    if 'Purpose' in name:\n",
    "        Purpose += importance\n",
    "Purpose"
   ]
  },
  {
   "cell_type": "markdown",
   "metadata": {},
   "source": [
    "#### Importance of Make"
   ]
  },
  {
   "cell_type": "code",
   "execution_count": 45,
   "metadata": {},
   "outputs": [
    {
     "data": {
      "text/plain": [
       "0.04387582212871143"
      ]
     },
     "execution_count": 45,
     "metadata": {},
     "output_type": "execute_result"
    }
   ],
   "source": [
    "Make = 0\n",
    "for name, importance in zip(X_train, rnd_clf.feature_importances_):   \n",
    "    if 'Make' in name:\n",
    "        Make += importance\n",
    "Make"
   ]
  },
  {
   "cell_type": "markdown",
   "metadata": {},
   "source": [
    "#### Importance of Broad Phase of Flight"
   ]
  },
  {
   "cell_type": "code",
   "execution_count": 46,
   "metadata": {},
   "outputs": [
    {
     "data": {
      "text/plain": [
       "0.1484754969073334"
      ]
     },
     "execution_count": 46,
     "metadata": {},
     "output_type": "execute_result"
    }
   ],
   "source": [
    "Broad = 0\n",
    "for name, importance in zip(X_train, rnd_clf.feature_importances_):   \n",
    "    if 'Broad' in name:\n",
    "        Broad += importance\n",
    "Broad"
   ]
  },
  {
   "cell_type": "markdown",
   "metadata": {},
   "source": [
    "#### Importance of Engine Type"
   ]
  },
  {
   "cell_type": "code",
   "execution_count": 47,
   "metadata": {},
   "outputs": [
    {
     "data": {
      "text/plain": [
       "0.036103812129187354"
      ]
     },
     "execution_count": 47,
     "metadata": {},
     "output_type": "execute_result"
    }
   ],
   "source": [
    "Engine = 0\n",
    "for name, importance in zip(X_train, rnd_clf.feature_importances_):   \n",
    "    if 'Engine' in name:\n",
    "        Engine += importance\n",
    "Engine"
   ]
  },
  {
   "cell_type": "markdown",
   "metadata": {},
   "source": [
    "#### The top 3 most import variables with their accumulative feature_importance coefficient:\n",
    "\n",
    "#### 1.Broad phase of flight = 0.14475\n",
    "\n",
    "#### 2.Weather = 0.07138\n",
    "\n",
    "#### 3.Lat/Long = 0.639730081628594"
   ]
  },
  {
   "cell_type": "markdown",
   "metadata": {},
   "source": [
    "### Using SMOTE to train the Decision Tree "
   ]
  },
  {
   "cell_type": "code",
   "execution_count": 48,
   "metadata": {},
   "outputs": [
    {
     "data": {
      "text/plain": [
       "{0: 16399, 1: 3532}"
      ]
     },
     "execution_count": 48,
     "metadata": {},
     "output_type": "execute_result"
    }
   ],
   "source": [
    "unique, count = np.unique(Y_train, return_counts=True)\n",
    "Y_train_dict_value_count = { k:v for (k,v) in zip(unique, count)}\n",
    "Y_train_dict_value_count"
   ]
  },
  {
   "cell_type": "code",
   "execution_count": 49,
   "metadata": {},
   "outputs": [
    {
     "name": "stdout",
     "output_type": "stream",
     "text": [
      "[[3514  591]\n",
      " [ 530  348]]\n",
      "\n",
      "\n",
      "              precision    recall  f1-score   support\n",
      "\n",
      "           0       0.87      0.86      0.86      4105\n",
      "           1       0.37      0.40      0.38       878\n",
      "\n",
      "    accuracy                           0.78      4983\n",
      "   macro avg       0.62      0.63      0.62      4983\n",
      "weighted avg       0.78      0.78      0.78      4983\n",
      "\n"
     ]
    }
   ],
   "source": [
    "from imblearn.over_sampling import SMOTE\n",
    "\n",
    "smt = SMOTE(random_state = 12 , k_neighbors=1)\n",
    "X_train_res, Y_train_res = smt.fit_sample(X_train, Y_train)\n",
    "\n",
    "unique, count = np.unique(Y_train_res, return_counts=True)\n",
    "Y_train_dict_value_count = { k:v for (k,v) in zip(unique, count)}\n",
    "Y_train_dict_value_count\n",
    "\n",
    "dtree.fit(X_train_res, Y_train_res) #do the same thing with SMOTE on train data\n",
    "\n",
    "smote_pred = dtree.predict(X_test)\n",
    "\n",
    "print(confusion_matrix(Y_test, smote_pred))\n",
    "print('\\n')\n",
    "print(classification_report(Y_test, smote_pred))"
   ]
  },
  {
   "cell_type": "code",
   "execution_count": 50,
   "metadata": {},
   "outputs": [
    {
     "name": "stdout",
     "output_type": "stream",
     "text": [
      "[[3806  299]\n",
      " [ 583  295]]\n",
      "\n",
      "\n",
      "              precision    recall  f1-score   support\n",
      "\n",
      "           0       0.87      0.93      0.90      4105\n",
      "           1       0.50      0.34      0.40       878\n",
      "\n",
      "    accuracy                           0.82      4983\n",
      "   macro avg       0.68      0.63      0.65      4983\n",
      "weighted avg       0.80      0.82      0.81      4983\n",
      "\n"
     ]
    }
   ],
   "source": [
    "from sklearn.ensemble import RandomForestClassifier\n",
    "\n",
    "rfc = RandomForestClassifier(n_estimators=200)\n",
    "\n",
    "rfc.fit(X_train, Y_train)\n",
    "rfc_pred = rfc.predict(X_test)\n",
    "print(confusion_matrix(Y_test, rfc_pred))\n",
    "print('\\n')\n",
    "print(classification_report(Y_test, rfc_pred))#unbalanced dataset"
   ]
  },
  {
   "cell_type": "markdown",
   "metadata": {},
   "source": [
    "### Using SMOTE on train data and using it to train the Random Forest"
   ]
  },
  {
   "cell_type": "code",
   "execution_count": 51,
   "metadata": {},
   "outputs": [
    {
     "data": {
      "text/plain": [
       "{0: 16399, 1: 3532}"
      ]
     },
     "execution_count": 51,
     "metadata": {},
     "output_type": "execute_result"
    }
   ],
   "source": [
    "unique, count = np.unique(Y_train, return_counts=True)\n",
    "Y_train_dict_value_count = { k:v for (k,v) in zip(unique, count)}\n",
    "Y_train_dict_value_count"
   ]
  },
  {
   "cell_type": "code",
   "execution_count": 52,
   "metadata": {},
   "outputs": [],
   "source": [
    "smt = SMOTE(random_state = 12 , k_neighbors=5)\n",
    "X_train_res, Y_train_res = smt.fit_sample(X_train, Y_train)"
   ]
  },
  {
   "cell_type": "code",
   "execution_count": 53,
   "metadata": {
    "scrolled": true
   },
   "outputs": [
    {
     "data": {
      "text/plain": [
       "{0: 16399, 1: 16399}"
      ]
     },
     "execution_count": 53,
     "metadata": {},
     "output_type": "execute_result"
    }
   ],
   "source": [
    "unique, count = np.unique(Y_train_res, return_counts=True)\n",
    "Y_train_dict_value_count = { k:v for (k,v) in zip(unique, count)}\n",
    "Y_train_dict_value_count"
   ]
  },
  {
   "cell_type": "code",
   "execution_count": 54,
   "metadata": {},
   "outputs": [
    {
     "data": {
      "text/plain": [
       "RandomForestClassifier(bootstrap=True, ccp_alpha=0.0, class_weight=None,\n",
       "                       criterion='gini', max_depth=None, max_features='auto',\n",
       "                       max_leaf_nodes=None, max_samples=None,\n",
       "                       min_impurity_decrease=0.0, min_impurity_split=None,\n",
       "                       min_samples_leaf=1, min_samples_split=2,\n",
       "                       min_weight_fraction_leaf=0.0, n_estimators=200,\n",
       "                       n_jobs=None, oob_score=False, random_state=None,\n",
       "                       verbose=0, warm_start=False)"
      ]
     },
     "execution_count": 54,
     "metadata": {},
     "output_type": "execute_result"
    }
   ],
   "source": [
    "rfc.fit(X_train_res, Y_train_res) #train model with SMOTE train data"
   ]
  },
  {
   "cell_type": "code",
   "execution_count": 55,
   "metadata": {},
   "outputs": [],
   "source": [
    "rfc_smote_pred = rfc.predict(X_test)"
   ]
  },
  {
   "cell_type": "code",
   "execution_count": 56,
   "metadata": {},
   "outputs": [
    {
     "name": "stdout",
     "output_type": "stream",
     "text": [
      "[[3639  466]\n",
      " [ 516  362]]\n",
      "\n",
      "\n",
      "              precision    recall  f1-score   support\n",
      "\n",
      "           0       0.88      0.89      0.88      4105\n",
      "           1       0.44      0.41      0.42       878\n",
      "\n",
      "    accuracy                           0.80      4983\n",
      "   macro avg       0.66      0.65      0.65      4983\n",
      "weighted avg       0.80      0.80      0.80      4983\n",
      "\n"
     ]
    }
   ],
   "source": [
    "print(confusion_matrix(Y_test, rfc_smote_pred))\n",
    "print('\\n')\n",
    "print(classification_report(Y_test, rfc_smote_pred))"
   ]
  },
  {
   "cell_type": "markdown",
   "metadata": {},
   "source": [
    "### Evaluating the importance of each variable in the Random Forest Classifier after SMOTE"
   ]
  },
  {
   "cell_type": "code",
   "execution_count": 57,
   "metadata": {},
   "outputs": [
    {
     "name": "stdout",
     "output_type": "stream",
     "text": [
      "Latitude = 0.18806174776930742\n",
      "Longitude = 0.1945632321239782\n",
      "Number.of.Engines = 0.00802484367576279\n",
      "Make_AIR_TRACTION = 0.0026967176891708584\n",
      "Make_BEECH = 0.009765056371124264\n",
      "Make_BELL = 0.005544007021122532\n",
      "Make_BELLANCA = 0.0036914667989011735\n",
      "Make_CESSNA = 0.02228968427563058\n",
      "Make_MOONEY = 0.0049905144237250435\n",
      "Make_OTHERS = 0.02009404219896562\n",
      "Make_PIPER = 0.014889163569535124\n",
      "Make_ROBINSON = 0.006366966634534967\n",
      "Make_ROBINSON_HELICOPTER = 0.004980590316258402\n",
      "Engine.Type_Electric = 4.942554366431007e-05\n",
      "Engine.Type_None = 0.0001956920555028631\n",
      "Engine.Type_REC, ELEC = 4.0355630140585954e-05\n",
      "Engine.Type_REC, TJ, TJ = 5.794474408272828e-06\n",
      "Engine.Type_Reciprocating = 0.008914242531818915\n",
      "Engine.Type_TJ, REC, REC, TJ = 7.6214027362384594e-06\n",
      "Engine.Type_Turbo Fan = 0.002090436855553173\n",
      "Engine.Type_Turbo Jet = 0.0010528886069381968\n",
      "Engine.Type_Turbo Prop = 0.004956723372683262\n",
      "Engine.Type_Turbo Shaft = 0.008781926484633674\n",
      "Purpose.of.Flight_Aerial Application = 0.019073294949162694\n",
      "Purpose.of.Flight_Aerial Observation = 0.003410311593275971\n",
      "Purpose.of.Flight_Air Drop = 0.00019074581292413638\n",
      "Purpose.of.Flight_Air Race/Show = 0.0010091003935572065\n",
      "Purpose.of.Flight_Banner Tow = 0.001759360790177741\n",
      "Purpose.of.Flight_Business = 0.005742454132983374\n",
      "Purpose.of.Flight_Executive/Corporate = 0.0009186759627639619\n",
      "Purpose.of.Flight_External Load = 0.0007924098202275348\n",
      "Purpose.of.Flight_Ferry = 0.002402138850695728\n",
      "Purpose.of.Flight_Firefighting = 0.00028321402412081293\n",
      "Purpose.of.Flight_Flight Test = 0.004470581014669508\n",
      "Purpose.of.Flight_Glider Tow = 0.00040330526842709773\n",
      "Purpose.of.Flight_Instructional = 0.023199617350552627\n",
      "Purpose.of.Flight_Other Work Use = 0.004960171886609508\n",
      "Purpose.of.Flight_Personal = 0.01204132052666839\n",
      "Purpose.of.Flight_Positioning = 0.004813389122755448\n",
      "Purpose.of.Flight_Public Aircraft = 0.0021826880263718933\n",
      "Purpose.of.Flight_Public Aircraft - Federal = 0.000739448043294877\n",
      "Purpose.of.Flight_Public Aircraft - Local = 0.0006718994169153349\n",
      "Purpose.of.Flight_Public Aircraft - State = 0.0006583274272965822\n",
      "Purpose.of.Flight_Skydiving = 0.0021446788793332305\n",
      "Weather.Condition_IMC = 0.013099032800020817\n",
      "Weather.Condition_UNK = 0.00019228017228706544\n",
      "Weather.Condition_VMC = 0.04230062833668602\n",
      "Broad.Phase.of.Flight_APPROACH = 0.01914570402465741\n",
      "Broad.Phase.of.Flight_CLIMB = 0.008021631607585674\n",
      "Broad.Phase.of.Flight_CRUISE = 0.019840915415599965\n",
      "Broad.Phase.of.Flight_DESCENT = 0.00813643892351089\n",
      "Broad.Phase.of.Flight_GO-AROUND = 0.010751588479289764\n",
      "Broad.Phase.of.Flight_LANDING = 0.18423335001110772\n",
      "Broad.Phase.of.Flight_MANEUVERING = 0.026448559042782628\n",
      "Broad.Phase.of.Flight_OTHER = 0.000998507162115512\n",
      "Broad.Phase.of.Flight_STANDING = 0.009145445250379336\n",
      "Broad.Phase.of.Flight_TAKEOFF = 0.033368346574220546\n",
      "Broad.Phase.of.Flight_TAXI = 0.020397299080876417\n"
     ]
    }
   ],
   "source": [
    "rnd_clf.fit(X_train_res, Y_train_res)\n",
    "for name, importance in zip(X_train_res, rnd_clf.feature_importances_):   \n",
    "    print(name, \"=\", importance)"
   ]
  },
  {
   "cell_type": "markdown",
   "metadata": {},
   "source": [
    "#### Importance of Weather"
   ]
  },
  {
   "cell_type": "code",
   "execution_count": 58,
   "metadata": {},
   "outputs": [
    {
     "data": {
      "text/plain": [
       "0.055591941308993906"
      ]
     },
     "execution_count": 58,
     "metadata": {},
     "output_type": "execute_result"
    }
   ],
   "source": [
    "weather = 0\n",
    "for name, importance in zip(X_train, rnd_clf.feature_importances_):   \n",
    "    if 'Weather' in name:\n",
    "        weather += importance\n",
    "weather"
   ]
  },
  {
   "cell_type": "markdown",
   "metadata": {},
   "source": [
    "#### Importance of Purpose of Flight"
   ]
  },
  {
   "cell_type": "code",
   "execution_count": 59,
   "metadata": {},
   "outputs": [
    {
     "data": {
      "text/plain": [
       "0.09186713329278366"
      ]
     },
     "execution_count": 59,
     "metadata": {},
     "output_type": "execute_result"
    }
   ],
   "source": [
    "Purpose = 0\n",
    "for name, importance in zip(X_train, rnd_clf.feature_importances_):   \n",
    "    if 'Purpose' in name:\n",
    "        Purpose += importance\n",
    "Purpose"
   ]
  },
  {
   "cell_type": "markdown",
   "metadata": {},
   "source": [
    "#### Importance of Make"
   ]
  },
  {
   "cell_type": "code",
   "execution_count": 60,
   "metadata": {},
   "outputs": [
    {
     "data": {
      "text/plain": [
       "0.09530820929896858"
      ]
     },
     "execution_count": 60,
     "metadata": {},
     "output_type": "execute_result"
    }
   ],
   "source": [
    "Make = 0\n",
    "for name, importance in zip(X_train, rnd_clf.feature_importances_):   \n",
    "    if 'Make' in name:\n",
    "        Make += importance\n",
    "Make"
   ]
  },
  {
   "cell_type": "markdown",
   "metadata": {},
   "source": [
    "#### Importance of Broad Phase of Flight"
   ]
  },
  {
   "cell_type": "code",
   "execution_count": 61,
   "metadata": {},
   "outputs": [
    {
     "data": {
      "text/plain": [
       "0.3404877855721259"
      ]
     },
     "execution_count": 61,
     "metadata": {},
     "output_type": "execute_result"
    }
   ],
   "source": [
    "Broad = 0\n",
    "for name, importance in zip(X_train, rnd_clf.feature_importances_):   \n",
    "    if 'Broad' in name:\n",
    "        Broad += importance\n",
    "Broad"
   ]
  },
  {
   "cell_type": "markdown",
   "metadata": {},
   "source": [
    "#### Importance of Engine Type"
   ]
  },
  {
   "cell_type": "code",
   "execution_count": 62,
   "metadata": {},
   "outputs": [
    {
     "data": {
      "text/plain": [
       "0.03411995063384228"
      ]
     },
     "execution_count": 62,
     "metadata": {},
     "output_type": "execute_result"
    }
   ],
   "source": [
    "Engine = 0\n",
    "for name, importance in zip(X_train, rnd_clf.feature_importances_):   \n",
    "    if 'Engine' in name:\n",
    "        Engine += importance\n",
    "Engine"
   ]
  },
  {
   "cell_type": "markdown",
   "metadata": {},
   "source": [
    "#### The top 3 most important variables with their accumulative feature_importance coefficient after SMOTE\n",
    "\n",
    "#### 1.Longitude/Latitude = 0.38017\n",
    "\n",
    "#### 2.Broad Phase of Flight = 0.34268\n",
    "\n",
    "#### 3.Make = 0.096758"
   ]
  },
  {
   "cell_type": "markdown",
   "metadata": {},
   "source": [
    "#### After SMOTE, the importance of each variable in the Random Forest has changed. We have decided to use the top 3 most important variables in order to predict whether a plane crash will be fatal or not."
   ]
  },
  {
   "cell_type": "markdown",
   "metadata": {},
   "source": [
    "### Logistic Regression on the top 3 variables together"
   ]
  },
  {
   "cell_type": "code",
   "execution_count": 63,
   "metadata": {},
   "outputs": [],
   "source": [
    "from sklearn.linear_model import LogisticRegression"
   ]
  },
  {
   "cell_type": "code",
   "execution_count": 64,
   "metadata": {},
   "outputs": [],
   "source": [
    "# Extracting the top 3 variables\n",
    "Variables = adata[[\"Make\", \"Latitude\", \"Longitude\", \"Broad.Phase.of.Flight\"]]\n",
    "\n",
    "# Dummy Code the categorical variables\n",
    "X = pd.get_dummies(data=Variables)\n",
    "Y = adata[\"Fatality\"]\n",
    "\n",
    "# Train test split\n",
    "X_train, X_test, Y_train, Y_test = train_test_split(X, Y, test_size=0.20)"
   ]
  },
  {
   "cell_type": "code",
   "execution_count": 65,
   "metadata": {},
   "outputs": [
    {
     "name": "stderr",
     "output_type": "stream",
     "text": [
      "C:\\Users\\jinha\\anaconda3\\lib\\site-packages\\sklearn\\linear_model\\_logistic.py:940: ConvergenceWarning: lbfgs failed to converge (status=1):\n",
      "STOP: TOTAL NO. of ITERATIONS REACHED LIMIT.\n",
      "\n",
      "Increase the number of iterations (max_iter) or scale the data as shown in:\n",
      "    https://scikit-learn.org/stable/modules/preprocessing.html\n",
      "Please also refer to the documentation for alternative solver options:\n",
      "    https://scikit-learn.org/stable/modules/linear_model.html#logistic-regression\n",
      "  extra_warning_msg=_LOGISTIC_SOLVER_CONVERGENCE_MSG)\n"
     ]
    },
    {
     "data": {
      "text/plain": [
       "LogisticRegression(C=1.0, class_weight=None, dual=False, fit_intercept=True,\n",
       "                   intercept_scaling=1, l1_ratio=None, max_iter=100,\n",
       "                   multi_class='auto', n_jobs=None, penalty='l2',\n",
       "                   random_state=None, solver='lbfgs', tol=0.0001, verbose=0,\n",
       "                   warm_start=False)"
      ]
     },
     "execution_count": 65,
     "metadata": {},
     "output_type": "execute_result"
    }
   ],
   "source": [
    "logmodel = LogisticRegression()\n",
    "logmodel.fit(X_train, Y_train)"
   ]
  },
  {
   "cell_type": "code",
   "execution_count": 66,
   "metadata": {},
   "outputs": [],
   "source": [
    "predictions_log = logmodel.predict(X_test)"
   ]
  },
  {
   "cell_type": "code",
   "execution_count": 67,
   "metadata": {},
   "outputs": [
    {
     "name": "stdout",
     "output_type": "stream",
     "text": [
      "              precision    recall  f1-score   support\n",
      "\n",
      "           0       0.83      1.00      0.91      4127\n",
      "           1       0.63      0.03      0.05       856\n",
      "\n",
      "    accuracy                           0.83      4983\n",
      "   macro avg       0.73      0.51      0.48      4983\n",
      "weighted avg       0.80      0.83      0.76      4983\n",
      "\n",
      "[[4113   14]\n",
      " [ 832   24]]\n",
      "                           Predictors  Coefficients\n",
      "0                            Latitude     -0.013326\n",
      "1                           Longitude      0.002229\n",
      "2                   Make_AIR_TRACTION     -0.752305\n",
      "3                          Make_BEECH      0.773192\n",
      "4                           Make_BELL     -0.871960\n",
      "5                       Make_BELLANCA      0.049729\n",
      "6                         Make_CESSNA      0.069281\n",
      "7                         Make_MOONEY      0.571969\n",
      "8                         Make_OTHERS      0.208481\n",
      "9                          Make_PIPER      0.366090\n",
      "10                      Make_ROBINSON     -0.664803\n",
      "11           Make_ROBINSON_HELICOPTER     -0.724557\n",
      "12     Broad.Phase.of.Flight_APPROACH      0.520165\n",
      "13        Broad.Phase.of.Flight_CLIMB      0.674911\n",
      "14       Broad.Phase.of.Flight_CRUISE      0.610400\n",
      "15      Broad.Phase.of.Flight_DESCENT      0.645830\n",
      "16    Broad.Phase.of.Flight_GO-AROUND      0.098369\n",
      "17      Broad.Phase.of.Flight_LANDING     -2.340017\n",
      "18  Broad.Phase.of.Flight_MANEUVERING      1.253906\n",
      "19        Broad.Phase.of.Flight_OTHER     -0.056653\n",
      "20     Broad.Phase.of.Flight_STANDING     -0.567989\n",
      "21      Broad.Phase.of.Flight_TAKEOFF     -0.090126\n",
      "22         Broad.Phase.of.Flight_TAXI     -1.723678\n",
      "Explained Variance (R^2) train\t: 0.82394260197682\n",
      "Explained Variance (R^2) test\t: 0.8302227573750752\n"
     ]
    }
   ],
   "source": [
    "print(classification_report(Y_test, predictions_log))\n",
    "print(confusion_matrix(Y_test, predictions_log))\n",
    "print(pd.DataFrame(list(zip(X_train.columns, logmodel.coef_[0])), columns = [\"Predictors\", \"Coefficients\"]))\n",
    "\n",
    "print(\"Explained Variance (R^2) train\\t:\", logmodel.score(X_train, Y_train))\n",
    "print(\"Explained Variance (R^2) test\\t:\", logmodel.score(X_test, Y_test))"
   ]
  },
  {
   "cell_type": "markdown",
   "metadata": {},
   "source": [
    "### Logistic Regression on the top 3 variables together after SMOTE"
   ]
  },
  {
   "cell_type": "code",
   "execution_count": 68,
   "metadata": {},
   "outputs": [
    {
     "data": {
      "text/plain": [
       "{0: 16377, 1: 16377}"
      ]
     },
     "execution_count": 68,
     "metadata": {},
     "output_type": "execute_result"
    }
   ],
   "source": [
    "unique, count = np.unique(Y_train, return_counts=True)\n",
    "Y_train_dict_value_count = { k:v for (k,v) in zip(unique, count)}\n",
    "Y_train_dict_value_count\n",
    "\n",
    "smt = SMOTE(random_state = 12 , k_neighbors=5)\n",
    "X_train_res, Y_train_res = smt.fit_sample(X_train, Y_train)\n",
    "\n",
    "unique, count = np.unique(Y_train_res, return_counts=True)\n",
    "Y_train_dict_value_count = { k:v for (k,v) in zip(unique, count)}\n",
    "Y_train_dict_value_count"
   ]
  },
  {
   "cell_type": "code",
   "execution_count": 69,
   "metadata": {},
   "outputs": [
    {
     "name": "stderr",
     "output_type": "stream",
     "text": [
      "C:\\Users\\jinha\\anaconda3\\lib\\site-packages\\sklearn\\linear_model\\_logistic.py:940: ConvergenceWarning: lbfgs failed to converge (status=1):\n",
      "STOP: TOTAL NO. of ITERATIONS REACHED LIMIT.\n",
      "\n",
      "Increase the number of iterations (max_iter) or scale the data as shown in:\n",
      "    https://scikit-learn.org/stable/modules/preprocessing.html\n",
      "Please also refer to the documentation for alternative solver options:\n",
      "    https://scikit-learn.org/stable/modules/linear_model.html#logistic-regression\n",
      "  extra_warning_msg=_LOGISTIC_SOLVER_CONVERGENCE_MSG)\n"
     ]
    },
    {
     "data": {
      "text/plain": [
       "LogisticRegression(C=1.0, class_weight=None, dual=False, fit_intercept=True,\n",
       "                   intercept_scaling=1, l1_ratio=None, max_iter=100,\n",
       "                   multi_class='auto', n_jobs=None, penalty='l2',\n",
       "                   random_state=None, solver='lbfgs', tol=0.0001, verbose=0,\n",
       "                   warm_start=False)"
      ]
     },
     "execution_count": 69,
     "metadata": {},
     "output_type": "execute_result"
    }
   ],
   "source": [
    "logmodel.fit(X_train_res, Y_train_res)"
   ]
  },
  {
   "cell_type": "code",
   "execution_count": 70,
   "metadata": {},
   "outputs": [],
   "source": [
    "predictions_log = logmodel.predict(X_test)"
   ]
  },
  {
   "cell_type": "code",
   "execution_count": 71,
   "metadata": {},
   "outputs": [
    {
     "name": "stdout",
     "output_type": "stream",
     "text": [
      "              precision    recall  f1-score   support\n",
      "\n",
      "           0       0.89      0.82      0.85      4127\n",
      "           1       0.38      0.52      0.44       856\n",
      "\n",
      "    accuracy                           0.77      4983\n",
      "   macro avg       0.63      0.67      0.65      4983\n",
      "weighted avg       0.80      0.77      0.78      4983\n",
      "\n",
      "[[3387  740]\n",
      " [ 410  446]]\n",
      "                           Predictors  Coefficients\n",
      "0                            Latitude     -0.031011\n",
      "1                           Longitude      0.003330\n",
      "2                   Make_AIR_TRACTION     -4.245642\n",
      "3                          Make_BEECH     -2.549062\n",
      "4                           Make_BELL     -5.333548\n",
      "5                       Make_BELLANCA     -2.305212\n",
      "6                         Make_CESSNA     -3.131779\n",
      "7                         Make_MOONEY     -2.677501\n",
      "8                         Make_OTHERS     -2.743211\n",
      "9                          Make_PIPER     -2.883752\n",
      "10                      Make_ROBINSON     -4.536606\n",
      "11           Make_ROBINSON_HELICOPTER     -3.985779\n",
      "12     Broad.Phase.of.Flight_APPROACH     -4.244285\n",
      "13        Broad.Phase.of.Flight_CLIMB     -4.398190\n",
      "14       Broad.Phase.of.Flight_CRUISE     -4.181150\n",
      "15      Broad.Phase.of.Flight_DESCENT     -4.658173\n",
      "16    Broad.Phase.of.Flight_GO-AROUND     -5.419030\n",
      "17      Broad.Phase.of.Flight_LANDING     -7.613482\n",
      "18  Broad.Phase.of.Flight_MANEUVERING     -3.248608\n",
      "19        Broad.Phase.of.Flight_OTHER     -0.866864\n",
      "20     Broad.Phase.of.Flight_STANDING     -5.545991\n",
      "21      Broad.Phase.of.Flight_TAKEOFF     -4.666575\n",
      "22         Broad.Phase.of.Flight_TAXI     -7.841050\n",
      "Explained Variance (R^2) train\t: 0.7545030354723797\n",
      "Explained Variance (R^2) test\t: 0.7692153321292394\n"
     ]
    }
   ],
   "source": [
    "print(classification_report(Y_test, predictions_log)) #with smote\n",
    "print(confusion_matrix(Y_test, predictions_log))\n",
    "print(pd.DataFrame(list(zip(X_train.columns, logmodel.coef_[0])), columns = [\"Predictors\", \"Coefficients\"]))\n",
    "\n",
    "print(\"Explained Variance (R^2) train\\t:\", logmodel.score(X_train, Y_train))\n",
    "print(\"Explained Variance (R^2) test\\t:\", logmodel.score(X_test, Y_test))"
   ]
  },
  {
   "cell_type": "markdown",
   "metadata": {},
   "source": [
    "#### It appears that SMOTE training data has made the mode worse, with a lower R^2 for both train and test data, and a lower weighted average classification accuracy.\n",
    "\n",
    "#### However, SMOTE has made the model much better at predicting fatalities, with \"True\" recall improving greatly, making the model a much better balanced one"
   ]
  },
  {
   "cell_type": "markdown",
   "metadata": {},
   "source": [
    "______________________________________________________________________________________________________________________\n",
    "\n",
    "### Using the Logistic Regression model to predict probability of fatality given a list containing:\n",
    "\n",
    "#### 1.Longitude and Latitude\n",
    "\n",
    "#### 2.Phase of flight\n",
    "\n",
    "#### 3.Make"
   ]
  },
  {
   "cell_type": "code",
   "execution_count": 72,
   "metadata": {},
   "outputs": [],
   "source": [
    "testing_data = [[50,-100,\"LANDING\",\"CESSNA\"],[80,-120,\"CLIMB\",\"BEECH\"]]"
   ]
  },
  {
   "cell_type": "code",
   "execution_count": 73,
   "metadata": {},
   "outputs": [
    {
     "name": "stdout",
     "output_type": "stream",
     "text": [
      "['Latitude', 'Longitude', 'Make_AIR_TRACTION', 'Make_BEECH', 'Make_BELL', 'Make_BELLANCA', 'Make_CESSNA', 'Make_MOONEY', 'Make_OTHERS', 'Make_PIPER', 'Make_ROBINSON', 'Make_ROBINSON_HELICOPTER', 'Broad.Phase.of.Flight_APPROACH', 'Broad.Phase.of.Flight_CLIMB', 'Broad.Phase.of.Flight_CRUISE', 'Broad.Phase.of.Flight_DESCENT', 'Broad.Phase.of.Flight_GO-AROUND', 'Broad.Phase.of.Flight_LANDING', 'Broad.Phase.of.Flight_MANEUVERING', 'Broad.Phase.of.Flight_OTHER', 'Broad.Phase.of.Flight_STANDING', 'Broad.Phase.of.Flight_TAKEOFF', 'Broad.Phase.of.Flight_TAXI']\n"
     ]
    },
    {
     "data": {
      "text/plain": [
       "[[50, -100, 0, 0, 0, 0, 1, 0, 0, 0, 0, 0, 0, 0, 0, 0, 0, 1, 0, 0, 0, 0, 0],\n",
       " [80, -120, 0, 1, 0, 0, 0, 0, 0, 0, 0, 0, 0, 1, 0, 0, 0, 0, 0, 0, 0, 0, 0]]"
      ]
     },
     "execution_count": 73,
     "metadata": {},
     "output_type": "execute_result"
    }
   ],
   "source": [
    "column_name = list(X_train_res) #amending list such that it fits into the columns of the dataframe used in the model\n",
    "print(column_name)\n",
    "for i in testing_data:\n",
    "    for variable in column_name:\n",
    "        if i[2] in variable or i[3] in variable:\n",
    "            i.append(1)\n",
    "        else:\n",
    "            i.append(0)\n",
    "    del i[2:6]\n",
    "testing_data"
   ]
  },
  {
   "cell_type": "code",
   "execution_count": 74,
   "metadata": {},
   "outputs": [],
   "source": [
    "testing_df = pd.DataFrame(testing_data, columns=column_name)\n",
    "testing_df = pd.get_dummies(testing_df)"
   ]
  },
  {
   "cell_type": "code",
   "execution_count": 75,
   "metadata": {},
   "outputs": [
    {
     "data": {
      "text/html": [
       "<div>\n",
       "<style scoped>\n",
       "    .dataframe tbody tr th:only-of-type {\n",
       "        vertical-align: middle;\n",
       "    }\n",
       "\n",
       "    .dataframe tbody tr th {\n",
       "        vertical-align: top;\n",
       "    }\n",
       "\n",
       "    .dataframe thead th {\n",
       "        text-align: right;\n",
       "    }\n",
       "</style>\n",
       "<table border=\"1\" class=\"dataframe\">\n",
       "  <thead>\n",
       "    <tr style=\"text-align: right;\">\n",
       "      <th></th>\n",
       "      <th>Latitude</th>\n",
       "      <th>Longitude</th>\n",
       "      <th>Make_AIR_TRACTION</th>\n",
       "      <th>Make_BEECH</th>\n",
       "      <th>Make_BELL</th>\n",
       "      <th>Make_BELLANCA</th>\n",
       "      <th>Make_CESSNA</th>\n",
       "      <th>Make_MOONEY</th>\n",
       "      <th>Make_OTHERS</th>\n",
       "      <th>Make_PIPER</th>\n",
       "      <th>...</th>\n",
       "      <th>Broad.Phase.of.Flight_CLIMB</th>\n",
       "      <th>Broad.Phase.of.Flight_CRUISE</th>\n",
       "      <th>Broad.Phase.of.Flight_DESCENT</th>\n",
       "      <th>Broad.Phase.of.Flight_GO-AROUND</th>\n",
       "      <th>Broad.Phase.of.Flight_LANDING</th>\n",
       "      <th>Broad.Phase.of.Flight_MANEUVERING</th>\n",
       "      <th>Broad.Phase.of.Flight_OTHER</th>\n",
       "      <th>Broad.Phase.of.Flight_STANDING</th>\n",
       "      <th>Broad.Phase.of.Flight_TAKEOFF</th>\n",
       "      <th>Broad.Phase.of.Flight_TAXI</th>\n",
       "    </tr>\n",
       "  </thead>\n",
       "  <tbody>\n",
       "    <tr>\n",
       "      <th>0</th>\n",
       "      <td>50</td>\n",
       "      <td>-100</td>\n",
       "      <td>0</td>\n",
       "      <td>0</td>\n",
       "      <td>0</td>\n",
       "      <td>0</td>\n",
       "      <td>1</td>\n",
       "      <td>0</td>\n",
       "      <td>0</td>\n",
       "      <td>0</td>\n",
       "      <td>...</td>\n",
       "      <td>0</td>\n",
       "      <td>0</td>\n",
       "      <td>0</td>\n",
       "      <td>0</td>\n",
       "      <td>1</td>\n",
       "      <td>0</td>\n",
       "      <td>0</td>\n",
       "      <td>0</td>\n",
       "      <td>0</td>\n",
       "      <td>0</td>\n",
       "    </tr>\n",
       "    <tr>\n",
       "      <th>1</th>\n",
       "      <td>80</td>\n",
       "      <td>-120</td>\n",
       "      <td>0</td>\n",
       "      <td>1</td>\n",
       "      <td>0</td>\n",
       "      <td>0</td>\n",
       "      <td>0</td>\n",
       "      <td>0</td>\n",
       "      <td>0</td>\n",
       "      <td>0</td>\n",
       "      <td>...</td>\n",
       "      <td>1</td>\n",
       "      <td>0</td>\n",
       "      <td>0</td>\n",
       "      <td>0</td>\n",
       "      <td>0</td>\n",
       "      <td>0</td>\n",
       "      <td>0</td>\n",
       "      <td>0</td>\n",
       "      <td>0</td>\n",
       "      <td>0</td>\n",
       "    </tr>\n",
       "  </tbody>\n",
       "</table>\n",
       "<p>2 rows × 23 columns</p>\n",
       "</div>"
      ],
      "text/plain": [
       "   Latitude  Longitude  Make_AIR_TRACTION  Make_BEECH  Make_BELL  \\\n",
       "0        50       -100                  0           0          0   \n",
       "1        80       -120                  0           1          0   \n",
       "\n",
       "   Make_BELLANCA  Make_CESSNA  Make_MOONEY  Make_OTHERS  Make_PIPER  ...  \\\n",
       "0              0            1            0            0           0  ...   \n",
       "1              0            0            0            0           0  ...   \n",
       "\n",
       "   Broad.Phase.of.Flight_CLIMB  Broad.Phase.of.Flight_CRUISE  \\\n",
       "0                            0                             0   \n",
       "1                            1                             0   \n",
       "\n",
       "   Broad.Phase.of.Flight_DESCENT  Broad.Phase.of.Flight_GO-AROUND  \\\n",
       "0                              0                                0   \n",
       "1                              0                                0   \n",
       "\n",
       "   Broad.Phase.of.Flight_LANDING  Broad.Phase.of.Flight_MANEUVERING  \\\n",
       "0                              1                                  0   \n",
       "1                              0                                  0   \n",
       "\n",
       "   Broad.Phase.of.Flight_OTHER  Broad.Phase.of.Flight_STANDING  \\\n",
       "0                            0                               0   \n",
       "1                            0                               0   \n",
       "\n",
       "   Broad.Phase.of.Flight_TAKEOFF  Broad.Phase.of.Flight_TAXI  \n",
       "0                              0                           0  \n",
       "1                              0                           0  \n",
       "\n",
       "[2 rows x 23 columns]"
      ]
     },
     "execution_count": 75,
     "metadata": {},
     "output_type": "execute_result"
    }
   ],
   "source": [
    "testing_df"
   ]
  },
  {
   "cell_type": "code",
   "execution_count": 76,
   "metadata": {},
   "outputs": [
    {
     "name": "stdout",
     "output_type": "stream",
     "text": [
      "Fatality Probability:\t 0.017555078614696507\n",
      "Fatality Probability:\t 0.2273025958584837\n"
     ]
    }
   ],
   "source": [
    "Predictions = logmodel.predict_proba(testing_df)\n",
    "for prob in Predictions:\n",
    "    print(\"Fatality Probability:\\t\" ,prob[1])"
   ]
  },
  {
   "cell_type": "markdown",
   "metadata": {},
   "source": [
    "#### These are the probabilities that the plane crash will result in fatality, given the values in testing_data"
   ]
  }
 ],
 "metadata": {
  "kernelspec": {
   "display_name": "Python 3",
   "language": "python",
   "name": "python3"
  },
  "language_info": {
   "codemirror_mode": {
    "name": "ipython",
    "version": 3
   },
   "file_extension": ".py",
   "mimetype": "text/x-python",
   "name": "python",
   "nbconvert_exporter": "python",
   "pygments_lexer": "ipython3",
   "version": "3.7.4"
  }
 },
 "nbformat": 4,
 "nbformat_minor": 2
}
